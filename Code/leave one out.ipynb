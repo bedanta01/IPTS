{
 "cells": [
  {
   "cell_type": "code",
   "execution_count": 1,
   "metadata": {},
   "outputs": [],
   "source": [
    "import pandas as pd\n",
    "import os\n",
    "import torch \n",
    "import torch.nn as nn\n",
    "import torchvision\n",
    "import codecs\n",
    "from collections import Counter,defaultdict\n",
    "from nltk.corpus import stopwords\n",
    "import numpy as np\n",
    "import torch as torch\n",
    "import torch.nn as nn\n",
    "import torch.nn.functional as F\n",
    "import torch.optim as optim\n",
    "from torch.autograd import Variable\n",
    "import time\n",
    "import matplotlib.pyplot as plt\n",
    "from sklearn.metrics import accuracy_score\n",
    "from gensim.models import Word2Vec\n",
    "from nltk.corpus import stopwords\n",
    "import string"
   ]
  },
  {
   "cell_type": "code",
   "execution_count": 2,
   "metadata": {},
   "outputs": [],
   "source": [
    "#raw_dataframe = pd.read_csv(\"../data/Labelled_tweets_v1.csv\",header = None)\n",
    "tweets = []\n",
    "data_pd = pd.read_csv(\"../data/Labelled_tweets_v1.csv\")\n",
    "#print(data_pd.head(10))\n",
    "data_tweet = data_pd['Tweet']\n",
    "for i in data_tweet:\n",
    "  j = i.split()\n",
    "  for k in j:\n",
    "    tweets.append(k)"
   ]
  },
  {
   "cell_type": "code",
   "execution_count": 4,
   "metadata": {},
   "outputs": [],
   "source": [
    "issues_pd = data_pd['Issue']\n",
    "stance_pd = data_pd['Stance']\n",
    "\n",
    "all_words = tweets\n",
    "word2cnt = Counter(all_words)\n",
    "stop_words = stopwords.words('english')"
   ]
  },
  {
   "cell_type": "code",
   "execution_count": 5,
   "metadata": {},
   "outputs": [],
   "source": [
    "with codecs.open('vocab_real.csv', 'w', 'utf-8') as fout:\n",
    "  fout.write(\"{}{}1000000000\\n{}{}1000000000\\n{}{}1000000000\\n{}{}1000000000\\n\".format(\"<PAD>\",\",\", \"<UNK>\",\",\", \"<S>\",\",\", \"</S>\",\",\"))\n",
    "  for word, cnt in word2cnt.most_common(len(word2cnt)):\n",
    "    if(word not in stop_words):\n",
    "      fout.write(\"{}{}{} \\n\".format(word,',',cnt))"
   ]
  },
  {
   "cell_type": "code",
   "execution_count": 6,
   "metadata": {},
   "outputs": [
    {
     "name": "stdout",
     "output_type": "stream",
     "text": [
      "['GST', 'PNB Scam', 'FDIPolicy', 'Padmavati film screening', 'Cauvery SC Verdict', 'Jallikattu ban', 'GDP growth', 'RightToPrivacy SC Verdict', 'Demonetisation', 'Swacch Bharat', 'Aadhar linking', 'Triple Talaq SC verdict', 'TripleTalaqBill', 'lgp price hike', 'reservation', 'Beef Ban', 'Inflation control', 'nsc and ppf rate cuts', 'Ram Mandir', 'EVM tampering', 'Fodder scam', 'hike in oil prices', 'Rohingyas', 'acchedin']\n",
      "[['a no of people approach me daily worried abt the safety of their money in banks considering large no of bank frauds coming to light daily pm may kindly inform the public which bank is safe for people to keep their money URL sir there is a big rumour people are very skeptical that their saved money in the banks can go for a toss anytime hope wish pray that you our people all of us save the hard earned money in banks improve our incomes strengthen the income tax system'\n",
      "  'ArvindKejriwal' 'AAP' 'GST' 'Disagreement']\n",
      " ['its now revealed that our fms silence on the pnb scam was to protect his lawyer daughter who was paid a large retainer by the accused just a month before the scam became public when other law firms of the accused have been raided by the cbi why not hers modirobsindia URL you know doing something right when the ruling dispensation tries to rebut a story that has not even been published yet URL'\n",
      "  'ArvindKejriwal' 'AAP' 'PNB Scam' 'Neutral']\n",
      " ['pnb scam started in is going on till today the bjp is accusing the cong and cong bjp is also on the side of cong pnb scam started in is going on till today the bjp is accusing the cong and cong bjp is the only one that all the scams of cong time are still going on earlier cong was earning now the bjp earns from those scams that is why till today the bjp has not sent a single congressman to jail in any scam'\n",
      "  'ArvindKejriwal' 'AAP' 'PNB Scam' 'Neutral']\n",
      " ['would bjp confirm this if true what transpired in that meeting breaking my sources tell me that niravmodi his brother had a privileged private meeting with USER_MENTION in davos'\n",
      "  'ArvindKejriwal' 'AAP' 'PNB Scam' 'Neutral']\n",
      " ['bjp insiders telling that niravmodi been a regular donor to the party coffers since modi was cm that is primarily the reason behind his closer proximity to pmo why pm decided to look the other way it is just not a bank fraud but has all the ingrediants of a massive scam URL breaking cnnnews18 has accessed complainant letter to pmo on nirav modi complainant received acknowledgment from pmo over letter in USER_MENTION with details bigbankscam'\n",
      "  'ArvindKejriwal' 'AAP' 'PNB Scam' 'Neutral']]\n"
     ]
    }
   ],
   "source": [
    "issues = []\n",
    "for iss in issues_pd:\n",
    "  if iss not in issues:\n",
    "    issues.append(iss)\n",
    "    \n",
    "print(issues)\n",
    "\n",
    "word_counts = pd.read_csv(\"vocab_real.csv\",header=None)\n",
    "data_list = data_pd.values\n",
    "print(data_list[0:5])"
   ]
  },
  {
   "cell_type": "code",
   "execution_count": 39,
   "metadata": {},
   "outputs": [
    {
     "name": "stdout",
     "output_type": "stream",
     "text": [
      "[['a', 'no', 'of', 'people', 'approach', 'me', 'daily', 'worried', 'abt', 'the', 'safety', 'of', 'their', 'money', 'in', 'banks', 'considering', 'large', 'no', 'of', 'bank', 'frauds', 'coming', 'to', 'light', 'daily', 'pm', 'may', 'kindly', 'inform', 'the', 'public', 'which', 'bank', 'is', 'safe', 'for', 'people', 'to', 'keep', 'their', 'money', 'URL', 'sir', 'there', 'is', 'a', 'big', 'rumour', 'people', 'are', 'very', 'skeptical', 'that', 'their', 'saved', 'money', 'in', 'the', 'banks', 'can', 'go', 'for', 'a', 'toss', 'anytime', 'hope', 'wish', 'pray', 'that', 'you', 'our', 'people', 'all', 'of', 'us', 'save', 'the', 'hard', 'earned', 'money', 'in', 'banks', 'improve', 'our', 'incomes', 'strengthen', 'the', 'income', 'tax', 'system'], ['its', 'now', 'revealed', 'that', 'our', 'fms', 'silence', 'on', 'the', 'pnb', 'scam', 'was', 'to', 'protect', 'his', 'lawyer', 'daughter', 'who', 'was', 'paid', 'a', 'large', 'retainer', 'by', 'the', 'accused', 'just', 'a', 'month', 'before', 'the', 'scam', 'became', 'public', 'when', 'other', 'law', 'firms', 'of', 'the', 'accused', 'have', 'been', 'raided', 'by', 'the', 'cbi', 'why', 'not', 'hers', 'modirobsindia', 'URL', 'you', 'know', 'doing', 'something', 'right', 'when', 'the', 'ruling', 'dispensation', 'tries', 'to', 'rebut', 'a', 'story', 'that', 'has', 'not', 'even', 'been', 'published', 'yet', 'URL'], ['pnb', 'scam', 'started', 'in', 'is', 'going', 'on', 'till', 'today', 'the', 'bjp', 'is', 'accusing', 'the', 'cong', 'and', 'cong', 'bjp', 'is', 'also', 'on', 'the', 'side', 'of', 'cong', 'pnb', 'scam', 'started', 'in', 'is', 'going', 'on', 'till', 'today', 'the', 'bjp', 'is', 'accusing', 'the', 'cong', 'and', 'cong', 'bjp', 'is', 'the', 'only', 'one', 'that', 'all', 'the', 'scams', 'of', 'cong', 'time', 'are', 'still', 'going', 'on', 'earlier', 'cong', 'was', 'earning', 'now', 'the', 'bjp', 'earns', 'from', 'those', 'scams', 'that', 'is', 'why', 'till', 'today', 'the', 'bjp', 'has', 'not', 'sent', 'a', 'single', 'congressman', 'to', 'jail', 'in', 'any', 'scam'], ['would', 'bjp', 'confirm', 'this', 'if', 'true', 'what', 'transpired', 'in', 'that', 'meeting', 'breaking', 'my', 'sources', 'tell', 'me', 'that', 'niravmodi', 'his', 'brother', 'had', 'a', 'privileged', 'private', 'meeting', 'with', 'USER_MENTION', 'in', 'davos'], ['bjp', 'insiders', 'telling', 'that', 'niravmodi', 'been', 'a', 'regular', 'donor', 'to', 'the', 'party', 'coffers', 'since', 'modi', 'was', 'cm', 'that', 'is', 'primarily', 'the', 'reason', 'behind', 'his', 'closer', 'proximity', 'to', 'pmo', 'why', 'pm', 'decided', 'to', 'look', 'the', 'other', 'way', 'it', 'is', 'just', 'not', 'a', 'bank', 'fraud', 'but', 'has', 'all', 'the', 'ingrediants', 'of', 'a', 'massive', 'scam', 'URL', 'breaking', 'cnnnews18', 'has', 'accessed', 'complainant', 'letter', 'to', 'pmo', 'on', 'nirav', 'modi', 'complainant', 'received', 'acknowledgment', 'from', 'pmo', 'over', 'letter', 'in', 'USER_MENTION', 'with', 'details', 'bigbankscam']]\n"
     ]
    }
   ],
   "source": [
    "data_tweet = data_tweet.values.tolist()\n",
    "for i in range(0,len(data_tweet)):\n",
    "    data_tweet[i] = data_tweet[i].split()\n",
    "    \n",
    "print(data_tweet[0:5])"
   ]
  },
  {
   "cell_type": "code",
   "execution_count": 71,
   "metadata": {},
   "outputs": [],
   "source": [
    "max_tweet_size = 0\n",
    "for i in data_tweet:\n",
    "    if(len(i)>max_tweet_size):\n",
    "        max_tweet_size = len(i)"
   ]
  },
  {
   "cell_type": "code",
   "execution_count": 72,
   "metadata": {},
   "outputs": [
    {
     "data": {
      "text/plain": [
       "120"
      ]
     },
     "execution_count": 72,
     "metadata": {},
     "output_type": "execute_result"
    }
   ],
   "source": [
    "max_tweet_size"
   ]
  },
  {
   "cell_type": "code",
   "execution_count": 40,
   "metadata": {},
   "outputs": [],
   "source": [
    "stopset = stopwords.words('english') + list(string.punctuation) + ['will', 'also', 'said','a','URL','USER_MENTION']\n",
    "tweets_after_stop_words=[]\n",
    "for i in data_tweet:\n",
    "    tweet = []\n",
    "    for j in i:\n",
    "        if(j not in stopset):\n",
    "            tweet.append(j)\n",
    "    tweets_after_stop_words.append(tweet)"
   ]
  },
  {
   "cell_type": "code",
   "execution_count": null,
   "metadata": {},
   "outputs": [],
   "source": []
  },
  {
   "cell_type": "code",
   "execution_count": 51,
   "metadata": {},
   "outputs": [],
   "source": [
    "model_wv = Word2Vec(data_tweet,min_count=0,window=5,size=100)\n",
    "#len(word_counts)"
   ]
  },
  {
   "cell_type": "code",
   "execution_count": 42,
   "metadata": {},
   "outputs": [
    {
     "name": "stderr",
     "output_type": "stream",
     "text": [
      "/home/bedanta/ml/lib/python3.5/site-packages/ipykernel_launcher.py:3: DeprecationWarning: Call to deprecated `__getitem__` (Method will be removed in 4.0.0, use self.wv.__getitem__() instead).\n",
      "  This is separate from the ipykernel package so we can avoid doing imports until\n"
     ]
    }
   ],
   "source": [
    "tweet_vectors =[]\n",
    "for i in range(0,len(tweets_after_stop_words)):\n",
    "    tweet_vectors.append(model_wv[tweets_after_stop_words[i]])"
   ]
  },
  {
   "cell_type": "code",
   "execution_count": 43,
   "metadata": {},
   "outputs": [],
   "source": [
    "# tweets_after_stop_words[0:5]"
   ]
  },
  {
   "cell_type": "code",
   "execution_count": null,
   "metadata": {},
   "outputs": [],
   "source": []
  },
  {
   "cell_type": "code",
   "execution_count": 3,
   "metadata": {},
   "outputs": [],
   "source": [
    "class Net(nn.Module):\n",
    "    def __init__(self,vocab_size, hidden_size,input_size):\n",
    "        super(Net,self).__init__()\n",
    "        self.hidden_size = hidden_size\n",
    "        self.input_size = input_size\n",
    "        self.word_embeddings = nn.Embedding(vocab_size+106,100)\n",
    "        self.GRU = nn.GRU(100,self.hidden_size,num_layers = 1, batch_first = True)\n",
    "        self.linear = nn.Linear(self.hidden_size, 3)\n",
    "        self.softmax = nn.Softmax(dim=1)\n",
    "        \n",
    "        self.linear_label = nn.Linear(self.input_size, hidden_size)\n",
    "        self.out_label = nn.Linear(self.hidden_size,self.output_size_label)\n",
    "    \n",
    "    def forward(self,x_input,hidden_state):\n",
    "        embedded = self.word_embeddings(x_input)\n",
    "        #print(embedded.shape)\n",
    "        #output = embedded.view(-1,-1, self.hidden_size)\n",
    "        output, hn = self.GRU(embedded)\n",
    "        #hn_ = hn[0].reshape(x_input.shape[0],output.shape[1]*output.shape[2])\n",
    "        #print(output.shape)\n",
    "        #linear = self.linear(hn)\n",
    "        #print(linear.shape)\n",
    "        output_1 = self.linear_issue(hn)\n",
    "        output_1 = F.relu(output_1)\n",
    "        output_1 = self.out_issue(output_1)\n",
    "        output_1 = self.softmax(output_1)\n",
    "        \n",
    "        return class_labels\n",
    "\n",
    "    def H_t0(self, batch_size):\n",
    "        return torch.zeros(1,batch_size,self.hidden_size)"
   ]
  },
  {
   "cell_type": "code",
   "execution_count": 45,
   "metadata": {},
   "outputs": [],
   "source": [
    "def issue_vocab(issues,want = 'issue2id'):\n",
    "    if(want == 'issue2id'):\n",
    "        issue2idx = {issue:idx for idx,issue in enumerate(issues)}\n",
    "        return issue2idx\n",
    "    \n",
    "    else:\n",
    "        idx2issue = {idx:issue for idx,issue in enumerate(issues)}\n",
    "        return idx2issue\n",
    "    \n",
    "def sent_vocab(want = 'sent2id'):\n",
    "    sent2id = {'Disagreement':0,'Neutral':1,'Agreement':2}\n",
    "    id2sent = {0:'Disagreement',1:'Neutral',2:'Agreement'}\n",
    "    if(want == 'sent2id'):\n",
    "        return sent2id\n",
    "\n",
    "    else:\n",
    "        #idx2issue = {idx:issue for idx,issue in enumerate(issues)}\n",
    "        return idx2sent\n",
    "\n",
    "def load_vocab():\n",
    "    load_words = open(\"vocab_real.csv\").readlines()\n",
    "    for i in range(len(load_words)):\n",
    "        load_words[i] = load_words[i].split(',')\n",
    "    vocab = [load_words[i][0] for i in range(len(load_words))]\n",
    "    word2idx = {word: idx for idx, word in enumerate(vocab)}\n",
    "    idx2word = {idx: word for idx, word in enumerate(vocab)}\n",
    "    return word2idx, idx2word"
   ]
  },
  {
   "cell_type": "code",
   "execution_count": 134,
   "metadata": {},
   "outputs": [],
   "source": [
    "def create_data(tweets, issue_, sentiments,issues):\n",
    "    #print(len(tweets))\n",
    "    stop_words = ['the','of','in','and','a','is','on','this','all','it','will','for','to','be','with',\n",
    "              'at','are','u','has','that','by','from', 'as','was','have','its','an','if','been','be','also','should','which']\n",
    "    max_tweet_size = 120\n",
    "    word2idx,idx2word = load_vocab()\n",
    "    issue2idx = issue_vocab(issues,'issue2id')\n",
    "    sent2idx = sent_vocab()\n",
    "\n",
    "    x_tweet, y_issue, y_label = [], [], []\n",
    "    for tweet,issue,sent in zip(tweets, issue_, sentiments):\n",
    "        x = [word2idx.get(word, 1) for word in (tweet + u\" </S>\").split() if word not in stop_words]\n",
    "        x = np.array(x)\n",
    "        t = np.zeros(max_tweet_size)\n",
    "        if len(x)<=max_tweet_size:\n",
    "            t[:len(x)] = x\n",
    "        else:\n",
    "            t = x[:max_tweet_size]\n",
    "\n",
    "        #print(issue)\n",
    "        y_i = [issue2idx.get(issue,1)]\n",
    "        y_l = [sent2idx.get(sent,1)]\n",
    "\n",
    "        x_tweet.append(t)\n",
    "        y_issue.append(y_i)\n",
    "        y_label.append(y_l)\n",
    "    #print(len(x_tweet))\n",
    "    return np.array(x_tweet), np.array(y_issue), np.array(y_label)"
   ]
  },
  {
   "cell_type": "code",
   "execution_count": 47,
   "metadata": {},
   "outputs": [],
   "source": [
    "def batches_train(data_x,data_y,batch_size, idx):\n",
    "    start =  batch_size*idx\n",
    "    end = start + batch_size\n",
    "    if(end>len(data_x)):\n",
    "        return data_x[start:], data_y[start:]\n",
    "    return data_x[start:end], data_y[start:end]\n",
    "\n",
    "def batches_test(data_x,data_y,batch_size, idx):\n",
    "    start =  batch_size*idx\n",
    "    end = start + batch_size\n",
    "    return data_x[start:end], data_y[start:end]"
   ]
  },
  {
   "cell_type": "code",
   "execution_count": 48,
   "metadata": {},
   "outputs": [],
   "source": [
    "num_issues = 24#len(issues)\n",
    "epochs = 10\n",
    "input_size = 100\n",
    "vocab_size = len(word_counts)\n",
    "output_size_issue = num_issues\n",
    "output_size_label = 3\n",
    "hidden_size = 256\n",
    "batch_size = 32\n",
    "#n_iters = int(len(x_train)/batch_size)\n",
    "lr = 0.01\n",
    "\n",
    "num_issues = len(issues_pd.unique())"
   ]
  },
  {
   "cell_type": "code",
   "execution_count": 49,
   "metadata": {},
   "outputs": [],
   "source": [
    "epoch_loss_all_issues = defaultdict(list)\n",
    "metrics_dict = defaultdict(list)\n",
    "predicted_list = defaultdict(list)\n",
    "ground_truth = defaultdict(list)"
   ]
  },
  {
   "cell_type": "code",
   "execution_count": 74,
   "metadata": {},
   "outputs": [],
   "source": [
    "def create_data_wv(tweets, issue_, sentiments,issues):\n",
    "    stop_words = ['the','of','in','and','a','is','on','this','all','it','will','for','to','be','with',\n",
    "              'at','are','u','has','that','by','from', 'as','was','have','its','an','if','been','be','also','should','which']\n",
    "    #print(tweets[0])\n",
    "#     leng = 0\n",
    "#     for i in tweets:\n",
    "#         len_ = len(i.split())\n",
    "#         if(len_ > leng):\n",
    "#             leng = len_\n",
    "    \n",
    "    max_tweet_size = 120\n",
    "    word2idx,idx2word = load_vocab()\n",
    "    issue2idx = issue_vocab(issues,'issue2id')\n",
    "    sent2idx = sent_vocab()\n",
    "    tweets_train=[]\n",
    "        \n",
    "\n",
    "    x_tweet, y_issue, y_label = [], [], []\n",
    "    for tweet,issue,sent in zip(tweets, issue_, sentiments):\n",
    "        x = [model_wv[word] for word in tweet.split() if word not in stopset+stop_words]\n",
    "        t = np.zeros([max_tweet_size,100])\n",
    "        if len(x)<=max_tweet_size:\n",
    "            t[:len(x)] = x\n",
    "        else:\n",
    "            t = x[:max_tweet_size]\n",
    "\n",
    "        y_i = [issue2idx.get(issue,1)]\n",
    "        y_l = [sent2idx.get(sent,1)]\n",
    "\n",
    "        x_tweet.append(t)\n",
    "        y_issue.append(y_i)\n",
    "        y_label.append(y_l)\n",
    "        \n",
    "    return np.array(x_tweet), np.array(y_issue), np.array(y_label)"
   ]
  },
  {
   "cell_type": "code",
   "execution_count": 140,
   "metadata": {},
   "outputs": [
    {
     "name": "stderr",
     "output_type": "stream",
     "text": [
      "/home/bedanta/ml/lib/python3.5/site-packages/ipykernel_launcher.py:45: UserWarning: invalid index of a 0-dim tensor. This will be an error in PyTorch 0.5. Use tensor.item() to convert a 0-dim tensor to a Python number\n"
     ]
    },
    {
     "name": "stdout",
     "output_type": "stream",
     "text": [
      "0.3550640279394645\n"
     ]
    },
    {
     "data": {
      "image/png": "[encoded data removed]",
      "text/plain": [
       "<Figure size 432x288 with 1 Axes>"
      ]
     },
     "metadata": {},
     "output_type": "display_data"
    }
   ],
   "source": [
    "for one in issues:\n",
    "    net = Net(vocab_size, hidden_size,100)\n",
    "    criterion = nn.CrossEntropyLoss()\n",
    "    optimizer = torch.optim.SGD(net.parameters(),lr=0.1)\n",
    "    \n",
    "    \n",
    "    if(one == '0'):\n",
    "        continue\n",
    "    data_withot_one_issue = data_pd[data_pd.Issue != one]\n",
    "    data_with_the_issue = data_pd[data_pd.Issue == one]\n",
    "    \n",
    "    data_list_with = data_withot_one_issue.values\n",
    "    data_list_without = data_with_the_issue.values\n",
    "    \n",
    "    tweets_train = data_list_with[:,0]\n",
    "    #print(tweets_train[0])\n",
    "    issue_train = data_list_with[:,3]\n",
    "    label_train = data_list_with[:,4]\n",
    "    tweets_test = data_list_without[:,0]\n",
    "    issue_test = data_list_without[:,3]\n",
    "    label_test = data_list_without[:,4]\n",
    "    \n",
    "    x_tweet_train,y_issue_train, y_label_train = create_data(tweets_train,issue_train,label_train,issues)\n",
    "    #print(x_tweet_train[0])\n",
    "    x_tweet_test,y_issue_test, y_label_test = create_data(tweets_test,issue_test,label_test,issues)\n",
    "    x_tweet_test, y_label_test = Variable(torch.LongTensor(x_tweet_test)), Variable(torch.LongTensor(y_label_test))\n",
    "    #print(x_tweet_test)\n",
    "    train_losses = []\n",
    "    test_losses = []\n",
    "    \n",
    "    epoch_losses = []\n",
    "    for e in range(0,2):\n",
    "        epoch_loss = 0\n",
    "        for idx in range(0,int(len(x_tweet_train)/batch_size)+1):\n",
    "            net.zero_grad()\n",
    "            batch_x, batch_y = batches_train(x_tweet_train,y_label_train,batch_size,idx)\n",
    "            batch_x = Variable(torch.LongTensor(batch_x))\n",
    "            batch_y = Variable(torch.LongTensor(batch_y))\n",
    "            batch_y = batch_y.reshape(batch_y.shape[0])\n",
    "            encoder_hidden = Variable(net.H_t0(batch_y.shape[0]))\n",
    "            output = net(batch_x,encoder_hidden)\n",
    "            loss = criterion(output[0], batch_y)\n",
    "            loss.backward()\n",
    "            optimizer.step()\n",
    "            epoch_loss += loss.data[0]\n",
    "        epoch_loss /= len(x_tweet_train)/batch_size\n",
    "        epoch_losses.append(epoch_loss)\n",
    "    \n",
    "    encoder_hidden_test = Variable(net.H_t0(len(x_tweet_test)))\n",
    "    predicted_output = net(x_tweet_test,encoder_hidden_test)\n",
    "    predicted_output = predicted_output.reshape(len(x_tweet_test),3)\n",
    "    predicted_output = predicted_output.detach().numpy()\n",
    "    predicted_output = np.argmax(predicted_output,axis = 1)\n",
    "    predicted_list[one] = predicted_output\n",
    "    ground_truth[one] = y_label_test\n",
    "    accuracy = accuracy_score(predicted_output,y_label_test)\n",
    "    print(accuracy)\n",
    "    plt.plot(epoch_losses)\n",
    "    plt.show()\n",
    "    epoch_loss_all_issues[one] = epoch_losses\n",
    "    break\n"
   ]
  },
  {
   "cell_type": "code",
   "execution_count": 185,
   "metadata": {},
   "outputs": [
    {
     "name": "stdout",
     "output_type": "stream",
     "text": [
      "0.11757857974388825\n"
     ]
    }
   ],
   "source": [
    "#x_tweet_test, y_label_test = Variable(torch.FloatTensor(x_tweet_test)), Variable(torch.LongTensor(y_label_test))\n",
    "predicted_output = net(x_tweet_test,encoder_hidden_test)\n",
    "predicted_output = predicted_output.reshape(len(x_tweet_test),3)\n",
    "predicted_output = predicted_output.detach().numpy()\n",
    "predicted_output = np.argmax(predicted_output,axis = 1)\n",
    "predicted_list[one] = predicted_output\n",
    "ground_truth[one] = y_label_test\n",
    "accuracy = accuracy_score(predicted_output,y_label_test)\n",
    "print(accuracy)"
   ]
  },
  {
   "cell_type": "code",
   "execution_count": 174,
   "metadata": {},
   "outputs": [
    {
     "data": {
      "text/plain": [
       "[<matplotlib.lines.Line2D at 0x7f8df41a2588>]"
      ]
     },
     "execution_count": 174,
     "metadata": {},
     "output_type": "execute_result"
    },
    {
     "data": {
      "image/png": "[encoded data removed]",
      "text/plain": [
       "<Figure size 432x288 with 1 Axes>"
      ]
     },
     "metadata": {},
     "output_type": "display_data"
    }
   ],
   "source": [
    "plt.plot(epoch_losses)"
   ]
  },
  {
   "cell_type": "code",
   "execution_count": 153,
   "metadata": {},
   "outputs": [],
   "source": [
    "pp = predicted_output.reshape(2577,3)\n",
    "pp = pp.detach().numpy()"
   ]
  },
  {
   "cell_type": "code",
   "execution_count": 175,
   "metadata": {},
   "outputs": [
    {
     "name": "stderr",
     "output_type": "stream",
     "text": [
      "/home/bedanta/ml/lib/python3.5/site-packages/ipykernel_launcher.py:20: DeprecationWarning: Call to deprecated `__getitem__` (Method will be removed in 4.0.0, use self.wv.__getitem__() instead).\n"
     ]
    }
   ],
   "source": [
    "x_tweet_test,y_issue_test, y_label_test = create_data_wv(tweets_test,issue_test,label_test,issues)\n",
    "x_tweet_test = Variable(torch.FloatTensor(x_tweet_test))"
   ]
  },
  {
   "cell_type": "code",
   "execution_count": 158,
   "metadata": {},
   "outputs": [],
   "source": [
    "count = 0\n",
    "for i in range(len(pred)):\n",
    "    if(pred[i]==y_label_test[i]):\n",
    "        count+=1"
   ]
  },
  {
   "cell_type": "code",
   "execution_count": 122,
   "metadata": {},
   "outputs": [],
   "source": [
    "leng =0\n",
    "sent = None\n",
    "for i in tweets_train:\n",
    "    if(len(i.split())>leng):\n",
    "        leng = len(i.split())\n",
    "        sent = i"
   ]
  },
  {
   "cell_type": "code",
   "execution_count": 124,
   "metadata": {},
   "outputs": [
    {
     "data": {
      "text/plain": [
       "tensor([0, 0, 0, 0, 0, 0, 0])"
      ]
     },
     "execution_count": 124,
     "metadata": {},
     "output_type": "execute_result"
    }
   ],
   "source": [
    "torch.max(output,dim = 2)[1][0]"
   ]
  },
  {
   "cell_type": "code",
   "execution_count": 141,
   "metadata": {},
   "outputs": [],
   "source": [
    "aa = np.load('predicted_list.npy')"
   ]
  },
  {
   "cell_type": "code",
   "execution_count": 142,
   "metadata": {},
   "outputs": [
    {
     "data": {
      "text/plain": [
       "array(defaultdict(<class 'list'>, {'RightToPrivacy SC Verdict': array([1, 1, 1, 0, 1, 1, 0, 2, 1, 1, 1, 1, 1, 1, 1, 1, 1, 1, 2, 2, 0, 1,\n",
       "       1, 1, 1, 1, 2, 1, 1, 0, 1, 1, 0, 0, 1, 1]), 'reservation': array([0, 0, 0, 1, 2, 0, 0, 0, 0, 0, 2, 0, 0, 2, 2, 2, 0, 0, 0, 2, 2, 0,\n",
       "       2, 0, 0, 0, 2, 1, 1, 0, 2, 0, 0, 0, 2, 2, 0, 2, 2, 0, 0, 0, 0, 0,\n",
       "       0, 2, 0, 0, 0, 0, 2, 2, 2, 2, 2, 0, 2, 0, 2, 0, 2, 0, 2, 2, 0, 0,\n",
       "       0, 0, 0, 2, 2, 2, 0, 2, 0, 0, 2, 2, 0, 0, 0, 0, 2, 0, 2, 2, 1, 2,\n",
       "       0, 2, 0, 0, 0, 0, 2, 1, 1, 0, 0, 0, 0, 2, 2, 2, 2, 2, 0, 0, 2, 0,\n",
       "       0, 0, 0, 0, 0, 0, 0, 0, 0, 2, 0, 2, 0, 0, 0, 0, 0, 2, 0, 2, 0, 0,\n",
       "       0, 2, 0, 0, 2, 0, 2, 0, 2, 0, 2, 0, 2, 2, 2, 0, 0, 2, 0, 0, 0, 0,\n",
       "       0, 0, 0, 2]), 'Swacch Bharat': array([0, 2, 2, 2, 1, 2, 2, 1, 2, 0, 2, 2, 1, 1, 0, 0, 2, 2, 2, 0, 0, 0,\n",
       "       0, 0, 0, 2, 0, 0, 1, 2, 0, 0, 0, 1, 0, 2, 0, 2, 2, 2, 2, 1, 2, 0,\n",
       "       0, 0, 0, 2, 2, 0, 2, 1, 0, 0, 0, 0, 2, 0, 2, 2, 0, 1, 0, 2, 0, 2,\n",
       "       0, 0, 0, 0, 2, 2, 1, 1, 2, 2, 0, 2, 0, 0, 2, 2, 2, 0, 2, 2, 2, 0,\n",
       "       0, 2, 2, 0, 2, 2, 0, 1, 0, 0, 2, 1, 2, 2, 2, 0, 0, 0, 0, 2, 0, 0,\n",
       "       2, 2, 0, 0, 2, 0, 0, 0, 2, 0, 2, 0, 0, 0, 0, 2, 0, 0, 2, 2, 0, 0,\n",
       "       0, 0, 1, 2, 2, 2, 2, 1, 2, 2, 2, 0, 0, 2, 0, 0, 0, 2, 2, 2, 0, 0,\n",
       "       0, 0, 0, 0, 0, 0, 2, 2, 2, 2, 2, 0, 2, 0, 2, 2, 0, 2, 2, 1, 0, 2,\n",
       "       2, 2, 1, 2, 2, 0, 0, 2, 2, 2, 0, 0, 0, 0, 0, 2, 0, 0, 0, 2, 2, 0,\n",
       "       0, 0, 2, 0, 2, 0, 2, 0, 0, 0, 0, 0, 0, 0, 2, 2, 0, 0, 2, 0, 0, 0,\n",
       "       0, 0, 0]), 'Triple Talaq SC verdict': array([0, 0, 0, 0, 0, 0, 0, 0, 0, 0, 0, 0, 2, 2, 0, 0, 1, 0, 0, 0, 1, 0,\n",
       "       0, 0, 0, 0, 0, 0, 0, 0, 0, 2, 0, 1, 1, 0, 1, 0, 1, 0, 1, 2, 1, 1,\n",
       "       0, 0, 0, 0, 0, 0, 0, 0, 0, 0, 0, 0, 1, 0, 2, 1]), 'Demonetisation': array([2, 2, 0, ..., 2, 2, 2]), 'lgp price hike': array([0, 0, 2, 2, 0, 2, 1, 0, 2, 2, 1, 1, 1, 0, 0, 0, 0, 0, 0, 1, 0, 0,\n",
       "       0, 1, 0, 2, 0, 0, 0, 0, 0, 0, 1, 2, 2, 0, 2, 2, 1, 0, 0, 2, 2, 2,\n",
       "       2, 0, 0, 2, 0, 0, 0, 2, 2, 1, 2, 0, 0, 0, 0, 2, 2, 0, 0, 0, 0, 0,\n",
       "       2, 1, 0, 2, 0, 0, 2, 0, 0, 0, 0, 0, 1, 2, 0, 2, 0, 0, 0, 1, 0, 0,\n",
       "       0, 2, 0, 2, 2, 1, 0, 0, 2, 0, 0, 0, 2, 0, 0, 2, 2, 1, 0, 2, 2, 1,\n",
       "       0, 0, 0, 2, 2, 1, 2, 0, 1, 0, 0, 0, 0, 0, 0, 0, 0, 0, 0, 2, 1, 2,\n",
       "       0, 0, 2, 0, 2, 1, 2, 0, 0, 0, 2, 2, 0, 0, 0, 0, 0, 2, 2, 0, 0, 2,\n",
       "       0, 0, 0, 0, 0, 2, 0, 0, 0, 0, 0, 0, 0, 0, 0, 0, 0, 2, 0, 1, 0, 0,\n",
       "       1, 0, 2, 1, 2, 2, 0, 2, 2, 0, 0, 2, 1, 2, 1, 2, 0, 1, 0, 1, 0, 0,\n",
       "       2, 2, 0, 0, 1, 0, 0]), 'PNB Scam': array([2, 2, 2, 0, 0, 2, 2, 2, 2, 2, 0, 0, 2, 0, 0, 2, 0, 0, 2, 2, 2, 0,\n",
       "       2, 2, 2, 2, 0, 0, 0, 2, 0, 2, 0, 0, 0, 2, 2, 0, 2, 2, 0, 2, 0, 0,\n",
       "       2, 0, 2, 0, 0, 0, 0, 0, 0, 2, 2, 2, 2, 2, 0, 0, 2, 0, 0, 0, 0, 0,\n",
       "       0, 0, 0, 2, 2, 2, 0, 0, 0, 2, 2, 0, 0, 2, 2, 0, 0, 1, 0, 2, 2, 0,\n",
       "       0, 0, 2, 0, 0, 2, 2, 0, 0, 0, 0, 0, 0, 0, 2, 0, 2, 0, 2, 2, 2, 2,\n",
       "       2, 2, 0, 2, 0, 0, 0, 0, 0, 2, 2, 0, 2, 0, 2, 2, 2, 2, 2, 2, 2, 2,\n",
       "       2, 2, 2, 2, 2, 0, 2, 2, 2, 0, 0, 2, 0, 2, 2, 2, 0, 2, 0, 2, 2, 2,\n",
       "       1, 2, 2, 0, 2, 0, 2, 2, 0, 0, 0, 0, 2, 2, 2, 2, 2, 2, 2, 2, 2, 0,\n",
       "       2, 0, 2, 2, 0, 2, 2, 2, 0, 2, 2, 2, 2, 2, 2, 0, 2, 0, 2, 0, 0, 0,\n",
       "       2, 2, 2, 2, 2, 2, 2, 2, 2, 1, 2, 2, 0, 0, 2, 2, 0, 0, 0, 0, 0, 0,\n",
       "       0, 2, 2, 0, 2, 0, 0, 2, 0]), 'Aadhar linking': array([2, 2, 0, 0, 2, 2, 0, 1, 0, 2, 1, 0, 0, 0, 1, 0, 1, 0, 2, 1, 1, 0,\n",
       "       2, 2, 1, 1, 2, 2, 0, 0, 0, 1, 1, 2, 1, 0, 1, 0, 0, 1, 2, 2, 0, 0,\n",
       "       0, 0, 1, 1, 2, 0, 0, 1, 0, 0, 0, 2, 1, 0, 1, 1, 1, 0, 1, 0, 1, 0,\n",
       "       1, 0, 1, 2, 2, 1, 0, 1, 1, 2, 0, 0, 1, 0, 1, 0, 1, 0, 0, 1, 1, 0,\n",
       "       0, 0, 1, 1, 0, 2, 1, 1, 0, 0, 0, 1, 1, 0, 2, 0, 2, 0, 0, 0, 0, 0,\n",
       "       2, 1, 1, 1, 2, 2, 1, 2, 2, 1, 0, 0, 2, 1, 1, 2, 0, 0, 0, 1, 1, 2,\n",
       "       0, 1, 2, 2, 0, 0, 0, 0, 2]), 'GDP growth': array([2, 2, 2, 2, 2, 2, 2, 2, 2, 2, 2, 2, 2, 2, 2, 2, 2, 2, 2, 2, 2, 2,\n",
       "       2, 2, 2, 2, 2, 2, 2, 2, 2, 2, 2, 2, 2, 2, 2, 0, 2, 2, 2, 2, 2, 2,\n",
       "       2, 2, 2, 2, 2, 2, 2, 2, 2, 2, 2, 2, 2, 2, 1, 2, 2, 2, 2, 0, 2, 2,\n",
       "       2, 2, 2, 2, 2, 2, 2, 2, 2, 2, 2, 2, 0, 2, 2, 2, 2, 2, 2, 2, 2, 2,\n",
       "       2, 0, 0, 0, 2, 0, 0, 0, 0, 2, 2, 2, 2, 2, 2, 2, 2, 2, 0, 2, 2, 2,\n",
       "       2, 2, 2, 2, 2, 2, 2, 0, 2, 2, 2, 2, 2, 2, 2, 2, 2, 2, 2, 2, 2, 2,\n",
       "       2, 2, 2, 2, 2, 2, 2, 2, 2, 2, 2, 2, 2, 2, 2, 2, 2, 2, 2, 0, 0, 2,\n",
       "       2, 2, 2, 2, 2, 2, 2, 2, 2, 2, 2, 2, 2, 2, 2, 2, 2, 2, 2, 2, 2, 2,\n",
       "       2, 2, 2, 2, 2, 2, 2, 2, 2, 2, 2, 2, 2, 2, 2, 2, 2, 2, 2, 2, 2, 2,\n",
       "       2, 2, 2, 2, 2, 2, 2, 2, 2, 2, 0, 0, 2, 2, 2, 2, 2, 2, 2, 2, 2, 2,\n",
       "       2, 2, 2, 2, 2, 2, 2, 2, 2, 2, 2, 2, 2, 2, 2, 2, 2, 2, 2, 2, 2, 2,\n",
       "       2, 2, 2, 2, 2, 2, 2, 2, 2, 2, 2, 2, 2, 2, 2, 2, 2, 2, 2, 2, 2, 2,\n",
       "       2, 2, 2, 2, 2, 2, 2, 2, 2, 2, 2, 2, 2, 2, 2, 2, 2, 2, 2, 2, 2, 2,\n",
       "       2, 0, 2, 2, 2, 2, 2, 2, 2, 2, 2, 2, 2, 2, 2, 2, 2, 2, 2, 2, 2, 2,\n",
       "       2, 2, 2, 2, 2, 2, 2, 2, 2, 2, 2, 2, 2, 2, 2, 2, 2, 2, 2, 2, 2, 2,\n",
       "       2, 2, 2, 2, 2, 2, 2, 2, 2, 2, 2, 2, 2, 2, 2, 2, 2, 2, 2, 2, 2, 2,\n",
       "       2, 2]), 'Beef Ban': array([0, 0, 0, 0, 0, 0, 0, 0, 0, 0, 0, 0, 0, 0, 0, 0, 0, 0, 0, 0, 0, 2,\n",
       "       0, 2, 0, 0, 0, 0, 0, 2, 2, 0, 2, 2, 0, 2, 2, 0, 0, 0, 0, 0, 0, 2,\n",
       "       2, 0, 0, 2, 0, 0, 0, 0, 0, 0, 0, 0, 1, 0, 0, 0, 0, 0, 0, 0, 0, 0,\n",
       "       0, 0, 0, 2, 0, 0, 0, 0, 0, 0, 0, 0, 0, 0, 0, 0, 0, 0, 0, 0, 0, 0,\n",
       "       0, 2, 0, 0, 0, 0, 2, 0, 0, 2, 0, 0, 0, 2, 0, 0, 0, 0, 0, 0, 0, 0,\n",
       "       0, 0, 0, 2, 0, 0, 0, 0, 0, 0, 0, 0, 0, 0, 0, 0, 2, 0]), 'GST': array([0, 0, 0, ..., 2, 0, 0]), 'TripleTalaqBill': array([0, 0, 0, 0, 0, 0, 0, 0, 0, 0, 0, 0, 0, 0, 0, 0, 0, 0, 0, 0, 0, 0,\n",
       "       0, 0, 0, 0, 0, 0, 0, 0, 0, 0, 0, 0, 0, 2, 2, 0, 0, 0, 0, 0, 0, 0,\n",
       "       0, 0, 2, 0, 0, 0, 0, 0, 2, 0, 0, 0, 1, 0, 0, 0, 0, 0, 0, 0, 0, 1,\n",
       "       0, 0, 2, 2, 0, 2, 0, 0, 0, 0, 0, 0, 0, 0, 0, 0, 0, 0, 0, 2, 2, 0,\n",
       "       0, 0, 0, 0, 0, 0, 0, 0, 0, 0, 0, 0, 0, 0, 0, 0, 0, 0, 0, 0, 0, 2,\n",
       "       2, 0, 0, 0, 0, 0, 0, 0, 2, 0, 0, 0, 0, 0, 0, 0, 2, 0, 0, 0, 0, 1,\n",
       "       0, 0, 2, 0, 0, 0, 0, 0, 0, 0, 0, 0, 0, 2, 2, 0, 0, 0, 0, 0, 0, 0,\n",
       "       0, 0, 0, 0, 0, 0, 0, 0, 0, 0, 0, 0, 0, 0, 0, 0, 0, 0, 0, 0, 2, 0,\n",
       "       0, 2, 0, 0, 0, 0, 0, 0, 0, 0, 0, 0, 1]), 'acchedin': array([2, 2, 0, 2, 2, 0, 2, 0, 0, 2, 0, 2, 1, 0, 0, 2, 0, 0, 0, 1, 0, 2,\n",
       "       0, 0, 2, 1, 1, 2, 2, 0, 1, 1, 2, 2, 0, 2, 2, 0, 2, 0, 1, 1, 1, 1,\n",
       "       0, 2, 2, 2, 0, 2, 2, 2, 2, 2, 0, 2, 2, 0, 2, 2, 0, 1, 1, 2, 2, 2,\n",
       "       1, 1, 1, 2, 0, 2, 0, 1, 1, 0, 2, 0, 0, 0, 0, 2, 2, 0]), 'Inflation control': array([0, 0, 0, 0, 0, 0, 0, 1, 0, 0, 0, 0, 0, 0, 0, 1, 0, 0, 2, 2, 0, 0,\n",
       "       0, 0, 2, 0, 2, 0, 0, 0, 0, 0, 0, 2, 0, 0, 0, 0, 0, 0, 0, 0, 0, 2,\n",
       "       1, 0, 0, 0, 0, 1, 0, 0, 1, 0, 0, 0, 0, 1, 0, 0, 0, 0, 0, 0, 1, 0,\n",
       "       1, 0, 0, 0, 0, 0, 0, 0, 0, 0, 1, 0, 1, 0, 0, 0, 0, 1, 0, 0, 2, 0,\n",
       "       0, 0, 2, 0, 0, 0, 1, 0, 0, 0, 0, 1, 0, 0, 0, 2, 0, 1, 0, 0, 0, 1,\n",
       "       0, 1, 0, 0, 0, 0, 2, 0, 0, 0, 0, 0, 2, 0, 1, 0, 0, 0, 1, 0, 0, 0,\n",
       "       0, 0, 0, 0, 1, 0, 2, 0, 0, 0, 1, 0, 1, 0, 0, 0, 1, 1, 1, 0, 1, 0,\n",
       "       1, 0, 2, 0, 0, 0, 0, 0, 0, 0, 0, 2, 2, 0, 0, 0, 0, 0, 0, 0, 0, 2,\n",
       "       0, 2, 0, 0, 0, 0, 0, 2, 0, 1, 0, 0, 1, 1, 0, 1, 0, 2, 0, 0, 0, 0,\n",
       "       0, 0, 1, 0, 0, 1, 0, 0, 1, 0, 0, 0, 0, 0, 0]), 'Ram Mandir': array([0, 0, 0, 0, 0, 0, 0, 0, 0, 0, 0, 0, 0, 0, 0, 0, 0, 0, 0, 0, 0, 0,\n",
       "       0, 0, 0, 0, 0, 0, 0, 0, 0, 0, 0, 0, 0, 0, 0, 0, 0, 0, 0, 0, 0, 0,\n",
       "       0, 0, 0, 0, 0, 0, 0, 0, 0, 0, 0, 0, 0, 0, 0, 2, 2, 0, 0, 0, 0, 0,\n",
       "       0, 0, 0, 0, 0, 0, 0, 0, 0, 0, 0, 0, 0, 0, 0, 0, 0, 0, 0, 0, 0, 0,\n",
       "       0, 0, 0, 0, 0, 0, 0, 0, 0, 0, 0, 0, 0, 0, 0, 0, 0, 0, 0, 0, 0, 0,\n",
       "       0, 0, 0, 0, 0, 0, 0, 0, 0, 0, 0, 0, 0, 0, 0, 0, 0, 0, 0, 0, 0, 0,\n",
       "       0, 0, 0, 0, 0, 0, 2, 0, 0, 0, 0, 2, 0, 0, 0, 0, 0, 0, 0, 0, 0, 0,\n",
       "       0, 0, 0, 0, 0, 0, 0, 1, 0, 0, 0, 0, 0, 0, 0, 0, 0, 0, 0, 0, 0, 0,\n",
       "       0, 0, 0, 0, 0, 0, 0, 0, 0, 0, 0, 0, 0, 0, 0, 0, 0, 0, 0, 0, 0, 0,\n",
       "       0, 0, 0, 0, 0, 0, 0, 0, 0, 0, 0, 0, 0, 0, 0, 0, 0, 0, 0, 0, 0, 0,\n",
       "       0, 0, 0]), 'Cauvery SC Verdict': array([1, 1, 1, 0, 1, 1, 1, 0, 0, 0, 1, 1, 1, 1, 1, 1, 1, 0, 0, 0, 1, 0,\n",
       "       0, 0, 0, 1, 0, 0, 0, 0, 0, 0, 1, 2, 0, 0, 1, 0, 0, 1, 0, 0, 0, 0,\n",
       "       1, 0, 0, 0, 0, 1, 1, 0, 0, 0, 0, 0, 0, 0, 0, 1, 0, 0, 0, 0, 0, 0,\n",
       "       1, 0, 0, 0, 1, 0, 0, 0, 0, 1, 2, 0, 0, 1, 1, 1, 0, 0, 0, 0, 1, 1,\n",
       "       1, 0, 0, 0, 1, 0, 0, 0, 0, 0, 1, 1, 1, 1, 1, 0, 1, 1, 1, 1, 0, 0,\n",
       "       1, 1, 0, 0, 1, 1, 0, 1, 1, 1, 1, 1, 0, 1, 1, 0, 0, 1, 0, 0, 1, 2,\n",
       "       1, 0, 0, 2, 0, 0, 0, 1, 1, 1, 1, 2, 2, 0, 0, 1, 1, 0, 1, 1, 0, 1,\n",
       "       0, 0, 2, 0, 0, 1, 0, 1, 1, 0, 0, 0]), 'Jallikattu ban': array([0, 0, 0, 0, 0, 0, 0, 2, 0, 0, 0, 0, 0, 0, 0, 0, 0, 0, 2, 2, 0, 0,\n",
       "       0, 2, 0, 0, 0, 0, 0, 0, 0, 0, 0]), 'nsc and ppf rate cuts': array([0, 0, 0, 0, 1, 1, 0, 1, 0, 1, 0, 1, 0, 1, 0, 0, 0, 2, 0, 0, 0, 0,\n",
       "       1, 0, 0, 0, 0, 1, 0, 0, 1, 0, 0, 1, 0]), 'Fodder scam': array([2, 2, 2, 1, 1, 2, 2, 0, 0, 0, 0, 2, 0, 2, 2, 2, 0, 1, 0, 2, 0, 2,\n",
       "       2, 2, 1, 1, 2, 2, 0, 1, 0, 2, 2, 2, 2, 0, 0, 2, 2, 1, 0, 2, 0, 2,\n",
       "       0, 2, 0, 0, 2, 2, 2, 2, 0, 1, 2, 2, 0, 0, 0, 0, 0, 0, 2, 2, 0, 0,\n",
       "       2, 2]), 'hike in oil prices': array([2, 0, 0, 0, 0, 2, 0, 0, 0, 0, 0, 0, 0, 0, 2, 2, 2, 0, 0, 0, 0, 0,\n",
       "       0, 0, 2, 0, 0, 2, 0, 0, 0, 0, 0, 2, 0, 2, 0, 2, 0, 2, 0, 0, 0, 0,\n",
       "       0, 0, 2, 0, 0, 2, 0, 0, 2, 0, 0, 0, 0, 2, 0, 2, 0, 2, 2, 0, 2, 0,\n",
       "       0, 0, 0, 0, 0, 2, 2, 2, 2, 2, 0, 2, 0, 0, 0, 0, 0, 2, 0, 0, 0, 2,\n",
       "       0, 0, 0, 2, 2, 0, 2, 2, 2, 0, 0, 0, 0, 0, 0, 2, 0, 2, 0, 0, 2, 0,\n",
       "       0, 0, 0, 2, 2, 2, 0, 0, 0, 2, 0, 0, 0, 0, 2, 2, 0, 0, 0, 0, 0, 0,\n",
       "       0, 0, 0, 2, 0, 0, 2, 0, 0, 0, 2, 2, 0, 2, 0, 0, 2, 0, 0, 0, 2, 0,\n",
       "       0, 0, 0, 0, 0, 0, 0, 0, 0, 2, 0, 0, 2, 0, 0, 0, 0, 0, 0, 2, 2, 0,\n",
       "       0, 0, 0, 2, 2, 2, 0, 0, 2, 2, 0, 2, 2, 2, 2, 0, 2, 0, 0, 0, 0, 0,\n",
       "       2, 0, 0, 0, 0, 0, 0, 0, 2, 0, 0, 0, 0, 2, 2, 2, 2, 0, 0, 2, 2, 0,\n",
       "       2, 0, 0, 2, 0, 0, 2, 0, 0, 0, 2, 0, 2, 0, 0, 0, 2, 0, 0, 0, 0, 0,\n",
       "       0, 0, 0, 2, 0, 2, 2, 0, 2, 2, 2, 2, 2, 2, 0, 0, 0, 0, 0, 0, 0, 2,\n",
       "       0, 0, 0, 0, 0, 0, 2, 2, 2, 0, 0, 0, 0, 0, 0, 0, 0, 0, 2, 2, 0, 0,\n",
       "       0, 0, 0, 0, 0, 2, 0, 0, 2, 2, 0, 2, 0, 0, 0, 0, 2, 2, 0, 2, 0, 2,\n",
       "       2, 2, 0, 2, 0, 0, 2, 0, 0, 0, 0, 0, 0, 0, 0, 0, 0, 0, 0, 2, 0, 2,\n",
       "       2, 2, 2, 0, 0, 0, 2, 0, 0, 0, 0, 0, 0, 0, 0, 2, 2, 0, 0, 0, 1, 0,\n",
       "       0, 0, 0, 0, 0, 0, 2, 2, 2, 0, 2, 2, 0, 2, 0, 0]), 'Padmavati film screening': array([0, 1, 0, 0, 0, 0, 0, 0, 0, 0, 0, 0, 0, 2, 2, 0, 0, 0, 0, 0, 0, 0,\n",
       "       0, 0, 0, 0, 0, 0, 0, 2, 0, 0, 2, 0, 0, 0, 0, 0, 0, 0, 0, 1, 0, 0,\n",
       "       0, 2, 0, 0, 2, 0, 2, 0, 0, 0, 0, 0, 0, 0, 2, 0, 0, 2, 0, 0, 0, 0,\n",
       "       0, 0, 1, 0, 0, 0, 0, 0, 0, 0, 0, 0, 0, 2, 2, 2, 0, 0, 0, 0, 0, 0,\n",
       "       0, 0, 2, 0, 0, 0, 0, 0, 0, 2, 0]), 'Rohingyas': array([1, 2, 0, 2, 0, 1, 2, 1, 0, 0, 0, 0, 0, 0, 0, 1, 2, 0, 0, 0, 1]), 'FDIPolicy': array([1, 0, 0, 0, 0, 0, 0, 0, 0, 0, 0, 0, 1, 0, 0, 0, 0, 0, 2, 0, 0, 0,\n",
       "       0, 1, 1, 0, 1, 0, 0, 0, 0, 0, 0, 0, 0, 0, 0, 0, 0, 0, 0, 0, 2, 0,\n",
       "       0, 0, 0, 0, 0, 0, 2, 0, 0, 0, 0, 0, 0, 0, 0, 0, 2, 0, 0, 0, 0, 0,\n",
       "       0, 0, 0, 0, 0, 0, 0, 0, 0, 0, 1, 0, 0, 0, 0, 0, 0, 0, 0, 0, 2, 2,\n",
       "       0, 0, 0, 0, 0, 0, 2, 0, 0, 0, 0, 0, 0, 0, 0, 0, 0, 2, 1, 2, 0, 0,\n",
       "       0, 0, 0, 0, 0, 0, 0, 0, 0, 1, 1, 0, 1, 0, 0, 2, 0, 1, 0, 0, 0, 0,\n",
       "       2, 0, 1, 2, 2, 0, 0, 0, 0, 1, 0, 0, 1, 0, 0, 0, 2, 0, 2, 1, 0, 0,\n",
       "       0]), 'EVM tampering': array([0, 0, 0, 0, 0, 0, 0, 1, 0, 2, 0, 2, 0, 0, 2, 1, 0, 0, 0, 0, 1, 1,\n",
       "       1, 0, 0, 0, 0, 0, 2, 2, 0, 0, 0, 1, 0, 0, 0, 0, 0, 0, 2, 2, 0, 0,\n",
       "       2, 1, 0, 0, 0, 0, 0, 0, 0, 0, 0, 0, 0, 0, 0, 0, 0, 0, 0, 0, 0, 0,\n",
       "       0, 0, 0, 0, 0, 0, 2, 0, 0, 1, 0, 0, 0, 0, 1, 0, 1, 2, 2, 1, 0, 0,\n",
       "       0, 0, 0, 0, 0, 1, 1, 1, 0, 0, 0, 0, 1, 0, 1, 0, 0, 0, 0, 1, 0, 0,\n",
       "       0, 0, 2, 0, 0, 0, 0, 0, 1, 0, 0, 0, 2, 0, 0, 0, 2, 0, 0, 2, 0, 2,\n",
       "       1, 0, 2, 0, 0, 0, 1, 0, 1, 0, 0, 0, 0, 0, 0, 0, 0, 0, 2, 0, 0, 0,\n",
       "       2, 0, 0, 0, 0, 0, 0, 0, 0, 0, 0, 0, 0, 0, 0, 0, 0, 2, 1, 0, 0, 0,\n",
       "       0, 0, 0, 0, 0])}), dtype=object)"
      ]
     },
     "execution_count": 142,
     "metadata": {},
     "output_type": "execute_result"
    }
   ],
   "source": [
    "aa"
   ]
  }
 ],
 "metadata": {
  "kernelspec": {
   "display_name": "Python 3",
   "language": "python",
   "name": "python3"
  },
  "language_info": {
   "codemirror_mode": {
    "name": "ipython",
    "version": 3
   },
   "file_extension": ".py",
   "mimetype": "text/x-python",
   "name": "python",
   "nbconvert_exporter": "python",
   "pygments_lexer": "ipython3",
   "version": "3.5.2"
  }
 },
 "nbformat": 4,
 "nbformat_minor": 2
}
