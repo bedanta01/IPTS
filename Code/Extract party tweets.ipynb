{
 "cells": [
  {
   "cell_type": "code",
   "execution_count": 1,
   "metadata": {},
   "outputs": [],
   "source": [
    "import numpy as np\n",
    "import pandas as pd\n",
    "import tweepy\n",
    "import os\n",
    "from tweepy import OAuthHandler\n",
    "import csv\n",
    "import json"
   ]
  },
  {
   "cell_type": "code",
   "execution_count": 4,
   "metadata": {},
   "outputs": [],
   "source": [
    "consumer_key = 'JBbZgOVsUDUbIyI3LLpS39b5A'\n",
    "consumer_secret = '6jZ4JViRsK302RTsc6KDfBccMS4mI4fGjHzScxOCJA7PvWFvIo'\n",
    "access_token = '568966944-T4wQcwC2Lm8fh2Vcgq02vY371RRlqDYqVOxx5sgE'\n",
    "access_secret = '6K7PqTYXWNx0OJoHpNuFwbEOfuXiUoZEkAUCGsSzRyvhs'\n",
    " \n",
    "auth = OAuthHandler(consumer_key, consumer_secret)\n",
    "auth.set_access_token(access_token, access_secret)\n",
    " \n",
    "api = tweepy.API(auth)"
   ]
  },
  {
   "cell_type": "code",
   "execution_count": 6,
   "metadata": {},
   "outputs": [
    {
     "name": "stdout",
     "output_type": "stream",
     "text": [
      "[b'BJP4Karnataka', b'BJP4India', b'INCKarnataka', b'INCIndia', b'INCTamilNadu', b'PMOIndia', b'cpimspeak', b'MahilaCongress', b'INCSandesh', b'NCPspeaks', b'AITCofficial', b'BJP4Maharashtra', b'BJP4Delhi', b'BJP4Gujarat', b'BJP4UP']\n"
     ]
    }
   ],
   "source": [
    "os.chdir('../Dataset')\n",
    "parties_df = pd.read_csv('partyHandles.csv')\n",
    "parties = parties_df['Party Handles'].values\n",
    "#print(parties)\n",
    "parties = [p.encode('ascii', 'ignore') for p in parties]\n",
    "parties = [p.strip() for p in parties]\n",
    "print(parties)"
   ]
  },
  {
   "cell_type": "code",
   "execution_count": 13,
   "metadata": {},
   "outputs": [],
   "source": [
    "def get_user_tweets(screen_name, count = 200, from_id = None):\n",
    "    print('Fetching tweets for user: {0}'.format(screen_name))\n",
    "    all_tweets = []\n",
    "    if not from_id:\n",
    "        new_tweets = api.user_timeline(screen_name = screen_name, count = count)\n",
    "    else:\n",
    "        new_tweets = api.user_timeline(screen_name = screen_name, count = count, max_id = from_id)\n",
    "        \n",
    "    all_tweets.extend(new_tweets)\n",
    "    oldest = all_tweets[-1].id - 1\n",
    "\n",
    "    try:\n",
    "        while len(new_tweets) > 0:\n",
    "            new_tweets = api.user_timeline(screen_name = screen_name,count=200,max_id=oldest)\n",
    "            #print('Added {0} new tweets'.format(len(new_tweets)))\n",
    "            all_tweets.extend(new_tweets)\n",
    "            oldest = all_tweets[-1].id - 1\n",
    "    except Exception as e:\n",
    "        print(str(e))\n",
    "        \n",
    "    print('Total tweets for {0}: {1}'.format(screen_name, len(all_tweets)))\n",
    "    return all_tweets\n",
    "\n",
    "def is_retweet(tweet):\n",
    "    return 'RT @' in tweet.text"
   ]
  },
  {
   "cell_type": "code",
   "execution_count": 14,
   "metadata": {},
   "outputs": [
    {
     "name": "stdout",
     "output_type": "stream",
     "text": [
      "Fetching tweets for user: b'BJP4Karnataka'\n",
      "Total tweets for b'BJP4Karnataka': 3218\n",
      "Fetching tweets for user: b'BJP4India'\n",
      "Total tweets for b'BJP4India': 3246\n",
      "Fetching tweets for user: b'INCKarnataka'\n",
      "Total tweets for b'INCKarnataka': 3222\n",
      "Fetching tweets for user: b'INCIndia'\n",
      "Total tweets for b'INCIndia': 3229\n",
      "Fetching tweets for user: b'INCTamilNadu'\n",
      "Total tweets for b'INCTamilNadu': 3250\n",
      "Fetching tweets for user: b'PMOIndia'\n",
      "Total tweets for b'PMOIndia': 3220\n",
      "Fetching tweets for user: b'cpimspeak'\n",
      "Total tweets for b'cpimspeak': 3208\n",
      "Fetching tweets for user: b'MahilaCongress'\n",
      "Total tweets for b'MahilaCongress': 2926\n",
      "Fetching tweets for user: b'INCSandesh'\n",
      "Total tweets for b'INCSandesh': 219\n",
      "Fetching tweets for user: b'NCPspeaks'\n",
      "Total tweets for b'NCPspeaks': 3249\n",
      "Fetching tweets for user: b'AITCofficial'\n",
      "Total tweets for b'AITCofficial': 3207\n",
      "Fetching tweets for user: b'BJP4Maharashtra'\n",
      "Total tweets for b'BJP4Maharashtra': 3217\n",
      "Fetching tweets for user: b'BJP4Delhi'\n",
      "Total tweets for b'BJP4Delhi': 3232\n",
      "Fetching tweets for user: b'BJP4Gujarat'\n",
      "Total tweets for b'BJP4Gujarat': 3241\n",
      "Fetching tweets for user: b'BJP4UP'\n",
      "Total tweets for b'BJP4UP': 3203\n"
     ]
    }
   ],
   "source": [
    "tweets = []\n",
    "for p in parties:\n",
    "    try:\n",
    "        p_tweets = get_user_tweets(p, count = 1)\n",
    "        tweets.extend(p_tweets)\n",
    "    except Exception as e:\n",
    "        print('Exception {0} while fetching tweets for {1}'.format(e, p))"
   ]
  },
  {
   "cell_type": "code",
   "execution_count": 15,
   "metadata": {},
   "outputs": [],
   "source": [
    "with open('partyTweets.csv', 'w') as f:\n",
    "    writer = csv.writer(f)\n",
    "    writer.writerow([\"Tweet_id\", \"User_Name\", \"User_Screen_Name\", \"Text\"] )\n",
    "    for tweet in tweets:\n",
    "        if not is_retweet(tweet):\n",
    "            writer.writerow([tweet.id_str, tweet.user.name, tweet.user.screen_name, tweet.text])"
   ]
  },
  {
   "cell_type": "code",
   "execution_count": 16,
   "metadata": {},
   "outputs": [
    {
     "data": {
      "text/plain": [
       "45087"
      ]
     },
     "execution_count": 16,
     "metadata": {},
     "output_type": "execute_result"
    }
   ],
   "source": [
    "len(tweets)"
   ]
  },
  {
   "cell_type": "code",
   "execution_count": null,
   "metadata": {},
   "outputs": [],
   "source": []
  }
 ],
 "metadata": {
  "kernelspec": {
   "display_name": "Python 3",
   "language": "python",
   "name": "python3"
  },
  "language_info": {
   "codemirror_mode": {
    "name": "ipython",
    "version": 3
   },
   "file_extension": ".py",
   "mimetype": "text/x-python",
   "name": "python",
   "nbconvert_exporter": "python",
   "pygments_lexer": "ipython3",
   "version": "3.6.4"
  }
 },
 "nbformat": 4,
 "nbformat_minor": 2
}
