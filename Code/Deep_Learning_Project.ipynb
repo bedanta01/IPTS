{
 "cells": [
  {
   "cell_type": "code",
   "execution_count": 57,
   "metadata": {
    "colab": {
     "autoexec": {
      "startup": false,
      "wait_interval": 0
     }
    },
    "colab_type": "code",
    "id": "e9sPMxEf1qxn"
   },
   "outputs": [],
   "source": [
    "from os import path\n",
    "#from wheel.pep425tags import get_abbr_impl, get_impl_ver, get_abi_tag\n",
    "# platform = '{}{}-{}'.format(get_abbr_impl(), get_impl_ver(), get_abi_tag())\n",
    "# accelerator = 'cu80' if path.exists('/opt/bin/nvidia-smi') else 'cpu'\n",
    "# !pip install -q http://download.pytorch.org/whl/{accelerator}/torch-0.3.0.post4-{platform}-linux_x86_64.whl torchvision\n",
    "\n",
    "import numpy as np\n",
    "import pandas as pd\n",
    "import sys\n",
    "import os\n",
    "import matplotlib.pyplot as plt\n",
    "from collections import Counter\n",
    "import codecs\n",
    "from nltk.corpus import stopwords\n",
    "import nltk\n",
    "import csv\n",
    "import random\n",
    "import time\n",
    "from sklearn.metrics import confusion_matrix\n",
    "from sklearn.metrics import accuracy_score"
   ]
  },
  {
   "cell_type": "code",
   "execution_count": 2,
   "metadata": {
    "colab": {
     "autoexec": {
      "startup": false,
      "wait_interval": 0
     }
    },
    "colab_type": "code",
    "id": "EW9ZzcU-18zh"
   },
   "outputs": [],
   "source": [
    "#!rm -rf dataset/\n",
    "#!git clone --recursive https://github.com/viik36/dataset.git\n",
    "raw_dataframe = pd.read_csv(\"../data/Labelled_tweets_v1.csv\",header = None)"
   ]
  },
  {
   "cell_type": "code",
   "execution_count": null,
   "metadata": {
    "colab": {
     "autoexec": {
      "startup": false,
      "wait_interval": 0
     },
     "base_uri": "https://localhost:8080/",
     "height": 51
    },
    "colab_type": "code",
    "executionInfo": {
     "elapsed": 1859,
     "status": "ok",
     "timestamp": 1525925827392,
     "user": {
      "displayName": "Rohan Tondulkar",
      "photoUrl": "https://lh3.googleusercontent.com/a/default-user=s128",
      "userId": "117493569171327128390"
     },
     "user_tz": -330
    },
    "id": "G7mflS7FRCez",
    "outputId": "695b51f0-9161-40b5-947f-d8f9c1491e2f"
   },
   "outputs": [],
   "source": []
  },
  {
   "cell_type": "code",
   "execution_count": 4,
   "metadata": {
    "colab": {
     "autoexec": {
      "startup": false,
      "wait_interval": 0
     },
     "base_uri": "https://localhost:8080/",
     "height": 408
    },
    "colab_type": "code",
    "executionInfo": {
     "elapsed": 830,
     "status": "ok",
     "timestamp": 1525926820328,
     "user": {
      "displayName": "Rohan Tondulkar",
      "photoUrl": "https://lh3.googleusercontent.com/a/default-user=s128",
      "userId": "117493569171327128390"
     },
     "user_tz": -330
    },
    "id": "xLhtSbft5Fxn",
    "outputId": "ff41659c-475f-4d58-99e7-dd9d50d1d1c2"
   },
   "outputs": [
    {
     "name": "stdout",
     "output_type": "stream",
     "text": [
      "                                               Tweet      UserHandle Party  \\\n",
      "0  a no of people approach me daily worried abt t...  ArvindKejriwal   AAP   \n",
      "1  its now revealed that our fms silence on the p...  ArvindKejriwal   AAP   \n",
      "2  pnb scam started in is going on till today the...  ArvindKejriwal   AAP   \n",
      "3  would bjp confirm this if true what transpired...  ArvindKejriwal   AAP   \n",
      "4  bjp insiders telling that niravmodi been a reg...  ArvindKejriwal   AAP   \n",
      "5  is it possible to believe that he or vijay mal...  ArvindKejriwal   AAP   \n",
      "6  someone told me today sealing bjp wants to rui...  ArvindKejriwal   AAP   \n",
      "7  if all state govts central govt and sc togethe...  ArvindKejriwal   AAP   \n",
      "8  three killings on merchants in one year first ...  ArvindKejriwal   AAP   \n",
      "9  there is no need to increase house tax in mcd ...  ArvindKejriwal   AAP   \n",
      "\n",
      "       Issue        Stance  \n",
      "0        GST  Disagreement  \n",
      "1   PNB Scam       Neutral  \n",
      "2   PNB Scam       Neutral  \n",
      "3   PNB Scam       Neutral  \n",
      "4   PNB Scam       Neutral  \n",
      "5   PNB Scam       Neutral  \n",
      "6  FDIPolicy       Neutral  \n",
      "7  FDIPolicy       Neutral  \n",
      "8        GST  Disagreement  \n",
      "9        GST  Disagreement  \n"
     ]
    }
   ],
   "source": [
    "# data = open(\"dataset/Labelled_tweets_v1(1).csv\").readlines()\n",
    "# data[0:10]\n",
    "tweets = []\n",
    "data_pd = pd.read_csv(\"../data/Labelled_tweets_v1.csv\")\n",
    "print(data_pd.head(10))\n",
    "data_tweet = data_pd['Tweet']\n",
    "for i in data_tweet:\n",
    "  j = i.split()\n",
    "  for k in j:\n",
    "    tweets.append(k)\n",
    "    "
   ]
  },
  {
   "cell_type": "code",
   "execution_count": 5,
   "metadata": {
    "colab": {
     "autoexec": {
      "startup": false,
      "wait_interval": 0
     },
     "base_uri": "https://localhost:8080/",
     "height": 359
    },
    "colab_type": "code",
    "executionInfo": {
     "elapsed": 880,
     "status": "ok",
     "timestamp": 1525926821760,
     "user": {
      "displayName": "Rohan Tondulkar",
      "photoUrl": "https://lh3.googleusercontent.com/a/default-user=s128",
      "userId": "117493569171327128390"
     },
     "user_tz": -330
    },
    "id": "7smUiBrNfuPc",
    "outputId": "81fba7c4-0231-46e3-d3fe-4c01baf4d16a"
   },
   "outputs": [
    {
     "data": {
      "text/html": [
       "<div>\n",
       "<style scoped>\n",
       "    .dataframe tbody tr th:only-of-type {\n",
       "        vertical-align: middle;\n",
       "    }\n",
       "\n",
       "    .dataframe tbody tr th {\n",
       "        vertical-align: top;\n",
       "    }\n",
       "\n",
       "    .dataframe thead th {\n",
       "        text-align: right;\n",
       "    }\n",
       "</style>\n",
       "<table border=\"1\" class=\"dataframe\">\n",
       "  <thead>\n",
       "    <tr style=\"text-align: right;\">\n",
       "      <th></th>\n",
       "      <th>Tweet</th>\n",
       "      <th>UserHandle</th>\n",
       "      <th>Party</th>\n",
       "      <th>Issue</th>\n",
       "      <th>Stance</th>\n",
       "    </tr>\n",
       "  </thead>\n",
       "  <tbody>\n",
       "    <tr>\n",
       "      <th>0</th>\n",
       "      <td>a no of people approach me daily worried abt t...</td>\n",
       "      <td>ArvindKejriwal</td>\n",
       "      <td>AAP</td>\n",
       "      <td>GST</td>\n",
       "      <td>Disagreement</td>\n",
       "    </tr>\n",
       "    <tr>\n",
       "      <th>1</th>\n",
       "      <td>its now revealed that our fms silence on the p...</td>\n",
       "      <td>ArvindKejriwal</td>\n",
       "      <td>AAP</td>\n",
       "      <td>PNB Scam</td>\n",
       "      <td>Neutral</td>\n",
       "    </tr>\n",
       "    <tr>\n",
       "      <th>2</th>\n",
       "      <td>pnb scam started in is going on till today the...</td>\n",
       "      <td>ArvindKejriwal</td>\n",
       "      <td>AAP</td>\n",
       "      <td>PNB Scam</td>\n",
       "      <td>Neutral</td>\n",
       "    </tr>\n",
       "    <tr>\n",
       "      <th>3</th>\n",
       "      <td>would bjp confirm this if true what transpired...</td>\n",
       "      <td>ArvindKejriwal</td>\n",
       "      <td>AAP</td>\n",
       "      <td>PNB Scam</td>\n",
       "      <td>Neutral</td>\n",
       "    </tr>\n",
       "    <tr>\n",
       "      <th>4</th>\n",
       "      <td>bjp insiders telling that niravmodi been a reg...</td>\n",
       "      <td>ArvindKejriwal</td>\n",
       "      <td>AAP</td>\n",
       "      <td>PNB Scam</td>\n",
       "      <td>Neutral</td>\n",
       "    </tr>\n",
       "    <tr>\n",
       "      <th>5</th>\n",
       "      <td>is it possible to believe that he or vijay mal...</td>\n",
       "      <td>ArvindKejriwal</td>\n",
       "      <td>AAP</td>\n",
       "      <td>PNB Scam</td>\n",
       "      <td>Neutral</td>\n",
       "    </tr>\n",
       "    <tr>\n",
       "      <th>6</th>\n",
       "      <td>someone told me today sealing bjp wants to rui...</td>\n",
       "      <td>ArvindKejriwal</td>\n",
       "      <td>AAP</td>\n",
       "      <td>FDIPolicy</td>\n",
       "      <td>Neutral</td>\n",
       "    </tr>\n",
       "    <tr>\n",
       "      <th>7</th>\n",
       "      <td>if all state govts central govt and sc togethe...</td>\n",
       "      <td>ArvindKejriwal</td>\n",
       "      <td>AAP</td>\n",
       "      <td>FDIPolicy</td>\n",
       "      <td>Neutral</td>\n",
       "    </tr>\n",
       "    <tr>\n",
       "      <th>8</th>\n",
       "      <td>three killings on merchants in one year first ...</td>\n",
       "      <td>ArvindKejriwal</td>\n",
       "      <td>AAP</td>\n",
       "      <td>GST</td>\n",
       "      <td>Disagreement</td>\n",
       "    </tr>\n",
       "    <tr>\n",
       "      <th>9</th>\n",
       "      <td>there is no need to increase house tax in mcd ...</td>\n",
       "      <td>ArvindKejriwal</td>\n",
       "      <td>AAP</td>\n",
       "      <td>GST</td>\n",
       "      <td>Disagreement</td>\n",
       "    </tr>\n",
       "  </tbody>\n",
       "</table>\n",
       "</div>"
      ],
      "text/plain": [
       "                                               Tweet      UserHandle Party  \\\n",
       "0  a no of people approach me daily worried abt t...  ArvindKejriwal   AAP   \n",
       "1  its now revealed that our fms silence on the p...  ArvindKejriwal   AAP   \n",
       "2  pnb scam started in is going on till today the...  ArvindKejriwal   AAP   \n",
       "3  would bjp confirm this if true what transpired...  ArvindKejriwal   AAP   \n",
       "4  bjp insiders telling that niravmodi been a reg...  ArvindKejriwal   AAP   \n",
       "5  is it possible to believe that he or vijay mal...  ArvindKejriwal   AAP   \n",
       "6  someone told me today sealing bjp wants to rui...  ArvindKejriwal   AAP   \n",
       "7  if all state govts central govt and sc togethe...  ArvindKejriwal   AAP   \n",
       "8  three killings on merchants in one year first ...  ArvindKejriwal   AAP   \n",
       "9  there is no need to increase house tax in mcd ...  ArvindKejriwal   AAP   \n",
       "\n",
       "       Issue        Stance  \n",
       "0        GST  Disagreement  \n",
       "1   PNB Scam       Neutral  \n",
       "2   PNB Scam       Neutral  \n",
       "3   PNB Scam       Neutral  \n",
       "4   PNB Scam       Neutral  \n",
       "5   PNB Scam       Neutral  \n",
       "6  FDIPolicy       Neutral  \n",
       "7  FDIPolicy       Neutral  \n",
       "8        GST  Disagreement  \n",
       "9        GST  Disagreement  "
      ]
     },
     "execution_count": 5,
     "metadata": {},
     "output_type": "execute_result"
    }
   ],
   "source": [
    "data_pd.head(10)"
   ]
  },
  {
   "cell_type": "code",
   "execution_count": 6,
   "metadata": {
    "colab": {
     "autoexec": {
      "startup": false,
      "wait_interval": 0
     }
    },
    "colab_type": "code",
    "id": "zi55cxodfEfJ"
   },
   "outputs": [],
   "source": [
    "#data_pd.values.tolist()[:,0]"
   ]
  },
  {
   "cell_type": "code",
   "execution_count": 7,
   "metadata": {
    "colab": {
     "autoexec": {
      "startup": false,
      "wait_interval": 0
     }
    },
    "colab_type": "code",
    "id": "kucp4xiC362_"
   },
   "outputs": [],
   "source": [
    "issues_pd = data_pd['Issue']\n",
    "stance_pd = data_pd['Stance']"
   ]
  },
  {
   "cell_type": "code",
   "execution_count": 8,
   "metadata": {
    "colab": {
     "autoexec": {
      "startup": false,
      "wait_interval": 0
     },
     "base_uri": "https://localhost:8080/",
     "height": 154
    },
    "colab_type": "code",
    "executionInfo": {
     "elapsed": 908,
     "status": "ok",
     "timestamp": 1525926824887,
     "user": {
      "displayName": "Rohan Tondulkar",
      "photoUrl": "https://lh3.googleusercontent.com/a/default-user=s128",
      "userId": "117493569171327128390"
     },
     "user_tz": -330
    },
    "id": "hvPQ76On4Gbi",
    "outputId": "79f6f53c-fe4b-43d8-a582-ceeb3470cd04"
   },
   "outputs": [
    {
     "name": "stdout",
     "output_type": "stream",
     "text": [
      "['GST', 'PNB Scam', 'FDIPolicy', 'Padmavati film screening', 'Cauvery SC Verdict', 'Jallikattu ban', 'GDP growth', 'RightToPrivacy SC Verdict', 'Demonetisation', 'Swacch Bharat', 'Aadhar linking', 'Triple Talaq SC verdict', 'TripleTalaqBill', 'lgp price hike', 'reservation', 'Beef Ban', 'Inflation control', 'nsc and ppf rate cuts', 'Ram Mandir', 'EVM tampering', 'Fodder scam', 'hike in oil prices', 'Rohingyas', 'acchedin']\n"
     ]
    }
   ],
   "source": [
    "issues = []\n",
    "for iss in issues_pd:\n",
    "  if iss not in issues:\n",
    "    issues.append(iss)\n",
    "    \n",
    "print(issues)"
   ]
  },
  {
   "cell_type": "code",
   "execution_count": 9,
   "metadata": {
    "colab": {
     "autoexec": {
      "startup": false,
      "wait_interval": 0
     }
    },
    "colab_type": "code",
    "id": "u_-UONbT5oOL"
   },
   "outputs": [],
   "source": [
    "all_words = tweets\n",
    "word2cnt = Counter(all_words)\n",
    "stop_words = ['the','of','in','and','a','is','on','this','all','it','will','for','to','be','with',\n",
    "              'at','are','u','has','that','by','from', 'as','was','have','its','an','if','been','be','also','should','which']\n",
    "\n",
    "#issues = ['demonetization', 'gst', 'immigration', 'reservation', 'aadhar']"
   ]
  },
  {
   "cell_type": "code",
   "execution_count": 10,
   "metadata": {
    "colab": {
     "autoexec": {
      "startup": false,
      "wait_interval": 0
     }
    },
    "colab_type": "code",
    "id": "NOcA5Mze6Ef5"
   },
   "outputs": [],
   "source": [
    "with codecs.open('vocab_real.csv', 'w', 'utf-8') as fout:\n",
    "  fout.write(\"{}{}1000000000\\n{}{}1000000000\\n{}{}1000000000\\n{}{}1000000000\\n\".format(\"<PAD>\",\",\", \"<UNK>\",\",\", \"<S>\",\",\", \"</S>\",\",\"))\n",
    "  for word, cnt in word2cnt.most_common(len(word2cnt)):\n",
    "    if(word not in stop_words):\n",
    "      fout.write(\"{}{}{} \\n\".format(word,',',cnt))"
   ]
  },
  {
   "cell_type": "code",
   "execution_count": 11,
   "metadata": {
    "colab": {
     "autoexec": {
      "startup": false,
      "wait_interval": 0
     }
    },
    "colab_type": "code",
    "id": "WydkbsiR_3Jt"
   },
   "outputs": [],
   "source": [
    "#o = codecs.open(\"vocab.csv\").readlines()\n",
    "word_counts = pd.read_csv(\"vocab_real.csv\",header=None)"
   ]
  },
  {
   "cell_type": "code",
   "execution_count": 12,
   "metadata": {
    "colab": {
     "autoexec": {
      "startup": false,
      "wait_interval": 0
     },
     "base_uri": "https://localhost:8080/",
     "height": 359
    },
    "colab_type": "code",
    "executionInfo": {
     "elapsed": 1089,
     "status": "ok",
     "timestamp": 1525926828949,
     "user": {
      "displayName": "Rohan Tondulkar",
      "photoUrl": "https://lh3.googleusercontent.com/a/default-user=s128",
      "userId": "117493569171327128390"
     },
     "user_tz": -330
    },
    "id": "i23zn20d9tbr",
    "outputId": "90f30116-f08d-4a5b-9b47-be7a10d4e0d0"
   },
   "outputs": [
    {
     "data": {
      "text/html": [
       "<div>\n",
       "<style scoped>\n",
       "    .dataframe tbody tr th:only-of-type {\n",
       "        vertical-align: middle;\n",
       "    }\n",
       "\n",
       "    .dataframe tbody tr th {\n",
       "        vertical-align: top;\n",
       "    }\n",
       "\n",
       "    .dataframe thead th {\n",
       "        text-align: right;\n",
       "    }\n",
       "</style>\n",
       "<table border=\"1\" class=\"dataframe\">\n",
       "  <thead>\n",
       "    <tr style=\"text-align: right;\">\n",
       "      <th></th>\n",
       "      <th>0</th>\n",
       "      <th>1</th>\n",
       "    </tr>\n",
       "  </thead>\n",
       "  <tbody>\n",
       "    <tr>\n",
       "      <th>50</th>\n",
       "      <td>only</td>\n",
       "      <td>322</td>\n",
       "    </tr>\n",
       "    <tr>\n",
       "      <th>51</th>\n",
       "      <td>what</td>\n",
       "      <td>320</td>\n",
       "    </tr>\n",
       "    <tr>\n",
       "      <th>52</th>\n",
       "      <td>his</td>\n",
       "      <td>317</td>\n",
       "    </tr>\n",
       "    <tr>\n",
       "      <th>53</th>\n",
       "      <td>new</td>\n",
       "      <td>317</td>\n",
       "    </tr>\n",
       "    <tr>\n",
       "      <th>54</th>\n",
       "      <td>diesel</td>\n",
       "      <td>310</td>\n",
       "    </tr>\n",
       "    <tr>\n",
       "      <th>55</th>\n",
       "      <td>when</td>\n",
       "      <td>307</td>\n",
       "    </tr>\n",
       "    <tr>\n",
       "      <th>56</th>\n",
       "      <td>can</td>\n",
       "      <td>304</td>\n",
       "    </tr>\n",
       "    <tr>\n",
       "      <th>57</th>\n",
       "      <td>inflation</td>\n",
       "      <td>303</td>\n",
       "    </tr>\n",
       "    <tr>\n",
       "      <th>58</th>\n",
       "      <td>do</td>\n",
       "      <td>291</td>\n",
       "    </tr>\n",
       "    <tr>\n",
       "      <th>59</th>\n",
       "      <td>he</td>\n",
       "      <td>288</td>\n",
       "    </tr>\n",
       "  </tbody>\n",
       "</table>\n",
       "</div>"
      ],
      "text/plain": [
       "            0    1\n",
       "50       only  322\n",
       "51       what  320\n",
       "52        his  317\n",
       "53        new  317\n",
       "54     diesel  310\n",
       "55       when  307\n",
       "56        can  304\n",
       "57  inflation  303\n",
       "58         do  291\n",
       "59         he  288"
      ]
     },
     "execution_count": 12,
     "metadata": {},
     "output_type": "execute_result"
    }
   ],
   "source": [
    "#len(vocab)\n",
    "word_counts[50:60]"
   ]
  },
  {
   "cell_type": "code",
   "execution_count": 19,
   "metadata": {
    "colab": {
     "autoexec": {
      "startup": false,
      "wait_interval": 0
     }
    },
    "colab_type": "code",
    "id": "zY7CRre3EJCD"
   },
   "outputs": [],
   "source": [
    "def issue_vocab(issues,want = 'issue2id'):\n",
    "  #issues = ['demonetization', 'gst', 'immigration', 'reservation', 'aadhar', 'ram mandir', 'cauvery sc verdict', 'fdipolicy', 'TripleTalaqBill ',   'Triple Talaq SC verdict']\n",
    "  \n",
    "  if(want == 'issue2id'):\n",
    "    issue2idx = {issue:idx for idx,issue in enumerate(issues)}\n",
    "    return issue2idx\n",
    "  \n",
    "  else:\n",
    "    idx2issue = {idx:issue for idx,issue in enumerate(issues)}\n",
    "    return idx2issue\n",
    "  \n",
    "  \n",
    "def sent_vocab(want = 'sent2id'):\n",
    "  sent2id = {'Disagreement':0,'Neutral':1,'Agreement':2}\n",
    "  id2sent = {0:'Disagreement',1:'Neutral',2:'Agreement'}\n",
    "  if(want == 'sent2id'):\n",
    "    return sent2id\n",
    "  \n",
    "  else:\n",
    "    #idx2issue = {idx:issue for idx,issue in enumerate(issues)}\n",
    "    return idx2sent\n",
    "\n",
    "def load_vocab():\n",
    "  load_words = open(\"vocab_real.csv\").readlines()\n",
    "  for i in range(len(load_words)):\n",
    "    load_words[i] = load_words[i].split(',')\n",
    "    \n",
    "  vocab = [load_words[i][0] for i in range(len(load_words))]\n",
    "  word2idx = {word: idx for idx, word in enumerate(vocab)}\n",
    "  idx2word = {idx: word for idx, word in enumerate(vocab)}\n",
    "  return word2idx, idx2word"
   ]
  },
  {
   "cell_type": "code",
   "execution_count": 20,
   "metadata": {
    "colab": {
     "autoexec": {
      "startup": false,
      "wait_interval": 0
     }
    },
    "colab_type": "code",
    "id": "RDKfcQPSFdaD"
   },
   "outputs": [],
   "source": [
    "def create_data(tweets, issue_, sentiments,issues):\n",
    "  stop_words = ['the','of','in','and','a','is','on','this','all','it','will','for','to','be','with',\n",
    "              'at','are','u','has','that','by','from', 'as','was','have','its','an','if','been','be','also','should','which']\n",
    "  max_tweet_size = 60\n",
    "#   for i in tweets.split():\n",
    "#     if(len(i) > max_tweet_size):\n",
    "#       max_tweet_size = len(i)\n",
    "#   print(max_tweet_size)\n",
    "  word2idx,idx2word = load_vocab()\n",
    "  issue2idx = issue_vocab(issues,'issue2id')\n",
    "  sent2idx = sent_vocab()\n",
    "  \n",
    "  x_tweet, y_issue, y_label = [], [], []\n",
    "  for tweet,issue,sent in zip(tweets, issue_, sentiments):\n",
    "    x = [word2idx.get(word, 1) for word in (tweet + u\" </S>\").split() if word not in stop_words]\n",
    "    x = np.array(x)\n",
    "    t = np.zeros(max_tweet_size)\n",
    "    if len(x)<=max_tweet_size:\n",
    "      t[:len(x)] = x\n",
    "    else:\n",
    "      t = x[:max_tweet_size]\n",
    "    \n",
    "    #print(issue)\n",
    "    y_i = [issue2idx.get(issue,1)]\n",
    "    y_l = [sent2idx.get(sent,1)]\n",
    "    \n",
    "    x_tweet.append(t)\n",
    "    y_issue.append(y_i)\n",
    "    y_label.append(y_l)\n",
    "    \n",
    "  return np.array(x_tweet), np.array(y_issue), np.array(y_label)"
   ]
  },
  {
   "cell_type": "code",
   "execution_count": 21,
   "metadata": {
    "colab": {
     "autoexec": {
      "startup": false,
      "wait_interval": 0
     }
    },
    "colab_type": "code",
    "id": "nYtQgTuNao8f"
   },
   "outputs": [],
   "source": [
    "##  THIS IS A TEST BLOCK\n",
    "\n",
    "\n",
    "#y_l = [int(np.random.randint(0,2)) for i in range(n_tweets)]\n",
    "#y_i = [issues_test[np.random.randint(0,5)] for i in range(n_tweets)]"
   ]
  },
  {
   "cell_type": "code",
   "execution_count": 22,
   "metadata": {
    "colab": {
     "autoexec": {
      "startup": false,
      "wait_interval": 0
     }
    },
    "colab_type": "code",
    "id": "cFDCHK1lbTWg"
   },
   "outputs": [],
   "source": [
    "#raw_dataframe['Tweets'] = raw_dataframe['0']\n",
    "#raw_dataframe['Issue']  = y_i\n",
    "#raw_dataframe['Label']  = y_l"
   ]
  },
  {
   "cell_type": "code",
   "execution_count": 23,
   "metadata": {
    "colab": {
     "autoexec": {
      "startup": false,
      "wait_interval": 0
     }
    },
    "colab_type": "code",
    "id": "DvPSY6Ibb9TN"
   },
   "outputs": [],
   "source": [
    "#raw_dataframe.columns = ['Tweet','Issue', 'Label']\n",
    "#raw_dataframe.head()"
   ]
  },
  {
   "cell_type": "code",
   "execution_count": 24,
   "metadata": {
    "colab": {
     "autoexec": {
      "startup": false,
      "wait_interval": 0
     }
    },
    "colab_type": "code",
    "id": "a9ODYmtmcMuw"
   },
   "outputs": [],
   "source": [
    "#raw_dataframe.to_csv(\"\")"
   ]
  },
  {
   "cell_type": "code",
   "execution_count": 25,
   "metadata": {
    "colab": {
     "autoexec": {
      "startup": false,
      "wait_interval": 0
     },
     "base_uri": "https://localhost:8080/",
     "height": 341
    },
    "colab_type": "code",
    "executionInfo": {
     "elapsed": 759,
     "status": "ok",
     "timestamp": 1525926836119,
     "user": {
      "displayName": "Rohan Tondulkar",
      "photoUrl": "https://lh3.googleusercontent.com/a/default-user=s128",
      "userId": "117493569171327128390"
     },
     "user_tz": -330
    },
    "id": "WE01QetSdelx",
    "outputId": "6ac4f19a-b1d2-4103-f337-f9c9ca79cdc8"
   },
   "outputs": [
    {
     "name": "stdout",
     "output_type": "stream",
     "text": [
      "[['a no of people approach me daily worried abt the safety of their money in banks considering large no of bank frauds coming to light daily pm may kindly inform the public which bank is safe for people to keep their money URL sir there is a big rumour people are very skeptical that their saved money in the banks can go for a toss anytime hope wish pray that you our people all of us save the hard earned money in banks improve our incomes strengthen the income tax system'\n",
      "  'ArvindKejriwal' 'AAP' 'GST' 'Disagreement']\n",
      " ['its now revealed that our fms silence on the pnb scam was to protect his lawyer daughter who was paid a large retainer by the accused just a month before the scam became public when other law firms of the accused have been raided by the cbi why not hers modirobsindia URL you know doing something right when the ruling dispensation tries to rebut a story that has not even been published yet URL'\n",
      "  'ArvindKejriwal' 'AAP' 'PNB Scam' 'Neutral']\n",
      " ['pnb scam started in is going on till today the bjp is accusing the cong and cong bjp is also on the side of cong pnb scam started in is going on till today the bjp is accusing the cong and cong bjp is the only one that all the scams of cong time are still going on earlier cong was earning now the bjp earns from those scams that is why till today the bjp has not sent a single congressman to jail in any scam'\n",
      "  'ArvindKejriwal' 'AAP' 'PNB Scam' 'Neutral']\n",
      " ...\n",
      " ['infosys under scanner for gst glitches the sunday guardian' 'Swamy39'\n",
      "  'BJP' 'GST' 'Agreement']\n",
      " ['USER_MENTION explaining gst and agreeing to fix it if complaints brought to his attention hardik waffling before buddhu'\n",
      "  'Swamy39' 'BJP' 'GST' 'Agreement']\n",
      " ['i am writing a letter soon to pm detailing how compulsory aadhar is a threat to our national security sc will i am sure strike it down'\n",
      "  'Swamy39' 'BJP' 'Aadhar linking' 'Agreement']]\n"
     ]
    }
   ],
   "source": [
    "#data_pd.head()\n",
    "data_list = data_pd.values\n",
    "print(data_list)"
   ]
  },
  {
   "cell_type": "code",
   "execution_count": 26,
   "metadata": {
    "colab": {
     "autoexec": {
      "startup": false,
      "wait_interval": 0
     },
     "base_uri": "https://localhost:8080/",
     "height": 154
    },
    "colab_type": "code",
    "executionInfo": {
     "elapsed": 837,
     "status": "ok",
     "timestamp": 1525926837032,
     "user": {
      "displayName": "Rohan Tondulkar",
      "photoUrl": "https://lh3.googleusercontent.com/a/default-user=s128",
      "userId": "117493569171327128390"
     },
     "user_tz": -330
    },
    "id": "r5_eoYQLdv71",
    "outputId": "4c9ae620-1376-4075-9109-2bf2d1667c42"
   },
   "outputs": [
    {
     "name": "stdout",
     "output_type": "stream",
     "text": [
      "a no of people approach me daily worried abt the safety of their money in banks considering large no of bank frauds coming to light daily pm may kindly inform the public which bank is safe for people to keep their money URL sir there is a big rumour people are very skeptical that their saved money in the banks can go for a toss anytime hope wish pray that you our people all of us save the hard earned money in banks improve our incomes strengthen the income tax system GST Disagreement\n"
     ]
    }
   ],
   "source": [
    "tweets_ = data_list[:,0]\n",
    "issue_ = data_list[:,3]\n",
    "label_ = data_list[:,4]\n",
    "print(tweets_[0],issue_[0],label_[0])"
   ]
  },
  {
   "cell_type": "code",
   "execution_count": 27,
   "metadata": {
    "colab": {
     "autoexec": {
      "startup": false,
      "wait_interval": 0
     }
    },
    "colab_type": "code",
    "id": "dhgYIofheA0T"
   },
   "outputs": [],
   "source": [
    "x_tweet,y_issue, y_label = create_data(tweets_,issue_,label_,issues)\n",
    "#x_tweet,y_issue, y_label = np.array(x_tweet),np.array(y_issue), np.array(y_label)"
   ]
  },
  {
   "cell_type": "code",
   "execution_count": 28,
   "metadata": {
    "colab": {
     "autoexec": {
      "startup": false,
      "wait_interval": 0
     },
     "base_uri": "https://localhost:8080/",
     "height": 68
    },
    "colab_type": "code",
    "executionInfo": {
     "elapsed": 830,
     "status": "ok",
     "timestamp": 1525926839004,
     "user": {
      "displayName": "Rohan Tondulkar",
      "photoUrl": "https://lh3.googleusercontent.com/a/default-user=s128",
      "userId": "117493569171327128390"
     },
     "user_tz": -330
    },
    "id": "xpqvGn2M8GLx",
    "outputId": "e0cc450e-a5ec-4dce-cdc3-cf2dd4a15df8"
   },
   "outputs": [
    {
     "name": "stdout",
     "output_type": "stream",
     "text": [
      "5753 5753 5753\n",
      "720 720 720\n",
      "719 719 719\n"
     ]
    }
   ],
   "source": [
    "idx = np.arange(len(x_tweet))\n",
    "np.random.shuffle(idx)\n",
    "idx\n",
    "\n",
    "pc_80 = int(0.8 * len(x_tweet))\n",
    "pc_90 = int(0.9 * len(x_tweet))\n",
    "\n",
    "x_train = x_tweet[idx[:pc_80]]\n",
    "y_issue_train = y_issue[idx[:pc_80]]\n",
    "y_label_train = y_label[idx[:pc_80]]\n",
    "\n",
    "x_val = x_tweet[idx[pc_80:pc_90]]\n",
    "y_issue_val = y_issue[idx[pc_80:pc_90]]\n",
    "y_label_val = y_label[idx[pc_80:pc_90]]\n",
    "\n",
    "x_test = x_tweet[idx[pc_90:]]\n",
    "y_issue_test = y_issue[idx[pc_90:]]\n",
    "y_label_test = y_label[idx[pc_90:]]\n",
    "\n",
    "print(len(x_train),len(y_issue_train),len(y_label_train))\n",
    "print(len(x_test),len(y_issue_test),len(y_label_test))\n",
    "print(len(x_val),len(y_issue_val),len(y_label_val))"
   ]
  },
  {
   "cell_type": "code",
   "execution_count": 23,
   "metadata": {
    "colab": {
     "autoexec": {
      "startup": false,
      "wait_interval": 0
     },
     "base_uri": "https://localhost:8080/",
     "height": 34
    },
    "colab_type": "code",
    "executionInfo": {
     "elapsed": 1015,
     "status": "ok",
     "timestamp": 1525926840095,
     "user": {
      "displayName": "Rohan Tondulkar",
      "photoUrl": "https://lh3.googleusercontent.com/a/default-user=s128",
      "userId": "117493569171327128390"
     },
     "user_tz": -330
    },
    "id": "wyfLp52cu2ZI",
    "outputId": "2e37369a-58f5-4d10-c7fd-2943355831d0"
   },
   "outputs": [
    {
     "data": {
      "text/plain": [
       "(60,)"
      ]
     },
     "execution_count": 23,
     "metadata": {},
     "output_type": "execute_result"
    }
   ],
   "source": [
    "x_tweet[2].shape"
   ]
  },
  {
   "cell_type": "markdown",
   "metadata": {
    "colab_type": "text",
    "id": "M-KOp0_8hdjJ"
   },
   "source": [
    "## **MODEL**"
   ]
  },
  {
   "cell_type": "code",
   "execution_count": 29,
   "metadata": {
    "colab": {
     "autoexec": {
      "startup": false,
      "wait_interval": 0
     }
    },
    "colab_type": "code",
    "id": "Eqz9hwKdhneg"
   },
   "outputs": [],
   "source": [
    "import torch as torch\n",
    "import torch.nn as nn\n",
    "import torch.nn.functional as F\n",
    "import torch.optim as optim\n",
    "from torch.autograd import Variable\n",
    "import time"
   ]
  },
  {
   "cell_type": "code",
   "execution_count": null,
   "metadata": {
    "colab": {
     "autoexec": {
      "startup": false,
      "wait_interval": 0
     }
    },
    "colab_type": "code",
    "id": "z2VRh0ZviAaS"
   },
   "outputs": [],
   "source": []
  },
  {
   "cell_type": "markdown",
   "metadata": {
    "colab_type": "text",
    "id": "9Dx9nt_r4LSi"
   },
   "source": [
    "### **Class:**                 \n",
    "  **Encoder** [  * Encodes the input to a hidden representation*  ]           \n",
    "  **Predictor** [  *Given the final hodden state predicts the ISSUE and the LABEL* ]"
   ]
  },
  {
   "cell_type": "code",
   "execution_count": 30,
   "metadata": {
    "colab": {
     "autoexec": {
      "startup": false,
      "wait_interval": 0
     }
    },
    "colab_type": "code",
    "id": "888Kq4V8jtKr"
   },
   "outputs": [],
   "source": [
    "class Encoder(nn.Module):\n",
    "  def __init__(self,vocab_size, hidden_size):\n",
    "    super(Encoder,self).__init__()\n",
    "    #self.input_size = input_size\n",
    "    self.hidden_size = hidden_size\n",
    "    \n",
    "    self.word_embeddings = nn.Embedding(vocab_size, hidden_size)\n",
    "    \n",
    "    self.GRU = nn.GRU(self.hidden_size,self.hidden_size, batch_first = True)\n",
    "    \n",
    "  def forward(self,x_input,hidden_state):\n",
    "    embedded = self.word_embeddings(x_input)\n",
    "    #print(embedded.shape)\n",
    "    #output = embedded#.view(-1,-1, self.hidden_size)\n",
    "    #print(output.shape)\n",
    "    output, hn = self.GRU(embedded,hidden_state)\n",
    "      \n",
    "    return output, hn\n",
    "\n",
    "  def H_t0(self, batch_size):\n",
    "    return torch.zeros(1,batch_size,self.hidden_size)"
   ]
  },
  {
   "cell_type": "code",
   "execution_count": 31,
   "metadata": {
    "colab": {
     "autoexec": {
      "startup": false,
      "wait_interval": 0
     }
    },
    "colab_type": "code",
    "id": "Bb3fIO6P36d1"
   },
   "outputs": [],
   "source": [
    "class Predictor(nn.Module):\n",
    "  def __init__(self,input_size,hidden_size,output_size_issue,output_size_label):\n",
    "    super(Predictor,self).__init__()\n",
    "    self.input_size = input_size\n",
    "    self.hidden_size = hidden_size\n",
    "    self.output_size_issue,self.output_size_label = output_size_issue,output_size_label\n",
    "    \n",
    "    self.softmax = nn.LogSoftmax(dim = 1)\n",
    "    self.linear_issue= nn.Linear(self.input_size,hidden_size)\n",
    "    self.out_issue = nn.Linear(self.hidden_size,output_size_issue)\n",
    "   \n",
    "    self.linear_label = nn.Linear(self.input_size, hidden_size)\n",
    "    self.out_label = nn.Linear(self.hidden_size,self.output_size_label)\n",
    "    \n",
    "  def forward(self, x_input):\n",
    "    output_1 = self.linear_issue(x_input)\n",
    "    output_1 = F.relu(output_1)\n",
    "    output_1 = self.out_issue(output_1)\n",
    "    output_1 = self.softmax(output_1)\n",
    "    \n",
    "    output_2 = self.linear_label(x_input)\n",
    "    output_2 = F.relu(output_2)\n",
    "    output_2 = self.out_label(output_2)\n",
    "    output_2 = self.softmax(output_2)\n",
    "    \n",
    "    return output_1"
   ]
  },
  {
   "cell_type": "code",
   "execution_count": 33,
   "metadata": {
    "colab": {
     "autoexec": {
      "startup": false,
      "wait_interval": 0
     }
    },
    "colab_type": "code",
    "id": "wiosV1SVNFZO"
   },
   "outputs": [],
   "source": [
    "def batches_train(batch_size, idx):\n",
    "  start =  batch_size*idx\n",
    "  end = start + batch_size\n",
    "  #print('start: {0}, End: {1}'.format(start, end))\n",
    "  #if(end>len(x_tweet)):\n",
    "  #  end = start + (len(x_tweet)-start)\n",
    "  return x_train[start:end],y_issue_train[start:end], y_label_train[start:end]"
   ]
  },
  {
   "cell_type": "code",
   "execution_count": null,
   "metadata": {},
   "outputs": [],
   "source": []
  },
  {
   "cell_type": "code",
   "execution_count": 64,
   "metadata": {
    "colab": {
     "autoexec": {
      "startup": false,
      "wait_interval": 0
     }
    },
    "colab_type": "code",
    "id": "xu0yiMzct9sy"
   },
   "outputs": [],
   "source": [
    "def train(encoder, predictor, encoder_optimizer, predictor_optimizer, issue_criterion,  hidden_size, issue_losses, val_issue_losses):\n",
    "    entire_issue_loss = 0\n",
    "    entire_label_loss = 0\n",
    "\n",
    "    for ei in range(n_iters):\n",
    "        loss_issue = 0\n",
    "        loss_label = 0\n",
    "        encoder_optimizer.zero_grad()\n",
    "        predictor_optimizer.zero_grad()\n",
    "        encoder_hidden = Variable(encoder.H_t0(batch_size))\n",
    "        input_tensor, y_issue, y_label = batches_train(batch_size, ei)\n",
    "        #print(input_tensor)\n",
    "        input_tensor = Variable(torch.LongTensor(input_tensor))\n",
    "        target_issue = Variable(torch.LongTensor(y_issue)).view(-1)\n",
    "\n",
    "        #target_label = Variable(torch.LongTensor(y_label)).view(-1)\n",
    "        encoder_output, encoder_hidden = encoder(input_tensor, encoder_hidden)\n",
    "        predictor_input = encoder_hidden.view(-1, hidden_size)\n",
    "        #predictor_issue, predictor_label = predictor(predictor_input)###################this has changed\n",
    "        predictor_issue = predictor(predictor_input)\n",
    "        #print(predictor_issue.shape)\n",
    "        #print(target_issue.shape)\n",
    "\n",
    "        #print(target_issue.shape)\n",
    "        loss_issue = issue_criterion(predictor_issue, target_issue)\n",
    "        #loss_label = label_criterion(predictor_label,target_label)\n",
    "        #combined_loss = (loss_issue + loss_label)/2.0\n",
    "        #combined_loss.backward(retain_graph=True)\n",
    "        loss_issue.backward(retain_graph = True)\n",
    "\n",
    "        encoder_optimizer.step()\n",
    "        predictor_optimizer.step()\n",
    "\n",
    "        entire_issue_loss += loss_issue.data[0] \n",
    "        #entire_label_loss += loss_label.data[0]\n",
    "        \n",
    "    if ei%50==0:\n",
    "        print('\\n')\n",
    "        print('Total loss for {0} iteration - Issue: {1}, Label: {2}'.format(ei, loss_issue.data[0], loss_label.data[0]))\n",
    "        issue_losses.append(loss_issue.data[0])\n",
    "        #label_losses.append(loss_label.data[0])\n",
    "        val_issue_loss = validate(encoder, predictor, hidden_size, len(x_val))\n",
    "        #val_issue_loss, val_label_loss = validate(encoder, predictor, hidden_size, len(x_val)) #this has changed\n",
    "        val_issue_losses.append(val_issue_loss) \n",
    "        #val_label_losses.append(val_label_loss)\n",
    "        \n",
    "        \n",
    "    #del input_tensor, y_issue, y_label, predictor_input, encoder_output, predictor_issue, predictor_label, encoder_hidden\n",
    "    _, pred_issue = torch.max(predictor_issue, 1)\n",
    "    #issue_accuracy=accuracy_score(predictor_issue_argmax,target_issue)\n",
    "    issue_acc =  100*len(pred_issue[pred_issue==target_issue])/len(target_issue)\n",
    "    #label_acc =  100*len(predictor_label[predictor_label==target_label])/len(target_label)\n",
    "    #print('Issue Accuracy: {0}%, Label Accuracy: {1}%'.format(issue_acc, label_acc))\n",
    "    print(\"Issue Accuracy \", issue_acc)\n",
    "      \n",
    "\n",
    "    entire_issue_loss = entire_issue_loss/n_iters\n",
    "    #entire_label_loss = entire_label_loss/n_iters\n",
    "    \n",
    "    return issue_losses,  val_issue_losses\n",
    "    #return issue_losses, label_losses, val_issue_losses, val_label_losses\n",
    "    \n",
    "\n",
    "    #return (loss_issue.item() / target_issue_length),(loss_label.item() / target_label_length)"
   ]
  },
  {
   "cell_type": "code",
   "execution_count": 90,
   "metadata": {
    "colab": {
     "autoexec": {
      "startup": false,
      "wait_interval": 0
     }
    },
    "colab_type": "code",
    "id": "F6KBnwaxymba"
   },
   "outputs": [],
   "source": [
    "def training_(encoder, predictor, epochs, hidden_size, learning_rate=0.001, batch_size = 1):\n",
    "    start = time.time()\n",
    "    issue_losses = []\n",
    "    label_losses = []\n",
    "    \n",
    "    val_issue_losses = []\n",
    "    val_label_losses = []\n",
    "    \n",
    "    print_loss_total = 0 \n",
    "    plot_loss_total = 0\n",
    "\n",
    "    #encoder_optimizer = optim.Adagrad(encoder.parameters(), lr=learning_rate)\n",
    "    #predictor_optimizer = optim.Adagrad(predictor.parameters(), lr=learning_rate)\n",
    "    encoder_optimizer = optim.Adam(encoder.parameters(), lr=learning_rate)\n",
    "    predictor_optimizer = optim.Adam(predictor.parameters(), lr=learning_rate)\n",
    "    \n",
    "    issue_criterion = nn.CrossEntropyLoss()\n",
    "    #label_criterion = nn.CrossEntropyLoss()\n",
    "    #x_tweet,y_issue, y_label = create_data(tweets_,issue_,label_)\n",
    "\n",
    "    for it in range(0, epochs):\n",
    "        start = time.time()\n",
    "        issue_losses,  val_issue_losse= train(encoder, predictor, encoder_optimizer, predictor_optimizer, issue_criterion, hidden_size, issue_losses,\\\n",
    "                                                                              val_issue_losses)\n",
    "#         issue_losses, label_losses, val_issue_losse, val_label_losses = train(encoder, predictor, encoder_optimizer, predictor_optimizer, issue_criterion, label_criterion, hidden_size, issue_losses, label_losses,\\\n",
    "#                                                                               val_issue_losses, val_label_losses)\n",
    "        print('Time for epoch: {0} is {1} secs'.format(it, time.time()-start))\n",
    "    \n",
    "    return issue_losses, val_issue_losses\n",
    "    #return issue_losses, label_losses, val_issue_losse, val_label_losses\n",
    "    \n",
    "\n"
   ]
  },
  {
   "cell_type": "markdown",
   "metadata": {
    "colab_type": "text",
    "id": "SzT7YJ7M-Opq"
   },
   "source": []
  },
  {
   "cell_type": "markdown",
   "metadata": {
    "colab_type": "text",
    "id": "y1IjKZKmiHUw"
   },
   "source": [
    "**Hyperparameters**"
   ]
  },
  {
   "cell_type": "code",
   "execution_count": 66,
   "metadata": {
    "colab": {
     "autoexec": {
      "startup": false,
      "wait_interval": 0
     }
    },
    "colab_type": "code",
    "id": "fNvAQISgyk4p"
   },
   "outputs": [],
   "source": [
    "num_issues = len(issues)\n",
    "epochs = 10\n",
    "\n",
    "input_size = 256\n",
    "vocab_size = len(word_counts)\n",
    "output_size_issue = num_issues\n",
    "output_size_label = 3\n",
    "hidden_size = 256\n",
    "\n",
    "\n",
    "batch_size = 32 #len(x_train)\n",
    "n_iters = int(len(x_train)/batch_size)\n",
    "lr = 0.01"
   ]
  },
  {
   "cell_type": "code",
   "execution_count": 96,
   "metadata": {
    "colab": {
     "autoexec": {
      "startup": false,
      "wait_interval": 0
     },
     "base_uri": "https://localhost:8080/",
     "height": 4437
    },
    "colab_type": "code",
    "executionInfo": {
     "elapsed": 706390,
     "status": "ok",
     "timestamp": 1525927698594,
     "user": {
      "displayName": "Rohan Tondulkar",
      "photoUrl": "https://lh3.googleusercontent.com/a/default-user=s128",
      "userId": "117493569171327128390"
     },
     "user_tz": -330
    },
    "id": "8aNxQpDBNZIx",
    "outputId": "d33e109a-abf3-4df8-fdbe-b4456f1861a9",
    "scrolled": true
   },
   "outputs": [
    {
     "name": "stderr",
     "output_type": "stream",
     "text": [
      "/home/bedanta/ml/lib/python3.5/site-packages/ipykernel_launcher.py:34: UserWarning: invalid index of a 0-dim tensor. This will be an error in PyTorch 0.5. Use tensor.item() to convert a 0-dim tensor to a Python number\n"
     ]
    },
    {
     "name": "stdout",
     "output_type": "stream",
     "text": [
      "Issue Accuracy  96.875\n",
      "Time for epoch: 0 is 49.77706718444824 secs\n"
     ]
    }
   ],
   "source": [
    "#encoder = Encoder(vocab_size,hidden_size)\n",
    "#predictor = Predictor(input_size,hidden_size,output_size_issue,output_size_label)\n",
    "issue_losses, val_issue_losses = training_(encoder, predictor, 1, hidden_size, lr, batch_size)\n",
    "#issue_losses, label_losses, val_issue_losse, val_label_losses = training_(encoder, predictor, 10, hidden_size, lr, batch_size)"
   ]
  },
  {
   "cell_type": "code",
   "execution_count": 87,
   "metadata": {
    "colab": {
     "autoexec": {
      "startup": false,
      "wait_interval": 0
     },
     "base_uri": "https://localhost:8080/",
     "height": 752
    },
    "colab_type": "code",
    "executionInfo": {
     "elapsed": 1386,
     "status": "ok",
     "timestamp": 1525927808756,
     "user": {
      "displayName": "Rohan Tondulkar",
      "photoUrl": "https://lh3.googleusercontent.com/a/default-user=s128",
      "userId": "117493569171327128390"
     },
     "user_tz": -330
    },
    "id": "Kn_3NtiVGfEu",
    "outputId": "6dd1e8ca-64de-4d74-cbf3-da9e852903b6"
   },
   "outputs": [
    {
     "data": {
      "text/plain": [
       "<matplotlib.legend.Legend at 0x7f5e63828668>"
      ]
     },
     "execution_count": 87,
     "metadata": {},
     "output_type": "execute_result"
    },
    {
     "data": {
      "image/png": "[encoded data removed]",
      "text/plain": [
       "<Figure size 432x288 with 1 Axes>"
      ]
     },
     "metadata": {},
     "output_type": "display_data"
    }
   ],
   "source": [
    "plt.figure()\n",
    "plt.title('Training Issue loss v/s iterations')\n",
    "plt.xlabel('Iterations')\n",
    "plt.ylabel('Loss')\n",
    "plt.plot(issue_losses, label = 'Training')\n",
    "plt.plot(issue_losses, label = 'Validation')\n",
    "plt.legend()\n",
    "    \n",
    "# plt.figure()\n",
    "# plt.title('Training Label loss v/s iterations')\n",
    "# plt.xlabel('Iterations')\n",
    "# #plt.ylabel('Loss')\n",
    "# plt.plot(label_losses, label = 'Training')\n",
    "# #plt.plot(val_label_losses, label = 'Validation')\n",
    "# plt.legend()"
   ]
  },
  {
   "cell_type": "code",
   "execution_count": 88,
   "metadata": {},
   "outputs": [
    {
     "data": {
      "text/plain": [
       "[]"
      ]
     },
     "execution_count": 88,
     "metadata": {},
     "output_type": "execute_result"
    }
   ],
   "source": [
    "issue_losses"
   ]
  },
  {
   "cell_type": "code",
   "execution_count": 80,
   "metadata": {
    "colab": {
     "autoexec": {
      "startup": false,
      "wait_interval": 0
     }
    },
    "colab_type": "code",
    "id": "CHtFhVtdgbiq"
   },
   "outputs": [],
   "source": [
    "def batches_test(batch_size, idx):\n",
    "  start =  batch_size*idx\n",
    "  end = start + batch_size\n",
    "  return x_test[start:end], y_issue_test[start:end], y_label_test[start:end]\n",
    "\n",
    "def batches_val(batch_size, idx):\n",
    "  start =  batch_size*idx\n",
    "  end = start + batch_size\n",
    "  return x_val[start:end], y_issue_val[start:end], y_label_val[start:end]\n",
    "\n",
    "\n",
    "def eval(encoder, predictor, hidden_size, batch_size):\n",
    "  test_num_batches = int(len(x_test)/batch_size)\n",
    "  issue_criterion = nn.CrossEntropyLoss()\n",
    "  label_criterion = nn.CrossEntropyLoss()\n",
    "  \n",
    "  total_issue_loss = 0\n",
    "  total_label_loss = 0\n",
    "  pred_issue = Variable(torch.LongTensor(len(x_test)))\n",
    "  pred_label = Variable(torch.LongTensor(len(x_test)))\n",
    "  \n",
    "  for ei in range(test_num_batches):\n",
    "      loss_issue = 0\n",
    "      loss_label = 0\n",
    "      encoder_hidden = Variable(encoder.H_t0(batch_size))\n",
    "      input_tensor, y_issue, y_label = batches_test(batch_size, ei)\n",
    "      #print(y_issue.shape)\n",
    "      #print(y_label.shape)\n",
    "      #print(input_tensor.shape)\n",
    "      \n",
    "      input_tensor = Variable(torch.LongTensor(input_tensor))\n",
    "      target_issue = Variable(torch.LongTensor(y_issue)).view(-1)\n",
    "   \n",
    "      #print('Target issue: {0}'.format(target_issue.shape))\n",
    "      \n",
    "      target_label = Variable(torch.LongTensor(y_label)).view(-1)\n",
    "      #print('Target label: {0}'.format(target_label.shape))\n",
    "      \n",
    "      #print(input_tensor.shape)\n",
    "      encoder_output, encoder_hidden = encoder(input_tensor, encoder_hidden)\n",
    "      #print(encoder_hidden.shape)\n",
    "      #print(encoder_output.shape)\n",
    "      #encoder_outputs[ei] = encoder_hidden[0]\n",
    "      \n",
    "      predictor_input = encoder_hidden.view(-1, hidden_size)\n",
    "      #print(predictor_input.shape)\n",
    "      predictor_issue = predictor(predictor_input)\n",
    "      _, pred_issue = torch.max(predictor_issue, 1)\n",
    "      #_, pred_label = torch.max(predictor_label, 1)\n",
    "      \n",
    "      loss_issue = issue_criterion(predictor_issue, target_issue)\n",
    "      #loss_label = label_criterion(predictor_label, target_label)\n",
    "      \n",
    "      total_issue_loss += loss_issue.data[0]\n",
    "      #total_label_loss += loss_label.data[0]\n",
    "      \n",
    "  print('Test issue loss: {0}, label loss: {1}'.format(total_issue_loss/test_num_batches, total_label_loss/test_num_batches))\n",
    "  \n",
    "  print(pred_issue.shape)\n",
    "  print(target_issue.shape)\n",
    "  issue_acc = 100*len(pred_issue[pred_issue==target_issue])/len(x_test)\n",
    "  #label_acc = 100*len(pred_label[pred_label==target_label])/len(x_test)\n",
    "  \n",
    "  #print('Test issue acc: {0}, label acc: {1}'.format(issue_acc, label_acc))\n",
    "  print(\"Issue accuracy : \",issue_acc)\n",
    "  \n",
    "  cf_issue = confusion_matrix(target_issue.data.numpy(), pred_issue.data.numpy())\n",
    "  #print(cf_issue)\n",
    "  \n",
    "  #cf_label = confusion_matrix(target_label.data.numpy(), pred_label.data.numpy())\n",
    "  #print(cf_label)\n",
    "  \n",
    "  from sklearn.metrics import f1_score\n",
    "  \n",
    "  print('F1 score')\n",
    "  print(f1_score(target_issue.data.numpy(), pred_issue.data.numpy(), average='weighted') )\n",
    "  \n",
    "  #print(f1_score(target_label.data.numpy(), pred_label.data.numpy(), average='weighted') )\n",
    "  \n",
    "  \n",
    "  return cf_issue#, cf_label\n",
    "  \n",
    "  \n",
    "def validate(encoder, predictor, hidden_size, batch_size):\n",
    "  val_num_batches = int(len(x_val)/batch_size)\n",
    "  issue_criterion = nn.CrossEntropyLoss()\n",
    "  label_criterion = nn.CrossEntropyLoss()\n",
    "  \n",
    "  total_issue_loss = 0\n",
    "  total_label_loss = 0\n",
    "  pred_issue = Variable(torch.LongTensor(len(x_val)))\n",
    "  pred_label = Variable(torch.LongTensor(len(x_val)))\n",
    "  \n",
    "  for ei in range(val_num_batches):\n",
    "      loss_issue = 0\n",
    "      loss_label = 0\n",
    "      encoder_hidden = Variable(encoder.H_t0(batch_size))\n",
    "      input_tensor, y_issue, y_label = batches_val(batch_size, ei)\n",
    "      #print(y_issue.shape)\n",
    "      #print(y_label.shape)\n",
    "      #print(input_tensor.shape)\n",
    "      \n",
    "      input_tensor = Variable(torch.LongTensor(input_tensor))\n",
    "      target_issue = Variable(torch.LongTensor(y_issue)).view(-1)\n",
    "   \n",
    "      #print('Target issue: {0}'.format(target_issue.shape))\n",
    "      \n",
    "      target_label = Variable(torch.LongTensor(y_label)).view(-1)\n",
    "      #print('Target label: {0}'.format(target_label.shape))\n",
    "      \n",
    "      #print(input_tensor.shape)\n",
    "      encoder_output, encoder_hidden = encoder(input_tensor, encoder_hidden)\n",
    "      #print(encoder_hidden.shape)\n",
    "      #print(encoder_output.shape)\n",
    "      #encoder_outputs[ei] = encoder_hidden[0]\n",
    "      \n",
    "      predictor_input = encoder_hidden.view(-1, hidden_size)\n",
    "      #print(predictor_input.shape)\n",
    "      predictor_issue= predictor(predictor_input)\n",
    "      #predictor_issue, predictor_label = predictor(predictor_input)\n",
    "      _, pred_issue = torch.max(predictor_issue, 1)\n",
    "      #_, pred_label = torch.max(predictor_label, 1)\n",
    "      \n",
    "      loss_issue = issue_criterion(predictor_issue, target_issue)\n",
    "      #loss_label = label_criterion(predictor_label, target_label)\n",
    "      \n",
    "      total_issue_loss += loss_issue.data[0]\n",
    "      #total_label_loss += loss_label.data[0]\n",
    "      \n",
    "  print('Validation issue loss: {0}, label loss: {1}'.format(total_issue_loss/val_num_batches, total_label_loss/val_num_batches))\n",
    "  \n",
    "  #print(pred_issue.shape)\n",
    "  #print(target_issue.shape)\n",
    "  issue_acc = 100*len(pred_issue[pred_issue==target_issue])/len(x_val)\n",
    "  #label_acc = 100*len(pred_label[pred_label==target_label])/len(x_val)\n",
    "  \n",
    "  print('Validation issue acc: {0}, label acc: {1}'.format(issue_acc, label_acc))\n",
    "  \n",
    "  #print(confusion_matrix(target_issue.data.numpy(), pred_issue.data.numpy()))\n",
    "  #print(confusion_matrix(target_label.data.numpy(), pred_label.data.numpy()))\n",
    "  \n",
    "  return total_issue_loss/val_num_batches#, total_label_loss/val_num_batches\n",
    "    \n",
    "#eval(encoder, predictor, hidden_size, batch_size=len(x_val))"
   ]
  },
  {
   "cell_type": "code",
   "execution_count": 70,
   "metadata": {
    "colab": {
     "autoexec": {
      "startup": false,
      "wait_interval": 0
     },
     "base_uri": "https://localhost:8080/",
     "height": 34
    },
    "colab_type": "code",
    "executionInfo": {
     "elapsed": 1106,
     "status": "ok",
     "timestamp": 1525873178016,
     "user": {
      "displayName": "Bedanta Kumar Das",
      "photoUrl": "//lh4.googleusercontent.com/-txNiw2Xzebc/AAAAAAAAAAI/AAAAAAAAAAc/HwID7VDVbPY/s50-c-k-no/photo.jpg",
      "userId": "104033969002437608646"
     },
     "user_tz": -330
    },
    "id": "oRfV64mageVV",
    "outputId": "d45198e2-e0ef-4f43-f6f4-9e0845110df2"
   },
   "outputs": [
    {
     "data": {
      "text/plain": [
       "17443"
      ]
     },
     "execution_count": 70,
     "metadata": {},
     "output_type": "execute_result"
    }
   ],
   "source": [
    "len(word_counts)"
   ]
  },
  {
   "cell_type": "code",
   "execution_count": 71,
   "metadata": {
    "colab": {
     "autoexec": {
      "startup": false,
      "wait_interval": 0
     },
     "base_uri": "https://localhost:8080/",
     "height": 425
    },
    "colab_type": "code",
    "executionInfo": {
     "elapsed": 841,
     "status": "ok",
     "timestamp": 1525907469156,
     "user": {
      "displayName": "Rohan Tondulkar",
      "photoUrl": "https://lh3.googleusercontent.com/a/default-user=s128",
      "userId": "117493569171327128390"
     },
     "user_tz": -330
    },
    "id": "FwBMkXe7H5r6",
    "outputId": "26a43a57-997b-48eb-bb5a-3a6d1f28320b"
   },
   "outputs": [
    {
     "name": "stdout",
     "output_type": "stream",
     "text": [
      "torch.Size([10, 3])\n"
     ]
    },
    {
     "data": {
      "text/plain": [
       "(tensor([    140044211870824,                   0,     140043374330712,\n",
       "             140043374833480,            10921600, 7234296275584312685,\n",
       "                   115634736, 3761125135767069748, 4667527276315905455,\n",
       "         2478159795180681527]), tensor([0, 0, 2, 2, 0, 1, 1, 1, 1, 1]))"
      ]
     },
     "execution_count": 71,
     "metadata": {},
     "output_type": "execute_result"
    }
   ],
   "source": [
    "x = Variable(torch.LongTensor(10,3))\n",
    "print(x.shape)\n",
    "torch.max(x, 1)"
   ]
  },
  {
   "cell_type": "code",
   "execution_count": 57,
   "metadata": {
    "colab": {
     "autoexec": {
      "startup": false,
      "wait_interval": 0
     }
    },
    "colab_type": "code",
    "id": "D7wcRqYXOQmb"
   },
   "outputs": [],
   "source": [
    "l = []\n",
    "stop_words = ['the','of','in','and','a','is','on','this','all','it','will','for','to','be','with',\n",
    "              'at','are','u','has','that','by','from', 'as','was','have','its','an','if','been','be','also','should','which']\n",
    "for i in tweets_:\n",
    "  x = [word for word in i.split() if word not in stop_words]\n",
    "  l.append(len(x))\n",
    "  #print(i.split())\n",
    "  #break\n",
    "  \n",
    "l = np.array(l)\n"
   ]
  },
  {
   "cell_type": "code",
   "execution_count": 58,
   "metadata": {
    "colab": {
     "autoexec": {
      "startup": false,
      "wait_interval": 0
     },
     "base_uri": "https://localhost:8080/",
     "height": 34
    },
    "colab_type": "code",
    "executionInfo": {
     "elapsed": 612,
     "status": "ok",
     "timestamp": 1525905503743,
     "user": {
      "displayName": "Rohan Tondulkar",
      "photoUrl": "https://lh3.googleusercontent.com/a/default-user=s128",
      "userId": "117493569171327128390"
     },
     "user_tz": -330
    },
    "id": "1NRQwwYCrqHb",
    "outputId": "f7c42983-9b79-44b3-b2e9-9237d0eed361"
   },
   "outputs": [
    {
     "data": {
      "text/plain": [
       "0"
      ]
     },
     "execution_count": 58,
     "metadata": {},
     "output_type": "execute_result"
    }
   ],
   "source": [
    "len(l[l==1])"
   ]
  },
  {
   "cell_type": "code",
   "execution_count": 81,
   "metadata": {
    "colab": {
     "autoexec": {
      "startup": false,
      "wait_interval": 0
     },
     "base_uri": "https://localhost:8080/",
     "height": 230
    },
    "colab_type": "code",
    "executionInfo": {
     "elapsed": 2718,
     "status": "ok",
     "timestamp": 1525933530807,
     "user": {
      "displayName": "Rohan Tondulkar",
      "photoUrl": "https://lh3.googleusercontent.com/a/default-user=s128",
      "userId": "117493569171327128390"
     },
     "user_tz": -330
    },
    "id": "JoGuYkSZDg7Q",
    "outputId": "657775ff-cd98-4f13-9881-46aa7462640f"
   },
   "outputs": [
    {
     "name": "stdout",
     "output_type": "stream",
     "text": [
      "Test issue loss: 0.20279161632061005, label loss: 0.0\n",
      "torch.Size([719])\n",
      "torch.Size([719])\n",
      "Issue accuracy :  94.86111111111111\n",
      "F1 score\n",
      "0.950379642822322\n"
     ]
    },
    {
     "name": "stderr",
     "output_type": "stream",
     "text": [
      "/home/bedanta/ml/lib/python3.5/site-packages/ipykernel_launcher.py:54: UserWarning: invalid index of a 0-dim tensor. This will be an error in PyTorch 0.5. Use tensor.item() to convert a 0-dim tensor to a Python number\n"
     ]
    }
   ],
   "source": [
    "cf_issue = eval(encoder, predictor, hidden_size, batch_size=len(x_val))"
   ]
  },
  {
   "cell_type": "code",
   "execution_count": 95,
   "metadata": {},
   "outputs": [
    {
     "name": "stdout",
     "output_type": "stream",
     "text": [
      "Test issue loss: 0.18190421164035797, label loss: 0.0\n",
      "torch.Size([719])\n",
      "torch.Size([719])\n",
      "Issue accuracy :  95.41666666666667\n",
      "F1 score\n",
      "0.9550366976400535\n"
     ]
    },
    {
     "name": "stderr",
     "output_type": "stream",
     "text": [
      "/home/bedanta/ml/lib/python3.5/site-packages/ipykernel_launcher.py:54: UserWarning: invalid index of a 0-dim tensor. This will be an error in PyTorch 0.5. Use tensor.item() to convert a 0-dim tensor to a Python number\n"
     ]
    }
   ],
   "source": [
    "cf_issue = eval(encoder, predictor, hidden_size, batch_size=len(x_val))"
   ]
  },
  {
   "cell_type": "code",
   "execution_count": 97,
   "metadata": {},
   "outputs": [
    {
     "name": "stdout",
     "output_type": "stream",
     "text": [
      "Test issue loss: 0.12212206423282623, label loss: 0.0\n",
      "torch.Size([719])\n",
      "torch.Size([719])\n",
      "Issue accuracy :  96.38888888888889\n",
      "F1 score\n",
      "0.9649541590356164\n"
     ]
    },
    {
     "name": "stderr",
     "output_type": "stream",
     "text": [
      "/home/bedanta/ml/lib/python3.5/site-packages/ipykernel_launcher.py:54: UserWarning: invalid index of a 0-dim tensor. This will be an error in PyTorch 0.5. Use tensor.item() to convert a 0-dim tensor to a Python number\n"
     ]
    }
   ],
   "source": [
    "cf_issue = eval(encoder, predictor, hidden_size, batch_size=len(x_val))"
   ]
  },
  {
   "cell_type": "code",
   "execution_count": 101,
   "metadata": {},
   "outputs": [
    {
     "name": "stdout",
     "output_type": "stream",
     "text": [
      "Test issue loss: 0.12212206423282623, label loss: 0.0\n",
      "torch.Size([719])\n",
      "torch.Size([719])\n",
      "Issue accuracy :  96.38888888888889\n",
      "F1 score\n",
      "0.9649541590356164\n"
     ]
    },
    {
     "name": "stderr",
     "output_type": "stream",
     "text": [
      "/home/bedanta/ml/lib/python3.5/site-packages/ipykernel_launcher.py:54: UserWarning: invalid index of a 0-dim tensor. This will be an error in PyTorch 0.5. Use tensor.item() to convert a 0-dim tensor to a Python number\n"
     ]
    }
   ],
   "source": [
    "cf_issue = eval(encoder, predictor, hidden_size, batch_size=len(x_val))"
   ]
  },
  {
   "cell_type": "code",
   "execution_count": 60,
   "metadata": {
    "colab": {
     "autoexec": {
      "startup": false,
      "wait_interval": 0
     },
     "base_uri": "https://localhost:8080/",
     "height": 2227
    },
    "colab_type": "code",
    "executionInfo": {
     "elapsed": 305821,
     "status": "ok",
     "timestamp": 1525928890382,
     "user": {
      "displayName": "Rohan Tondulkar",
      "photoUrl": "https://lh3.googleusercontent.com/a/default-user=s128",
      "userId": "117493569171327128390"
     },
     "user_tz": -330
    },
    "id": "iRk2n3t-DtKM",
    "outputId": "6f552a5d-d8c0-4624-e9b1-7dad6ec984b9"
   },
   "outputs": [
    {
     "name": "stderr",
     "output_type": "stream",
     "text": [
      "/home/bedanta/ml/lib/python3.5/site-packages/ipykernel_launcher.py:32: UserWarning: invalid index of a 0-dim tensor. This will be an error in PyTorch 0.5. Use tensor.item() to convert a 0-dim tensor to a Python number\n",
      "/home/bedanta/ml/lib/python3.5/site-packages/ipykernel_launcher.py:33: UserWarning: invalid index of a 0-dim tensor. This will be an error in PyTorch 0.5. Use tensor.item() to convert a 0-dim tensor to a Python number\n"
     ]
    },
    {
     "ename": "NameError",
     "evalue": "name 'predict_issue' is not defined",
     "output_type": "error",
     "traceback": [
      "\u001b[0;31m---------------------------------------------------------------------------\u001b[0m",
      "\u001b[0;31mNameError\u001b[0m                                 Traceback (most recent call last)",
      "\u001b[0;32m<ipython-input-60-148e5611576d>\u001b[0m in \u001b[0;36m<module>\u001b[0;34m()\u001b[0m\n\u001b[1;32m      1\u001b[0m \u001b[0mencoder\u001b[0m \u001b[0;34m=\u001b[0m \u001b[0mEncoder\u001b[0m\u001b[0;34m(\u001b[0m\u001b[0mvocab_size\u001b[0m\u001b[0;34m,\u001b[0m\u001b[0mhidden_size\u001b[0m\u001b[0;34m)\u001b[0m\u001b[0;34m\u001b[0m\u001b[0m\n\u001b[1;32m      2\u001b[0m \u001b[0mpredictor\u001b[0m \u001b[0;34m=\u001b[0m \u001b[0mPredictor\u001b[0m\u001b[0;34m(\u001b[0m\u001b[0minput_size\u001b[0m\u001b[0;34m,\u001b[0m\u001b[0mhidden_size\u001b[0m\u001b[0;34m,\u001b[0m\u001b[0moutput_size_issue\u001b[0m\u001b[0;34m,\u001b[0m\u001b[0moutput_size_label\u001b[0m\u001b[0;34m)\u001b[0m\u001b[0;34m\u001b[0m\u001b[0m\n\u001b[0;32m----> 3\u001b[0;31m \u001b[0missue_losses\u001b[0m\u001b[0;34m,\u001b[0m \u001b[0mlabel_losses\u001b[0m\u001b[0;34m,\u001b[0m \u001b[0mval_issue_losse\u001b[0m\u001b[0;34m,\u001b[0m \u001b[0mval_label_losses\u001b[0m \u001b[0;34m=\u001b[0m \u001b[0mtraining_\u001b[0m\u001b[0;34m(\u001b[0m\u001b[0mencoder\u001b[0m\u001b[0;34m,\u001b[0m \u001b[0mpredictor\u001b[0m\u001b[0;34m,\u001b[0m \u001b[0;36m5\u001b[0m\u001b[0;34m,\u001b[0m \u001b[0mhidden_size\u001b[0m\u001b[0;34m,\u001b[0m \u001b[0mlr\u001b[0m\u001b[0;34m,\u001b[0m \u001b[0mbatch_size\u001b[0m\u001b[0;34m)\u001b[0m\u001b[0;34m\u001b[0m\u001b[0m\n\u001b[0m",
      "\u001b[0;32m<ipython-input-45-0ae3b84a92e4>\u001b[0m in \u001b[0;36mtraining_\u001b[0;34m(encoder, predictor, epochs, hidden_size, learning_rate, batch_size)\u001b[0m\n\u001b[1;32m     19\u001b[0m     \u001b[0;32mfor\u001b[0m \u001b[0mit\u001b[0m \u001b[0;32min\u001b[0m \u001b[0mrange\u001b[0m\u001b[0;34m(\u001b[0m\u001b[0;36m0\u001b[0m\u001b[0;34m,\u001b[0m \u001b[0mepochs\u001b[0m\u001b[0;34m)\u001b[0m\u001b[0;34m:\u001b[0m\u001b[0;34m\u001b[0m\u001b[0m\n\u001b[1;32m     20\u001b[0m         \u001b[0mstart\u001b[0m \u001b[0;34m=\u001b[0m \u001b[0mtime\u001b[0m\u001b[0;34m.\u001b[0m\u001b[0mtime\u001b[0m\u001b[0;34m(\u001b[0m\u001b[0;34m)\u001b[0m\u001b[0;34m\u001b[0m\u001b[0m\n\u001b[0;32m---> 21\u001b[0;31m         \u001b[0missue_losses\u001b[0m\u001b[0;34m,\u001b[0m \u001b[0mlabel_losses\u001b[0m\u001b[0;34m,\u001b[0m \u001b[0mval_issue_losse\u001b[0m\u001b[0;34m,\u001b[0m \u001b[0mval_label_losses\u001b[0m \u001b[0;34m=\u001b[0m \u001b[0mtrain\u001b[0m\u001b[0;34m(\u001b[0m\u001b[0mencoder\u001b[0m\u001b[0;34m,\u001b[0m \u001b[0mpredictor\u001b[0m\u001b[0;34m,\u001b[0m \u001b[0mencoder_optimizer\u001b[0m\u001b[0;34m,\u001b[0m \u001b[0mpredictor_optimizer\u001b[0m\u001b[0;34m,\u001b[0m \u001b[0missue_criterion\u001b[0m\u001b[0;34m,\u001b[0m \u001b[0mlabel_criterion\u001b[0m\u001b[0;34m,\u001b[0m \u001b[0mhidden_size\u001b[0m\u001b[0;34m,\u001b[0m \u001b[0missue_losses\u001b[0m\u001b[0;34m,\u001b[0m \u001b[0mlabel_losses\u001b[0m\u001b[0;34m,\u001b[0m                                                                              \u001b[0mval_issue_losses\u001b[0m\u001b[0;34m,\u001b[0m \u001b[0mval_label_losses\u001b[0m\u001b[0;34m)\u001b[0m\u001b[0;34m\u001b[0m\u001b[0m\n\u001b[0m\u001b[1;32m     22\u001b[0m         \u001b[0mprint\u001b[0m\u001b[0;34m(\u001b[0m\u001b[0;34m'Time for epoch: {0} is {1} secs'\u001b[0m\u001b[0;34m.\u001b[0m\u001b[0mformat\u001b[0m\u001b[0;34m(\u001b[0m\u001b[0mit\u001b[0m\u001b[0;34m,\u001b[0m \u001b[0mtime\u001b[0m\u001b[0;34m.\u001b[0m\u001b[0mtime\u001b[0m\u001b[0;34m(\u001b[0m\u001b[0;34m)\u001b[0m\u001b[0;34m-\u001b[0m\u001b[0mstart\u001b[0m\u001b[0;34m)\u001b[0m\u001b[0;34m)\u001b[0m\u001b[0;34m\u001b[0m\u001b[0m\n\u001b[1;32m     23\u001b[0m \u001b[0;34m\u001b[0m\u001b[0m\n",
      "\u001b[0;32m<ipython-input-44-a0e869398c57>\u001b[0m in \u001b[0;36mtrain\u001b[0;34m(encoder, predictor, encoder_optimizer, predictor_optimizer, issue_criterion, label_criterion, hidden_size, issue_losses, label_losses, val_issue_losses, val_label_losses)\u001b[0m\n\u001b[1;32m     45\u001b[0m     \u001b[0;31m#del input_tensor, y_issue, y_label, predictor_input, encoder_output, predictor_issue, predictor_label, encoder_hidden\u001b[0m\u001b[0;34m\u001b[0m\u001b[0;34m\u001b[0m\u001b[0m\n\u001b[1;32m     46\u001b[0m \u001b[0;34m\u001b[0m\u001b[0m\n\u001b[0;32m---> 47\u001b[0;31m     \u001b[0missue_acc\u001b[0m \u001b[0;34m=\u001b[0m  \u001b[0;36m100\u001b[0m\u001b[0;34m*\u001b[0m\u001b[0mlen\u001b[0m\u001b[0;34m(\u001b[0m\u001b[0mpredict_issue\u001b[0m\u001b[0;34m[\u001b[0m\u001b[0mpredict_issue\u001b[0m\u001b[0;34m==\u001b[0m\u001b[0mtarget_issue\u001b[0m\u001b[0;34m]\u001b[0m\u001b[0;34m)\u001b[0m\u001b[0;34m/\u001b[0m\u001b[0mlen\u001b[0m\u001b[0;34m(\u001b[0m\u001b[0mtarget_issue\u001b[0m\u001b[0;34m)\u001b[0m\u001b[0;34m\u001b[0m\u001b[0m\n\u001b[0m\u001b[1;32m     48\u001b[0m     \u001b[0mlabel_acc\u001b[0m \u001b[0;34m=\u001b[0m  \u001b[0;36m100\u001b[0m\u001b[0;34m*\u001b[0m\u001b[0mlen\u001b[0m\u001b[0;34m(\u001b[0m\u001b[0mpredict_label\u001b[0m\u001b[0;34m[\u001b[0m\u001b[0mpredict_label\u001b[0m\u001b[0;34m==\u001b[0m\u001b[0mtarget_label\u001b[0m\u001b[0;34m]\u001b[0m\u001b[0;34m)\u001b[0m\u001b[0;34m/\u001b[0m\u001b[0mlen\u001b[0m\u001b[0;34m(\u001b[0m\u001b[0mtarget_label\u001b[0m\u001b[0;34m)\u001b[0m\u001b[0;34m\u001b[0m\u001b[0m\n\u001b[1;32m     49\u001b[0m     \u001b[0mprint\u001b[0m\u001b[0;34m(\u001b[0m\u001b[0;34m'Issue Accuracy: {0}%, Label Accuracy: {1}%'\u001b[0m\u001b[0;34m.\u001b[0m\u001b[0mformat\u001b[0m\u001b[0;34m(\u001b[0m\u001b[0missue_acc\u001b[0m\u001b[0;34m,\u001b[0m \u001b[0mlabel_acc\u001b[0m\u001b[0;34m)\u001b[0m\u001b[0;34m)\u001b[0m\u001b[0;34m\u001b[0m\u001b[0m\n",
      "\u001b[0;31mNameError\u001b[0m: name 'predict_issue' is not defined"
     ]
    }
   ],
   "source": [
    "encoder = Encoder(vocab_size,hidden_size)\n",
    "predictor = Predictor(input_size,hidden_size,output_size_issue,output_size_label)\n",
    "issue_losses, label_losses, val_issue_losse, val_label_losses = training_(encoder, predictor, 5, hidden_size, lr, batch_size)"
   ]
  },
  {
   "cell_type": "code",
   "execution_count": 49,
   "metadata": {
    "colab": {
     "autoexec": {
      "startup": false,
      "wait_interval": 0
     },
     "base_uri": "https://localhost:8080/",
     "height": 752
    },
    "colab_type": "code",
    "executionInfo": {
     "elapsed": 1968,
     "status": "ok",
     "timestamp": 1525929131241,
     "user": {
      "displayName": "Rohan Tondulkar",
      "photoUrl": "https://lh3.googleusercontent.com/a/default-user=s128",
      "userId": "117493569171327128390"
     },
     "user_tz": -330
    },
    "id": "dLMz49R6dqw_",
    "outputId": "400201e5-6748-46ce-889a-39c4a18c218b"
   },
   "outputs": [
    {
     "data": {
      "text/plain": [
       "<matplotlib.legend.Legend at 0x7f8bf76c1ba8>"
      ]
     },
     "execution_count": 49,
     "metadata": {},
     "output_type": "execute_result"
    },
    {
     "data": {
      "image/png": "[encoded data removed]",
      "text/plain": [
       "<Figure size 432x288 with 1 Axes>"
      ]
     },
     "metadata": {},
     "output_type": "display_data"
    },
    {
     "data": {
      "image/png": "[encoded data removed]",
      "text/plain": [
       "<Figure size 432x288 with 1 Axes>"
      ]
     },
     "metadata": {},
     "output_type": "display_data"
    }
   ],
   "source": [
    "plt.figure()\n",
    "plt.title('Training Issue loss v/s iterations')\n",
    "plt.xlabel('Iterations')\n",
    "plt.ylabel('Loss')\n",
    "plt.plot(issue_losses, label = 'Training')\n",
    "plt.plot(val_issue_losse, label = 'Validation')\n",
    "plt.legend()\n",
    "    \n",
    "plt.figure()\n",
    "plt.title('Training Label loss v/s iterations')\n",
    "plt.xlabel('Iterations')\n",
    "plt.ylabel('Loss')\n",
    "plt.plot(label_losses, label = 'Training')\n",
    "plt.plot(val_label_losses, label = 'Validation')\n",
    "plt.legend()"
   ]
  },
  {
   "cell_type": "code",
   "execution_count": 104,
   "metadata": {
    "colab": {
     "autoexec": {
      "startup": false,
      "wait_interval": 0
     }
    },
    "colab_type": "code",
    "id": "gfc8gnBgEXwx"
   },
   "outputs": [],
   "source": [
    "import numpy as np\n",
    "\n",
    "\n",
    "def plot_confusion_matrix(cm,\n",
    "                          target_names,\n",
    "                          which,\n",
    "                          title='Confusion matrix',\n",
    "                          cmap=None,\n",
    "                          normalize=True):\n",
    "    \"\"\"\n",
    "    given a sklearn confusion matrix (cm), make a nice plot\n",
    "\n",
    "    Arguments\n",
    "    ---------\n",
    "    cm:           confusion matrix from sklearn.metrics.confusion_matrix\n",
    "\n",
    "    target_names: given classification classes such as [0, 1, 2]\n",
    "                  the class names, for example: ['high', 'medium', 'low']\n",
    "\n",
    "    title:        the text to display at the top of the matrix\n",
    "\n",
    "    cmap:         the gradient of the values displayed from matplotlib.pyplot.cm\n",
    "                  see http://matplotlib.org/examples/color/colormaps_reference.html\n",
    "                  plt.get_cmap('jet') or plt.cm.Blues\n",
    "\n",
    "    normalize:    If False, plot the raw numbers\n",
    "                  If True, plot the proportions\n",
    "\n",
    "    Usage\n",
    "    -----\n",
    "    plot_confusion_matrix(cm           = cm,                  # confusion matrix created by\n",
    "                                                              # sklearn.metrics.confusion_matrix\n",
    "                          normalize    = True,                # show proportions\n",
    "                          target_names = y_labels_vals,       # list of names of the classes\n",
    "                          title        = best_estimator_name) # title of graph\n",
    "\n",
    "    Citiation\n",
    "    ---------\n",
    "    http://scikit-learn.org/stable/auto_examples/model_selection/plot_confusion_matrix.html\n",
    "\n",
    "    \"\"\"\n",
    "    import matplotlib.pyplot as plt\n",
    "    import numpy as np\n",
    "    import itertools\n",
    "\n",
    "    accuracy = np.trace(cm) / float(np.sum(cm))\n",
    "    misclass = 1 - accuracy\n",
    "\n",
    "    if cmap is None:\n",
    "        cmap = plt.get_cmap('Blues')\n",
    "\n",
    "    plt.figure(figsize=(8, 6))\n",
    "    plt.imshow(cm, interpolation='nearest', cmap=cmap)\n",
    "    plt.title(title)\n",
    "    plt.colorbar()\n",
    "\n",
    "    if target_names is not None:\n",
    "        tick_marks = np.arange(len(target_names))\n",
    "        plt.xticks(tick_marks, target_names, rotation=90)\n",
    "        plt.yticks(tick_marks, target_names)\n",
    "\n",
    "    if normalize:\n",
    "        cm = cm.astype('float') / cm.sum(axis=1)[:, np.newaxis]\n",
    "\n",
    "\n",
    "    thresh = cm.max() / 1.5 if normalize else cm.max() / 2\n",
    "    for i, j in itertools.product(range(cm.shape[0]), range(cm.shape[1])):\n",
    "        if normalize:\n",
    "            plt.text(j, i, \"{:0.4f}\".format(cm[i, j]),\n",
    "                     horizontalalignment=\"center\",\n",
    "                     color=\"white\" if cm[i, j] > thresh else \"black\")\n",
    "        else:\n",
    "            plt.text(j, i, \"{:,}\".format(cm[i, j]),\n",
    "                     horizontalalignment=\"center\",\n",
    "                     color=\"white\" if cm[i, j] > thresh else \"black\")\n",
    "\n",
    "\n",
    "    plt.tight_layout()\n",
    "    plt.ylabel('True label')\n",
    "    plt.xlabel('Predicted label\\naccuracy={:0.4f}; misclass={:0.4f}'.format(accuracy, misclass))\n",
    "    if(which=='issue'):\n",
    "        plt.savefig('issueF1.eps', format='eps', dpi=100)\n",
    "    else:\n",
    "        plt.savefig('stanceF1.eps', format='eps', dpi=1000)\n",
    "    plt.show()\n",
    "    return plt"
   ]
  },
  {
   "cell_type": "code",
   "execution_count": 102,
   "metadata": {
    "colab": {
     "autoexec": {
      "startup": false,
      "wait_interval": 0
     }
    },
    "colab_type": "code",
    "id": "1x5E5SE7he2o"
   },
   "outputs": [],
   "source": [
    "names=['GST',\n",
    " 'PNB Scam',\n",
    " 'FDIPolicy',\n",
    " 'Padmavati film screening',\n",
    " 'Cauvery SC Verdict',\n",
    " 'Jallikattu ban',\n",
    " 'GDP growth',\n",
    " 'RightToPrivacy SC Verdict',\n",
    " 'Demonetisation',\n",
    " 'Swacch Bharat',\n",
    " 'Aadhar linking',\n",
    " 'Triple Talaq SC verdict',\n",
    " 'TripleTalaqBill',\n",
    " 'lgp price hike',\n",
    " 'reservation',\n",
    " 'Beef Ban',\n",
    " 'Inflation control',\n",
    " 'nsc and ppf rate cuts',\n",
    " 'Ram Mandir',\n",
    " 'EVM tampering',\n",
    " 'Fodder scam',\n",
    " 'hike in oil prices',\n",
    " 'Rohingyas',\n",
    " 'acchedin']\n"
   ]
  },
  {
   "cell_type": "code",
   "execution_count": 73,
   "metadata": {
    "colab": {
     "autoexec": {
      "startup": false,
      "wait_interval": 0
     },
     "base_uri": "https://localhost:8080/",
     "height": 909
    },
    "colab_type": "code",
    "executionInfo": {
     "elapsed": 4273,
     "status": "ok",
     "timestamp": 1525933547279,
     "user": {
      "displayName": "Rohan Tondulkar",
      "photoUrl": "https://lh3.googleusercontent.com/a/default-user=s128",
      "userId": "117493569171327128390"
     },
     "user_tz": -330
    },
    "id": "uJMGL00PhnKF",
    "outputId": "d0c3836a-c553-44ea-8658-903e5ccf5f79"
   },
   "outputs": [
    {
     "data": {
      "image/png": "[encoded data removed]",
      "text/plain": [
       "<Figure size 576x432 with 2 Axes>"
      ]
     },
     "metadata": {},
     "output_type": "display_data"
    },
    {
     "data": {
      "image/png": "[encoded data removed]",
      "text/plain": [
       "<Figure size 576x432 with 2 Axes>"
      ]
     },
     "metadata": {},
     "output_type": "display_data"
    }
   ],
   "source": [
    "plt1 = plot_confusion_matrix(cm           = cf_label, \n",
    "                      normalize    = False,\n",
    "                      which = 'stance',\n",
    "                      target_names = ['Disagreement', 'Neutral', 'Agreement'],\n",
    "                      title        = \"Stance Prediction Confusion Matrix\")\n",
    "\n",
    "plt2  = plot_confusion_matrix(cm           = cf_issue, \n",
    "                      normalize    = False,\n",
    "                      which =  'issue',\n",
    "                      target_names = names,\n",
    "                              \n",
    "                      title        = \"Issue Prediction Confusion Matrix\")"
   ]
  },
  {
   "cell_type": "code",
   "execution_count": 105,
   "metadata": {},
   "outputs": [
    {
     "data": {
      "image/png": "[encoded data removed]",
      "text/plain": [
       "<Figure size 576x432 with 2 Axes>"
      ]
     },
     "metadata": {},
     "output_type": "display_data"
    }
   ],
   "source": [
    "# plt1 = plot_confusion_matrix(cm           = cf_label, \n",
    "#                       normalize    = False,\n",
    "#                       which = 'stance',\n",
    "#                       target_names = ['Disagreement', 'Neutral', 'Agreement'],\n",
    "#                       title        = \"Stance Prediction Confusion Matrix\")\n",
    "\n",
    "plt2  = plot_confusion_matrix(cm           = cf_issue, \n",
    "                      normalize    = False,\n",
    "                      which =  'issue',\n",
    "                      target_names = names,\n",
    "                              \n",
    "                      title        = \"Issue Prediction Confusion Matrix\")"
   ]
  },
  {
   "cell_type": "code",
   "execution_count": 60,
   "metadata": {
    "colab": {
     "autoexec": {
      "startup": false,
      "wait_interval": 0
     }
    },
    "colab_type": "code",
    "id": "gaeQUK4IiGUp"
   },
   "outputs": [
    {
     "data": {
      "text/plain": [
       "<Figure size 432x288 with 0 Axes>"
      ]
     },
     "metadata": {},
     "output_type": "display_data"
    }
   ],
   "source": [
    "plt1.savefig('stanceF1.eps', format='eps', dpi=1000)\n",
    "plt2.savefig('issueF1.eps',  format='eps', dpi=1000)"
   ]
  },
  {
   "cell_type": "code",
   "execution_count": 44,
   "metadata": {},
   "outputs": [
    {
     "name": "stdout",
     "output_type": "stream",
     "text": [
      "17444\n"
     ]
    }
   ],
   "source": [
    "print(vocab_size)"
   ]
  }
 ],
 "metadata": {
  "colab": {
   "collapsed_sections": [],
   "default_view": {},
   "name": "Deep Learning Project.ipynb",
   "provenance": [],
   "version": "0.3.2",
   "views": {}
  },
  "kernelspec": {
   "display_name": "Python 3",
   "language": "python",
   "name": "python3"
  },
  "language_info": {
   "codemirror_mode": {
    "name": "ipython",
    "version": 3
   },
   "file_extension": ".py",
   "mimetype": "text/x-python",
   "name": "python",
   "nbconvert_exporter": "python",
   "pygments_lexer": "ipython3",
   "version": "3.5.2"
  }
 },
 "nbformat": 4,
 "nbformat_minor": 1
}
