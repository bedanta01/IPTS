{
 "cells": [
  {
   "cell_type": "code",
   "execution_count": 1,
   "metadata": {},
   "outputs": [],
   "source": [
    "import pandas as pd\n",
    "import os\n",
    "import torch \n",
    "import torch.nn as nn\n",
    "import torchvision\n",
    "import codecs\n",
    "from collections import Counter,defaultdict\n",
    "from nltk.corpus import stopwords\n",
    "import numpy as np\n",
    "import torch as torch\n",
    "import torch.nn as nn\n",
    "import torch.nn.functional as F\n",
    "import torch.optim as optim\n",
    "from torch.autograd import Variable\n",
    "import time\n",
    "import matplotlib.pyplot as plt\n",
    "from sklearn.metrics import accuracy_score\n",
    "from gensim.models import Word2Vec\n",
    "from nltk.corpus import stopwords\n",
    "import string\n",
    "from sklearn.metrics import confusion_matrix\n",
    "from sklearn.feature_extraction.text import TfidfVectorizer\n",
    "from sklearn.metrics import accuracy_score\n",
    "from sklearn.metrics import f1_score\n",
    "from torch.utils.data import Dataset, DataLoader\n",
    "import torch\n",
    "from torch.autograd import Variable\n",
    "from ast import literal_eval"
   ]
  },
  {
   "cell_type": "code",
   "execution_count": 2,
   "metadata": {},
   "outputs": [
    {
     "data": {
      "text/html": [
       "<div>\n",
       "<style scoped>\n",
       "    .dataframe tbody tr th:only-of-type {\n",
       "        vertical-align: middle;\n",
       "    }\n",
       "\n",
       "    .dataframe tbody tr th {\n",
       "        vertical-align: top;\n",
       "    }\n",
       "\n",
       "    .dataframe thead th {\n",
       "        text-align: right;\n",
       "    }\n",
       "</style>\n",
       "<table border=\"1\" class=\"dataframe\">\n",
       "  <thead>\n",
       "    <tr style=\"text-align: right;\">\n",
       "      <th></th>\n",
       "      <th>Tweet</th>\n",
       "      <th>UserHandle</th>\n",
       "      <th>Party</th>\n",
       "      <th>Issue</th>\n",
       "      <th>Stance</th>\n",
       "    </tr>\n",
       "  </thead>\n",
       "  <tbody>\n",
       "    <tr>\n",
       "      <th>0</th>\n",
       "      <td>a no of people approach me daily worried abt t...</td>\n",
       "      <td>ArvindKejriwal</td>\n",
       "      <td>AAP</td>\n",
       "      <td>GST</td>\n",
       "      <td>Disagreement</td>\n",
       "    </tr>\n",
       "    <tr>\n",
       "      <th>1</th>\n",
       "      <td>its now revealed that our fms silence on the p...</td>\n",
       "      <td>ArvindKejriwal</td>\n",
       "      <td>AAP</td>\n",
       "      <td>PNB Scam</td>\n",
       "      <td>Neutral</td>\n",
       "    </tr>\n",
       "    <tr>\n",
       "      <th>2</th>\n",
       "      <td>pnb scam started in is going on till today the...</td>\n",
       "      <td>ArvindKejriwal</td>\n",
       "      <td>AAP</td>\n",
       "      <td>PNB Scam</td>\n",
       "      <td>Neutral</td>\n",
       "    </tr>\n",
       "    <tr>\n",
       "      <th>3</th>\n",
       "      <td>would bjp confirm this if true what transpired...</td>\n",
       "      <td>ArvindKejriwal</td>\n",
       "      <td>AAP</td>\n",
       "      <td>PNB Scam</td>\n",
       "      <td>Neutral</td>\n",
       "    </tr>\n",
       "    <tr>\n",
       "      <th>4</th>\n",
       "      <td>bjp insiders telling that niravmodi been a reg...</td>\n",
       "      <td>ArvindKejriwal</td>\n",
       "      <td>AAP</td>\n",
       "      <td>PNB Scam</td>\n",
       "      <td>Neutral</td>\n",
       "    </tr>\n",
       "  </tbody>\n",
       "</table>\n",
       "</div>"
      ],
      "text/plain": [
       "                                               Tweet      UserHandle Party  \\\n",
       "0  a no of people approach me daily worried abt t...  ArvindKejriwal   AAP   \n",
       "1  its now revealed that our fms silence on the p...  ArvindKejriwal   AAP   \n",
       "2  pnb scam started in is going on till today the...  ArvindKejriwal   AAP   \n",
       "3  would bjp confirm this if true what transpired...  ArvindKejriwal   AAP   \n",
       "4  bjp insiders telling that niravmodi been a reg...  ArvindKejriwal   AAP   \n",
       "\n",
       "      Issue        Stance  \n",
       "0       GST  Disagreement  \n",
       "1  PNB Scam       Neutral  \n",
       "2  PNB Scam       Neutral  \n",
       "3  PNB Scam       Neutral  \n",
       "4  PNB Scam       Neutral  "
      ]
     },
     "execution_count": 2,
     "metadata": {},
     "output_type": "execute_result"
    }
   ],
   "source": [
    "raw_dataframe = pd.read_csv(\"../data/Labelled_tweets_v1.csv\")\n",
    "raw_dataframe.head()"
   ]
  },
  {
   "cell_type": "code",
   "execution_count": 3,
   "metadata": {},
   "outputs": [
    {
     "name": "stdout",
     "output_type": "stream",
     "text": [
      "['Agreement' 'Disagreement' 'Neutral']\n",
      "{'Neutral': 2, 'Agreement': 0, 'Disagreement': 1}\n",
      "['Aadhar linking' 'Beef Ban' 'Cauvery SC Verdict' 'Demonetisation'\n",
      " 'EVM tampering' 'FDIPolicy' 'Fodder scam' 'GDP growth' 'GST'\n",
      " 'Inflation control' 'Jallikattu ban' 'PNB Scam'\n",
      " 'Padmavati film screening' 'Ram Mandir' 'RightToPrivacy SC Verdict'\n",
      " 'Rohingyas' 'Swacch Bharat' 'Triple Talaq SC verdict' 'TripleTalaqBill'\n",
      " 'acchedin' 'hike in oil prices' 'lgp price hike' 'nsc and ppf rate cuts'\n",
      " 'reservation']\n",
      "{'acchedin': 19, 'Jallikattu ban': 10, 'Fodder scam': 6, 'Cauvery SC Verdict': 2, 'PNB Scam': 11, 'Swacch Bharat': 16, 'FDIPolicy': 5, 'RightToPrivacy SC Verdict': 14, 'Padmavati film screening': 12, 'EVM tampering': 4, 'hike in oil prices': 20, 'Aadhar linking': 0, 'lgp price hike': 21, 'GST': 8, 'Beef Ban': 1, 'GDP growth': 7, 'Triple Talaq SC verdict': 17, 'Ram Mandir': 13, 'Rohingyas': 15, 'nsc and ppf rate cuts': 22, 'TripleTalaqBill': 18, 'reservation': 23, 'Inflation control': 9, 'Demonetisation': 3}\n"
     ]
    },
    {
     "data": {
      "text/html": [
       "<div>\n",
       "<style scoped>\n",
       "    .dataframe tbody tr th:only-of-type {\n",
       "        vertical-align: middle;\n",
       "    }\n",
       "\n",
       "    .dataframe tbody tr th {\n",
       "        vertical-align: top;\n",
       "    }\n",
       "\n",
       "    .dataframe thead th {\n",
       "        text-align: right;\n",
       "    }\n",
       "</style>\n",
       "<table border=\"1\" class=\"dataframe\">\n",
       "  <thead>\n",
       "    <tr style=\"text-align: right;\">\n",
       "      <th></th>\n",
       "      <th>Tweet</th>\n",
       "      <th>UserHandle</th>\n",
       "      <th>Party</th>\n",
       "      <th>Issue</th>\n",
       "      <th>Stance</th>\n",
       "    </tr>\n",
       "  </thead>\n",
       "  <tbody>\n",
       "    <tr>\n",
       "      <th>0</th>\n",
       "      <td>a no of people approach me daily worried abt t...</td>\n",
       "      <td>ArvindKejriwal</td>\n",
       "      <td>AAP</td>\n",
       "      <td>8</td>\n",
       "      <td>1</td>\n",
       "    </tr>\n",
       "    <tr>\n",
       "      <th>1</th>\n",
       "      <td>its now revealed that our fms silence on the p...</td>\n",
       "      <td>ArvindKejriwal</td>\n",
       "      <td>AAP</td>\n",
       "      <td>11</td>\n",
       "      <td>2</td>\n",
       "    </tr>\n",
       "    <tr>\n",
       "      <th>2</th>\n",
       "      <td>pnb scam started in is going on till today the...</td>\n",
       "      <td>ArvindKejriwal</td>\n",
       "      <td>AAP</td>\n",
       "      <td>11</td>\n",
       "      <td>2</td>\n",
       "    </tr>\n",
       "    <tr>\n",
       "      <th>3</th>\n",
       "      <td>would bjp confirm this if true what transpired...</td>\n",
       "      <td>ArvindKejriwal</td>\n",
       "      <td>AAP</td>\n",
       "      <td>11</td>\n",
       "      <td>2</td>\n",
       "    </tr>\n",
       "    <tr>\n",
       "      <th>4</th>\n",
       "      <td>bjp insiders telling that niravmodi been a reg...</td>\n",
       "      <td>ArvindKejriwal</td>\n",
       "      <td>AAP</td>\n",
       "      <td>11</td>\n",
       "      <td>2</td>\n",
       "    </tr>\n",
       "    <tr>\n",
       "      <th>5</th>\n",
       "      <td>is it possible to believe that he or vijay mal...</td>\n",
       "      <td>ArvindKejriwal</td>\n",
       "      <td>AAP</td>\n",
       "      <td>11</td>\n",
       "      <td>2</td>\n",
       "    </tr>\n",
       "    <tr>\n",
       "      <th>6</th>\n",
       "      <td>someone told me today sealing bjp wants to rui...</td>\n",
       "      <td>ArvindKejriwal</td>\n",
       "      <td>AAP</td>\n",
       "      <td>5</td>\n",
       "      <td>2</td>\n",
       "    </tr>\n",
       "    <tr>\n",
       "      <th>7</th>\n",
       "      <td>if all state govts central govt and sc togethe...</td>\n",
       "      <td>ArvindKejriwal</td>\n",
       "      <td>AAP</td>\n",
       "      <td>5</td>\n",
       "      <td>2</td>\n",
       "    </tr>\n",
       "    <tr>\n",
       "      <th>8</th>\n",
       "      <td>three killings on merchants in one year first ...</td>\n",
       "      <td>ArvindKejriwal</td>\n",
       "      <td>AAP</td>\n",
       "      <td>8</td>\n",
       "      <td>1</td>\n",
       "    </tr>\n",
       "    <tr>\n",
       "      <th>9</th>\n",
       "      <td>there is no need to increase house tax in mcd ...</td>\n",
       "      <td>ArvindKejriwal</td>\n",
       "      <td>AAP</td>\n",
       "      <td>8</td>\n",
       "      <td>1</td>\n",
       "    </tr>\n",
       "  </tbody>\n",
       "</table>\n",
       "</div>"
      ],
      "text/plain": [
       "                                               Tweet      UserHandle Party  \\\n",
       "0  a no of people approach me daily worried abt t...  ArvindKejriwal   AAP   \n",
       "1  its now revealed that our fms silence on the p...  ArvindKejriwal   AAP   \n",
       "2  pnb scam started in is going on till today the...  ArvindKejriwal   AAP   \n",
       "3  would bjp confirm this if true what transpired...  ArvindKejriwal   AAP   \n",
       "4  bjp insiders telling that niravmodi been a reg...  ArvindKejriwal   AAP   \n",
       "5  is it possible to believe that he or vijay mal...  ArvindKejriwal   AAP   \n",
       "6  someone told me today sealing bjp wants to rui...  ArvindKejriwal   AAP   \n",
       "7  if all state govts central govt and sc togethe...  ArvindKejriwal   AAP   \n",
       "8  three killings on merchants in one year first ...  ArvindKejriwal   AAP   \n",
       "9  there is no need to increase house tax in mcd ...  ArvindKejriwal   AAP   \n",
       "\n",
       "   Issue  Stance  \n",
       "0      8       1  \n",
       "1     11       2  \n",
       "2     11       2  \n",
       "3     11       2  \n",
       "4     11       2  \n",
       "5     11       2  \n",
       "6      5       2  \n",
       "7      5       2  \n",
       "8      8       1  \n",
       "9      8       1  "
      ]
     },
     "execution_count": 3,
     "metadata": {},
     "output_type": "execute_result"
    }
   ],
   "source": [
    "# Get index on classes\n",
    "stance_df = raw_dataframe.Stance\n",
    "stances = np.unique(stance_df)\n",
    "print(stances)\n",
    "stance_idx = {}\n",
    "for i in range(len(stances)):\n",
    "    stance_idx[stances[i]] = i\n",
    "print(stance_idx)\n",
    "raw_dataframe.Stance.replace(to_replace = stance_idx, inplace = True)\n",
    "\n",
    "issue_df = raw_dataframe['Issue']\n",
    "issues = np.unique(issue_df)\n",
    "print(issues)\n",
    "issue_idx = {}\n",
    "for i in range(len(issues)):\n",
    "    issue_idx[issues[i]] = i\n",
    "print(issue_idx)\n",
    "raw_dataframe.Issue.replace(to_replace=issue_idx, inplace=True)\n",
    "raw_dataframe.head(10)"
   ]
  },
  {
   "cell_type": "code",
   "execution_count": 4,
   "metadata": {},
   "outputs": [],
   "source": [
    "# Remove selected stopwords from the dataset\n",
    "stop_words = ['the','of','in','and','a','is','on','this','all','it','will','for','to','be','with',\n",
    "              'at','are','u','has','that','by','from', 'as','was','have','its','an','if','been','be','also','should','which']\n",
    "for count, row in raw_dataframe.iterrows():\n",
    "    tweet = row['Tweet']\n",
    "    new_tweet = []\n",
    "    for word in tweet.split():\n",
    "        if word not in stop_words:\n",
    "            new_tweet.append(word)\n",
    "    raw_dataframe.iloc[count, 0] = ' '.join(new_tweet)"
   ]
  },
  {
   "cell_type": "code",
   "execution_count": 24,
   "metadata": {},
   "outputs": [],
   "source": [
    "PADDING_IDX = 1\n",
    "class Net(nn.Module):\n",
    "    def __init__(self, vocab_size, hidden_size, input_size):\n",
    "        super(Net,self).__init__()\n",
    "        self.hidden_size = hidden_size\n",
    "        self.input_size = input_size\n",
    "        self.output_size_label = 3\n",
    "        self.word_embeddings = nn.Embedding(vocab_size, self.input_size, padding_idx=PADDING_IDX)\n",
    "        self.GRU = nn.GRU(self.input_size, self.hidden_size,num_layers = 1, batch_first = True)\n",
    "        self.linear = nn.Linear(self.hidden_size, 3)\n",
    "        \n",
    "        self.linear_label = nn.Linear(self.hidden_size, hidden_size)\n",
    "        self.out_label = nn.Linear(self.hidden_size,self.output_size_label)\n",
    "        self.softmax = nn.LogSoftmax(dim=1)\n",
    "    \n",
    "    def forward(self,x_input,hidden_state):\n",
    "        embedded = self.word_embeddings(x_input)\n",
    "        #print(embedded.shape)\n",
    "        #output = embedded.view(-1,-1, self.hidden_size)\n",
    "        output, hn = self.GRU(embedded)\n",
    "        #hn_ = hn[0].reshape(x_input.shape[0],output.shape[1]*output.shape[2])\n",
    "        #print(output.shape)\n",
    "        #linear = self.linear(hn)\n",
    "        #print(linear.shape)\n",
    "        output_2 = self.linear_label(hn[0])\n",
    "        output_2 = F.relu(output_2)\n",
    "        output_2 = self.out_label(output_2)\n",
    "        output_2 = self.softmax(output_2)\n",
    "        \n",
    "        return output_2\n",
    "\n",
    "    def H_t0(self, batch_size):\n",
    "        return torch.zeros(1,batch_size,self.hidden_size)"
   ]
  },
  {
   "cell_type": "code",
   "execution_count": 6,
   "metadata": {},
   "outputs": [],
   "source": [
    "# accuracies = []\n",
    "# for issue, idx in issue_idx.items():\n",
    "#     print('Leaving out issue: {0}, idx: {1}'.format(issue, idx))\n",
    "#     train_data = raw_dataframe[raw_dataframe.Issue != idx]\n",
    "#     test_data = raw_dataframe[raw_dataframe.Issue == idx]\n",
    "    \n",
    "#     print('Splitting dataset based on issue')\n",
    "#     X_train = train_data['Tweet'].values\n",
    "# #     Y1_train = train_data['Issue'].values\n",
    "#     Y2_train = train_data['Stance'].values\n",
    "#     print(X_train.shape, Y1_train.shape, Y2_train.shape)\n",
    "    \n",
    "#     X_test = test_data['Tweet'].values\n",
    "# #     Y1_test = test_data['Issue'].values\n",
    "#     Y2_test = test_data['Stance'].values\n",
    "#     print(X_test.shape, Y1_test.shape, Y2_test.shape)\n",
    "    \n",
    "#     print('Generating tf-idf vectors')\n",
    "#     # Get tfidf vectors for train, val and test\n",
    "#     tfidf_vec = TfidfVectorizer()\n",
    "#     X_train_tf = tfidf_vec.fit_transform(X_train).toarray()\n",
    "#     print(X_train_tf.shape)\n",
    "    \n",
    "#     X_test_tf = tfidf_vec.transform(X_test).toarray()\n",
    "#     print(X_test_tf.shape)\n",
    "    \n",
    "#     # Classify using Logistic regression\n",
    "#     from sklearn.linear_model import LogisticRegression\n",
    "\n",
    "#     log2 = LogisticRegression()\n",
    "#     y2_pred = log2.fit(X_train_tf, Y2_train).predict(X_test_tf)\n",
    "\n",
    "#     print('Stance classification')\n",
    "#     acc = accuracy_score(Y2_test, y2_pred)\n",
    "#     accuracies.append(acc)\n",
    "#     print('Accuracy: ', acc)\n",
    "# #     print('Weighted F1 score: ', f1_score(Y2_test, y2_pred, averag÷e='weighted'))\n",
    "# accuracies = np.array(accuracies)\n",
    "# print('Avg accuracy: ', np.mean(accuracies))"
   ]
  },
  {
   "cell_type": "code",
   "execution_count": 7,
   "metadata": {},
   "outputs": [
    {
     "name": "stdout",
     "output_type": "stream",
     "text": [
      "Vocab length:  17539\n"
     ]
    }
   ],
   "source": [
    "# Default word tokens\n",
    "PAD_token = 0  # Used for padding short sentences\n",
    "SOS_token = 1  # Start-of-sentence token\n",
    "EOS_token = 2  # End-of-sentence token\n",
    "\n",
    "class Voc:\n",
    "    def __init__(self, name):\n",
    "        self.name = name\n",
    "        self.trimmed = False\n",
    "        self.word2index = {}\n",
    "        self.word2count = {}\n",
    "        self.index2word = {PAD_token: \"PAD\", SOS_token: \"SOS\", EOS_token: \"EOS\"}\n",
    "        self.num_words = 3  # Count SOS, EOS, PAD\n",
    "\n",
    "    def addSentence(self, sentence):\n",
    "        for word in sentence.split(' '):\n",
    "            self.addWord(word)\n",
    "\n",
    "    def addWord(self, word):\n",
    "        if word not in self.word2index:\n",
    "            self.word2index[word] = self.num_words\n",
    "            self.word2count[word] = 1\n",
    "            self.index2word[self.num_words] = word\n",
    "            self.num_words += 1\n",
    "        else:\n",
    "            self.word2count[word] += 1\n",
    "            \n",
    "    def getSentIdx(self, sentence):\n",
    "        idx = []\n",
    "        for word in sentence.split(' '):\n",
    "            idx.append(self.word2index.get(word, 1))\n",
    "        return idx\n",
    "            \n",
    "raw_dataframe['Tweet_idx'] = 0\n",
    "voc = Voc('stance')     \n",
    "for count, row in raw_dataframe.iterrows():\n",
    "    tweet = row['Tweet']\n",
    "    voc.addSentence(tweet)\n",
    "    raw_dataframe.iloc[count, 5] = str(voc.getSentIdx(tweet))\n",
    "    \n",
    "voc_len = len(voc.word2index) + 100\n",
    "print('Vocab length: ', voc_len)\n",
    "raw_dataframe.to_csv('../Dataset/Dataset_with_vocidx.csv', index = False)"
   ]
  },
  {
   "cell_type": "code",
   "execution_count": 8,
   "metadata": {},
   "outputs": [],
   "source": [
    "WORDS_PER_DOC = 60\n",
    "PADDING_IDX = 1\n",
    "class StanceDataset(Dataset):\n",
    "    \n",
    "    def __init__(self, df):\n",
    "        super(StanceDataset, self).__init__()\n",
    "        self.ds = df\n",
    "    \n",
    "    def __getitem__(self, idx):\n",
    "        content = self.ds.iloc[idx, 5]\n",
    "        content = literal_eval(content)\n",
    "        if len(content) >= WORDS_PER_DOC:\n",
    "            content = np.array(content[:WORDS_PER_DOC])\n",
    "        else:\n",
    "            content = np.pad(content, (0, WORDS_PER_DOC-len(content)), 'constant', constant_values=(0, PADDING_IDX))\n",
    "        label = int(self.ds.iloc[idx, 4])\n",
    "#         print(content)\n",
    "        return torch.from_numpy(content), label\n",
    "    \n",
    "    def __len__(self):\n",
    "        return self.ds.shape[0]"
   ]
  },
  {
   "cell_type": "code",
   "execution_count": 60,
   "metadata": {},
   "outputs": [],
   "source": [
    "def eval(loader, net):\n",
    "    running_loss = 0\n",
    "    num_batches = 0\n",
    "    total = 0\n",
    "    correct = 0\n",
    "    gt = []\n",
    "    f1_scores = []\n",
    "    predicteds = []\n",
    "    for i, data in enumerate(loader, 0):\n",
    "        # get the inputs\n",
    "        batch_x, batch_y = data\n",
    "#             print(batch_x)\n",
    "        batch_x = Variable(torch.LongTensor(batch_x))\n",
    "        batch_y = Variable(torch.LongTensor(batch_y))\n",
    "        batch_y = batch_y.reshape(batch_y.shape[0])\n",
    "        encoder_hidden = Variable(net.H_t0(batch_y.shape[0]))\n",
    "        output = net(batch_x,encoder_hidden)\n",
    "        #print(output.shape)\n",
    "        _, predicted = torch.max(output.data, 1)\n",
    "        total += batch_y.size(0)\n",
    "        correct += (predicted == batch_y.data).sum()\n",
    "        num_batches += 1\n",
    "#         print(predicted)\n",
    "#         print(batch_y)\n",
    "        f1_scores.append(f1_score(np.array(predicted),np.array(batch_y),average='micro'))\n",
    "        for g in batch_y:\n",
    "            gt.append(g.tolist())\n",
    "        for p in predicted:\n",
    "            predicteds.append(p.tolist())\n",
    "            \n",
    "#     print(predicteds)\n",
    "    acc = 100*correct/total\n",
    "    f1_avg = sum(f1_scores)/len(f1_scores)\n",
    "    \n",
    "    return acc,predicteds,f1_avg, gt"
   ]
  },
  {
   "cell_type": "code",
   "execution_count": 58,
   "metadata": {},
   "outputs": [],
   "source": [
    "f1_scores_all = defaultdict(list)\n",
    "predicted_all = defaultdict(list)\n",
    "gt_all = defaultdict(list)\n",
    "acc_all = defaultdict(list)"
   ]
  },
  {
   "cell_type": "code",
   "execution_count": null,
   "metadata": {},
   "outputs": [
    {
     "name": "stdout",
     "output_type": "stream",
     "text": [
      "Leaving out issue: acchedin, idx: 19\n"
     ]
    },
    {
     "name": "stderr",
     "output_type": "stream",
     "text": [
      "/home/bedanta/ml/lib/python3.5/site-packages/ipykernel_launcher.py:38: UserWarning: invalid index of a 0-dim tensor. This will be an error in PyTorch 0.5. Use tensor.item() to convert a 0-dim tensor to a Python number\n",
      "/home/bedanta/ml/lib/python3.5/site-packages/ipykernel_launcher.py:39: UserWarning: invalid index of a 0-dim tensor. This will be an error in PyTorch 0.5. Use tensor.item() to convert a 0-dim tensor to a Python number\n"
     ]
    },
    {
     "data": {
      "image/png": "[encoded data removed]",
      "text/plain": [
       "<Figure size 432x288 with 1 Axes>"
      ]
     },
     "metadata": {},
     "output_type": "display_data"
    },
    {
     "name": "stdout",
     "output_type": "stream",
     "text": [
      "Accuracy:  tensor(54)\n",
      "Leaving out issue: Jallikattu ban, idx: 10\n"
     ]
    },
    {
     "data": {
      "image/png": "[encoded data removed]",
      "text/plain": [
       "<Figure size 432x288 with 1 Axes>"
      ]
     },
     "metadata": {},
     "output_type": "display_data"
    },
    {
     "name": "stdout",
     "output_type": "stream",
     "text": [
      "Accuracy:  tensor(30)\n",
      "Leaving out issue: Fodder scam, idx: 6\n"
     ]
    },
    {
     "data": {
      "image/png": "[encoded data removed]",
      "text/plain": [
       "<Figure size 432x288 with 1 Axes>"
      ]
     },
     "metadata": {},
     "output_type": "display_data"
    },
    {
     "name": "stdout",
     "output_type": "stream",
     "text": [
      "Accuracy:  tensor(54)\n",
      "Leaving out issue: Cauvery SC Verdict, idx: 2\n"
     ]
    },
    {
     "data": {
      "image/png": "[encoded data removed]",
      "text/plain": [
       "<Figure size 432x288 with 1 Axes>"
      ]
     },
     "metadata": {},
     "output_type": "display_data"
    },
    {
     "name": "stdout",
     "output_type": "stream",
     "text": [
      "Accuracy:  tensor(33)\n",
      "Leaving out issue: PNB Scam, idx: 11\n"
     ]
    },
    {
     "data": {
      "image/png": "[encoded data removed]",
      "text/plain": [
       "<Figure size 432x288 with 1 Axes>"
      ]
     },
     "metadata": {},
     "output_type": "display_data"
    },
    {
     "name": "stdout",
     "output_type": "stream",
     "text": [
      "Accuracy:  tensor(51)\n",
      "Leaving out issue: Swacch Bharat, idx: 16\n"
     ]
    },
    {
     "data": {
      "image/png": "[encoded data removed]",
      "text/plain": [
       "<Figure size 432x288 with 1 Axes>"
      ]
     },
     "metadata": {},
     "output_type": "display_data"
    },
    {
     "name": "stdout",
     "output_type": "stream",
     "text": [
      "Accuracy:  tensor(53)\n",
      "Leaving out issue: FDIPolicy, idx: 5\n"
     ]
    }
   ],
   "source": [
    "accuracies = []\n",
    "f1_scores =[]\n",
    "for issue, idx in issue_idx.items():\n",
    "    print('Leaving out issue: {0}, idx: {1}'.format(issue, idx))\n",
    "    train_data = raw_dataframe[raw_dataframe.Issue != idx]\n",
    "    test_data = raw_dataframe[raw_dataframe.Issue == idx]\n",
    "    \n",
    "    train_ds = StanceDataset(train_data)\n",
    "    test_ds = StanceDataset(test_data)\n",
    "    \n",
    "    # Create loader instances\n",
    "    batch_size = 32\n",
    "    train_loader = DataLoader(dataset = train_ds, batch_size = batch_size, shuffle = True)\n",
    "    test_loader = DataLoader(dataset = test_ds, batch_size = batch_size, shuffle = False)\n",
    "    \n",
    "    net = Net(voc_len, 256, 100)\n",
    "    criterion = nn.CrossEntropyLoss()\n",
    "    optimizer = torch.optim.Adam(net.parameters(),lr=0.001)\n",
    "    epochs = 10\n",
    "    epoch_losses = []\n",
    "    for e in range(epochs):\n",
    "        batch = 0\n",
    "        epoch_loss = 0\n",
    "        running_loss = 0\n",
    "        for i, data in enumerate(train_loader, 0):\n",
    "            batch+=1\n",
    "            optimizer.zero_grad()\n",
    "            batch_x, batch_y = data\n",
    "#             print(batch_x)\n",
    "            batch_x = Variable(torch.LongTensor(batch_x))\n",
    "            batch_y = Variable(torch.LongTensor(batch_y))\n",
    "            batch_y = batch_y.reshape(batch_y.shape[0])\n",
    "            encoder_hidden = Variable(net.H_t0(batch_y.shape[0]))\n",
    "            output = net(batch_x,encoder_hidden)\n",
    "            loss = criterion(output, batch_y)\n",
    "            loss.backward()\n",
    "            optimizer.step()\n",
    "            epoch_loss += loss.data[0]\n",
    "            running_loss += loss.data[0]\n",
    "#             if batch%30==0:\n",
    "#                 epoch_losses.append(running_loss/30)\n",
    "#                 running_loss = 0\n",
    "            \n",
    "        epoch_loss /= len(train_data)/batch_size\n",
    "#         print(epoch_loss)\n",
    "        epoch_losses.append(epoch_loss)\n",
    "#     encoder_hidden_test = Variable(net.H_t0(len(x_tweet_test)))\n",
    "#     predicted_output = net(x_tweet_test,encoder_hidden_test)\n",
    "#     predicted_output = predicted_output.reshape(len(x_tweet_test),3)\n",
    "#     predicted_output = predicted_output.detach().numpy()\n",
    "#     predicted_output = np.argmax(predicted_output,axis = 1)\n",
    "#     predicted_list[one] = predicted_output\n",
    "#     ground_truth[one] = y_label_test\n",
    "#     accuracy = accuracy_score(predicted_output,y_label_test)\n",
    "#     print(accuracy)\n",
    "    plt.plot(epoch_losses)\n",
    "    plt.show()\n",
    "#     epoch_loss_all_issues[one] = epoch_losses\n",
    "    acc,pred,f1,gt = eval(test_loader, net)\n",
    "    acc_all[issue] = float(acc)\n",
    "    predicted_all[issue] = pred\n",
    "    f1_scores_all[issue] = f1\n",
    "    gt_all[issue]=gt\n",
    "    print('Accuracy: ', acc)"
   ]
  },
  {
   "cell_type": "code",
   "execution_count": null,
   "metadata": {},
   "outputs": [],
   "source": [
    "print(np.mean(np.array(list(acc_all.values()))))\n",
    "np.mean(np.array(list(f1_scores_all.values())))"
   ]
  },
  {
   "cell_type": "code",
   "execution_count": 52,
   "metadata": {},
   "outputs": [],
   "source": [
    "_,pred = torch.max(output,1)"
   ]
  },
  {
   "cell_type": "code",
   "execution_count": 53,
   "metadata": {},
   "outputs": [
    {
     "data": {
      "text/plain": [
       "tensor([-0.7606, -0.7606, -0.7606, -0.7606], grad_fn=<MaxBackward0>)"
      ]
     },
     "execution_count": 53,
     "metadata": {},
     "output_type": "execute_result"
    }
   ],
   "source": [
    "_"
   ]
  },
  {
   "cell_type": "code",
   "execution_count": 48,
   "metadata": {},
   "outputs": [
    {
     "data": {
      "text/plain": [
       "tensor([[-0.7606, -1.0054, -1.7915],\n",
       "        [-0.7606, -1.0054, -1.7915],\n",
       "        [-0.7606, -1.0054, -1.7915],\n",
       "        [-0.7606, -1.0054, -1.7915]], grad_fn=<LogSoftmaxBackward>)"
      ]
     },
     "execution_count": 48,
     "metadata": {},
     "output_type": "execute_result"
    }
   ],
   "source": [
    "output"
   ]
  },
  {
   "cell_type": "code",
   "execution_count": null,
   "metadata": {},
   "outputs": [],
   "source": [
    "rnn = nn.GRU(10, 20, 1, batch_first=True)\n",
    "input = torch.randn(32, 14000, 10)\n",
    "h0 = torch.randn(1, 3, 20)\n"
   ]
  },
  {
   "cell_type": "code",
   "execution_count": null,
   "metadata": {},
   "outputs": [],
   "source": [
    "print('Processing output')\n",
    "output, hn = rnn(input, h0)"
   ]
  }
 ],
 "metadata": {
  "kernelspec": {
   "display_name": "Python 3",
   "language": "python",
   "name": "python3"
  },
  "language_info": {
   "codemirror_mode": {
    "name": "ipython",
    "version": 3
   },
   "file_extension": ".py",
   "mimetype": "text/x-python",
   "name": "python",
   "nbconvert_exporter": "python",
   "pygments_lexer": "ipython3",
   "version": "3.5.2"
  }
 },
 "nbformat": 4,
 "nbformat_minor": 2
}
