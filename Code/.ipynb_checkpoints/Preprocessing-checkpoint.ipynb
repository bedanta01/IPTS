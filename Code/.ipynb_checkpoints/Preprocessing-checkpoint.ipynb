{
 "cells": [
  {
   "cell_type": "code",
   "execution_count": 2,
   "metadata": {},
   "outputs": [],
   "source": [
    "import nltk\n",
    "import numpy as np\n",
    "import re\n",
    "import os\n",
    "import sys\n",
    "import pandas as pd\n",
    "import requests\n",
    "import time\n",
    "from bs4 import BeautifulSoup"
   ]
  },
  {
   "cell_type": "code",
   "execution_count": null,
   "metadata": {},
   "outputs": [],
   "source": [
    "os.chdir('../Dataset')\n",
    "raw_data = pd.read_csv(\"all_politicians_tweets.csv\")"
   ]
  },
  {
   "cell_type": "code",
   "execution_count": null,
   "metadata": {},
   "outputs": [],
   "source": [
    "raw_data.head()"
   ]
  },
  {
   "cell_type": "code",
   "execution_count": null,
   "metadata": {},
   "outputs": [],
   "source": [
    "raw_data = raw_data[raw_data.Text.str.contains('RT @')==False]\n",
    "raw_data.to_csv('No_RTs.csv', index = False)"
   ]
  },
  {
   "cell_type": "code",
   "execution_count": 3,
   "metadata": {},
   "outputs": [
    {
     "data": {
      "text/html": [
       "<div>\n",
       "<style scoped>\n",
       "    .dataframe tbody tr th:only-of-type {\n",
       "        vertical-align: middle;\n",
       "    }\n",
       "\n",
       "    .dataframe tbody tr th {\n",
       "        vertical-align: top;\n",
       "    }\n",
       "\n",
       "    .dataframe thead th {\n",
       "        text-align: right;\n",
       "    }\n",
       "</style>\n",
       "<table border=\"1\" class=\"dataframe\">\n",
       "  <thead>\n",
       "    <tr style=\"text-align: right;\">\n",
       "      <th></th>\n",
       "      <th>Tweet_id</th>\n",
       "      <th>User_Name</th>\n",
       "      <th>User_Screen_Name</th>\n",
       "      <th>Text</th>\n",
       "    </tr>\n",
       "  </thead>\n",
       "  <tbody>\n",
       "    <tr>\n",
       "      <th>0</th>\n",
       "      <td>983961802395537408</td>\n",
       "      <td>Arvind Kejriwal</td>\n",
       "      <td>ArvindKejriwal</td>\n",
       "      <td>\\nBJP’s dirty politics exposed. Inside the mee...</td>\n",
       "    </tr>\n",
       "    <tr>\n",
       "      <th>1</th>\n",
       "      <td>983709192673546240</td>\n",
       "      <td>Arvind Kejriwal</td>\n",
       "      <td>ArvindKejriwal</td>\n",
       "      <td>Now that’s really cute .... just one day fast....</td>\n",
       "    </tr>\n",
       "    <tr>\n",
       "      <th>2</th>\n",
       "      <td>983581950970560512</td>\n",
       "      <td>Arvind Kejriwal</td>\n",
       "      <td>ArvindKejriwal</td>\n",
       "      <td>\\nबात नीयत की है। क्या नीयत काम की थी या केवल ...</td>\n",
       "    </tr>\n",
       "    <tr>\n",
       "      <th>3</th>\n",
       "      <td>982878153377972224</td>\n",
       "      <td>Arvind Kejriwal</td>\n",
       "      <td>ArvindKejriwal</td>\n",
       "      <td>\\nTDP MPs taken to Tughlak Road Police Stn for...</td>\n",
       "    </tr>\n",
       "    <tr>\n",
       "      <th>4</th>\n",
       "      <td>982550408617963521</td>\n",
       "      <td>Arvind Kejriwal</td>\n",
       "      <td>ArvindKejriwal</td>\n",
       "      <td>\\nदेश में राजनीति इन मुद्दों पर होनी चाहिए। न ...</td>\n",
       "    </tr>\n",
       "    <tr>\n",
       "      <th>5</th>\n",
       "      <td>982223032381915136</td>\n",
       "      <td>Arvind Kejriwal</td>\n",
       "      <td>ArvindKejriwal</td>\n",
       "      <td>Its a question of how democracy is being tramp...</td>\n",
       "    </tr>\n",
       "    <tr>\n",
       "      <th>6</th>\n",
       "      <td>982182643448954882</td>\n",
       "      <td>Arvind Kejriwal</td>\n",
       "      <td>ArvindKejriwal</td>\n",
       "      <td>NaN</td>\n",
       "    </tr>\n",
       "    <tr>\n",
       "      <th>7</th>\n",
       "      <td>981845849775915009</td>\n",
       "      <td>Arvind Kejriwal</td>\n",
       "      <td>ArvindKejriwal</td>\n",
       "      <td>\\nA no of people approach me daily worried abt...</td>\n",
       "    </tr>\n",
       "    <tr>\n",
       "      <th>8</th>\n",
       "      <td>981719918604378112</td>\n",
       "      <td>Arvind Kejriwal</td>\n",
       "      <td>ArvindKejriwal</td>\n",
       "      <td>We wish a speedy recovery to Sh Arun Jaitley j...</td>\n",
       "    </tr>\n",
       "    <tr>\n",
       "      <th>9</th>\n",
       "      <td>981170441275363328</td>\n",
       "      <td>Arvind Kejriwal</td>\n",
       "      <td>ArvindKejriwal</td>\n",
       "      <td>Exemplary action will be taken against the gui...</td>\n",
       "    </tr>\n",
       "  </tbody>\n",
       "</table>\n",
       "</div>"
      ],
      "text/plain": [
       "             Tweet_id        User_Name User_Screen_Name  \\\n",
       "0  983961802395537408  Arvind Kejriwal   ArvindKejriwal   \n",
       "1  983709192673546240  Arvind Kejriwal   ArvindKejriwal   \n",
       "2  983581950970560512  Arvind Kejriwal   ArvindKejriwal   \n",
       "3  982878153377972224  Arvind Kejriwal   ArvindKejriwal   \n",
       "4  982550408617963521  Arvind Kejriwal   ArvindKejriwal   \n",
       "5  982223032381915136  Arvind Kejriwal   ArvindKejriwal   \n",
       "6  982182643448954882  Arvind Kejriwal   ArvindKejriwal   \n",
       "7  981845849775915009  Arvind Kejriwal   ArvindKejriwal   \n",
       "8  981719918604378112  Arvind Kejriwal   ArvindKejriwal   \n",
       "9  981170441275363328  Arvind Kejriwal   ArvindKejriwal   \n",
       "\n",
       "                                                Text  \n",
       "0  \\nBJP’s dirty politics exposed. Inside the mee...  \n",
       "1  Now that’s really cute .... just one day fast....  \n",
       "2  \\nबात नीयत की है। क्या नीयत काम की थी या केवल ...  \n",
       "3  \\nTDP MPs taken to Tughlak Road Police Stn for...  \n",
       "4  \\nदेश में राजनीति इन मुद्दों पर होनी चाहिए। न ...  \n",
       "5  Its a question of how democracy is being tramp...  \n",
       "6                                                NaN  \n",
       "7  \\nA no of people approach me daily worried abt...  \n",
       "8  We wish a speedy recovery to Sh Arun Jaitley j...  \n",
       "9  Exemplary action will be taken against the gui...  "
      ]
     },
     "execution_count": 3,
     "metadata": {},
     "output_type": "execute_result"
    }
   ],
   "source": [
    "os.chdir('../Dataset')\n",
    "raw_data = pd.read_csv(\"No_RTs_quotes_added.csv\")\n",
    "raw_data.head(10)"
   ]
  },
  {
   "cell_type": "code",
   "execution_count": 4,
   "metadata": {
    "scrolled": true
   },
   "outputs": [
    {
     "name": "stderr",
     "output_type": "stream",
     "text": [
      "/anaconda3/lib/python3.6/site-packages/ipykernel_launcher.py:51: DeprecationWarning: \n",
      ".ix is deprecated. Please use\n",
      ".loc for label based indexing or\n",
      ".iloc for positional indexing\n",
      "\n",
      "See the documentation here:\n",
      "http://pandas.pydata.org/pandas-docs/stable/indexing.html#ix-indexer-is-deprecated\n"
     ]
    },
    {
     "name": "stdout",
     "output_type": "stream",
     "text": [
      "Index: 253800, count: 79 after 3.0741047660509744 mins\n",
      "Index: 253900, count: 148 after 5.312439401944478 mins\n",
      "Index: 254000, count: 228 after 8.194282114505768 mins\n",
      "Index: 254100, count: 305 after 10.763069180647532 mins\n",
      "Index: 254200, count: 396 after 13.384787913163503 mins\n",
      "Index: 254300, count: 489 after 15.890638665358226 mins\n",
      "Index: 254400, count: 583 after 18.783554418881735 mins\n",
      "Index: 254500, count: 678 after 21.172531878948213 mins\n",
      "Index: 254600, count: 768 after 23.51928549607595 mins\n",
      "Index: 254700, count: 866 after 26.124516300360362 mins\n",
      "Index: 254800, count: 964 after 28.767425747712455 mins\n",
      "Index: 254900, count: 1061 after 31.37686301867167 mins\n",
      "Index: 255000, count: 1161 after 34.17639259894689 mins\n",
      "Index: 255100, count: 1260 after 36.818976283073425 mins\n",
      "Index: 255200, count: 1359 after 39.34813534816106 mins\n",
      "Index: 255300, count: 1458 after 41.95038378238678 mins\n",
      "Index: 255400, count: 1558 after 44.58467256625493 mins\n",
      "Index: 255500, count: 1656 after 47.206716946760814 mins\n",
      "Index: 255600, count: 1756 after 49.87563973267873 mins\n",
      "Index: 255700, count: 1856 after 52.583046301205954 mins\n",
      "Index: 255800, count: 1956 after 55.25568031469981 mins\n",
      "Index: 255900, count: 2056 after 57.92286371787389 mins\n",
      "Index: 256000, count: 2156 after 60.53683838049571 mins\n"
     ]
    }
   ],
   "source": [
    "start_from = 253700\n",
    "count = 0\n",
    "start = time.time()\n",
    "for index, row in raw_data.iterrows():\n",
    "    if index <= start_from:\n",
    "        continue\n",
    "    \n",
    "    \n",
    "    text = str(row['Text'])\n",
    "    x = re.findall('http[s]?://(?:[a-zA-Z]|[0-9]|[$-_@.&+]|[!*\\(\\),]|(?:%[0-9a-fA-F][0-9a-fA-F]))+', text)\n",
    "    if x and x[0].startswith('https://t.co/'):\n",
    "        try:\n",
    "            url = x[0]\n",
    "            page = requests.get(url)\n",
    "            bsoup = BeautifulSoup(page.text, 'html.parser')\n",
    "\n",
    "            # Check if the url is a Twitter url\n",
    "            if 'Twitter' in str(bsoup.title):\n",
    "                count+=1\n",
    "                # Get tweet text from div with class: js-tweet-text-container\n",
    "                div1 = bsoup.find('div', class_='js-tweet-text-container')\n",
    "\n",
    "                # Get quoted tweet from div with class: QuoteTweet-text tweet-text u-dir js-ellipsis\n",
    "                div2 = bsoup.find('div', class_='QuoteTweet-text tweet-text u-dir js-ellipsis')\n",
    "\n",
    "                # Url has both original and quoted retweet then concatenate.\n",
    "                if div1 and div2:\n",
    "                    new_text = '{0} {1}'.format(div1.getText(), div2.getText())\n",
    "\n",
    "                # Url has only one tweet\n",
    "                elif div1:\n",
    "                    t1 = text.replace(url, '')                \n",
    "                    t2 = div1.getText()\n",
    "\n",
    "                    # If url just has complete version of tweet in sheet\n",
    "                    if t1[:len(t1)-4] in t2:\n",
    "                        new_text = t2\n",
    "\n",
    "                    # If url just has the original tweet which was retweeted\n",
    "                    else:\n",
    "                        new_text = '{0} {1}'.format(t1, t2)\n",
    "                else:\n",
    "                    new_text = text.replace(url, '')\n",
    "                #print('\\nFinal Text: {0}'.format(new_text))\n",
    "\n",
    "            else:\n",
    "                # Removing other urls\n",
    "                new_text = text.replace(url, '')\n",
    "\n",
    "            # Update text for this row\n",
    "            raw_data.ix[index, 'Text'] = new_text\n",
    "        except Exception as e:\n",
    "            print(e)\n",
    "        \n",
    "    if index%100==0:\n",
    "        end = time.time()\n",
    "        print('Index: {0}, count: {1} after {2} mins'.format(index, count, (end-start)/60))"
   ]
  },
  {
   "cell_type": "code",
   "execution_count": 5,
   "metadata": {},
   "outputs": [],
   "source": [
    "raw_data.to_csv('No_RTs_quotes_added.csv', index=False)"
   ]
  },
  {
   "cell_type": "code",
   "execution_count": 5,
   "metadata": {},
   "outputs": [
    {
     "data": {
      "text/plain": [
       "(256046, 4)"
      ]
     },
     "execution_count": 5,
     "metadata": {},
     "output_type": "execute_result"
    }
   ],
   "source": [
    "raw_data.shape\n",
    "#(230993, 4)"
   ]
  },
  {
   "cell_type": "code",
   "execution_count": null,
   "metadata": {},
   "outputs": [],
   "source": []
  },
  {
   "cell_type": "code",
   "execution_count": null,
   "metadata": {},
   "outputs": [],
   "source": []
  }
 ],
 "metadata": {
  "kernelspec": {
   "display_name": "Python 3",
   "language": "python",
   "name": "python3"
  },
  "language_info": {
   "codemirror_mode": {
    "name": "ipython",
    "version": 3
   },
   "file_extension": ".py",
   "mimetype": "text/x-python",
   "name": "python",
   "nbconvert_exporter": "python",
   "pygments_lexer": "ipython3",
   "version": "3.5.2"
  }
 },
 "nbformat": 4,
 "nbformat_minor": 2
}
