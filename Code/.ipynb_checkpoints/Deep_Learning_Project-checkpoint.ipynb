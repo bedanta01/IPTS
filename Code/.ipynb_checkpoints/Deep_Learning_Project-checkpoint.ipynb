{
 "cells": [
  {
   "cell_type": "code",
   "execution_count": 0,
   "metadata": {
    "colab": {
     "autoexec": {
      "startup": false,
      "wait_interval": 0
     }
    },
    "colab_type": "code",
    "id": "e9sPMxEf1qxn"
   },
   "outputs": [],
   "source": [
    "from os import path\n",
    "from wheel.pep425tags import get_abbr_impl, get_impl_ver, get_abi_tag\n",
    "platform = '{}{}-{}'.format(get_abbr_impl(), get_impl_ver(), get_abi_tag())\n",
    "accelerator = 'cu80' if path.exists('/opt/bin/nvidia-smi') else 'cpu'\n",
    "!pip install -q http://download.pytorch.org/whl/{accelerator}/torch-0.3.0.post4-{platform}-linux_x86_64.whl torchvision\n",
    "\n",
    "import numpy as np\n",
    "import pandas as pd\n",
    "import sys\n",
    "import os\n",
    "import matplotlib.pyplot as plt\n",
    "from collections import Counter\n",
    "import codecs\n",
    "from nltk.corpus import stopwords\n",
    "import nltk\n",
    "import csv\n",
    "import random\n",
    "import time\n",
    "from sklearn.metrics import confusion_matrix\n"
   ]
  },
  {
   "cell_type": "code",
   "execution_count": 0,
   "metadata": {
    "colab": {
     "autoexec": {
      "startup": false,
      "wait_interval": 0
     }
    },
    "colab_type": "code",
    "id": "EW9ZzcU-18zh"
   },
   "outputs": [],
   "source": [
    "#!rm -rf dataset/\n",
    "#!git clone --recursive https://github.com/viik36/dataset.git\n",
    "raw_dataframe = pd.read_csv(\"dataset/Labelled_tweets_v1 (1).csv\",header = None)"
   ]
  },
  {
   "cell_type": "code",
   "execution_count": 9,
   "metadata": {
    "colab": {
     "autoexec": {
      "startup": false,
      "wait_interval": 0
     },
     "base_uri": "https://localhost:8080/",
     "height": 51
    },
    "colab_type": "code",
    "executionInfo": {
     "elapsed": 1859,
     "status": "ok",
     "timestamp": 1525925827392,
     "user": {
      "displayName": "Rohan Tondulkar",
      "photoUrl": "https://lh3.googleusercontent.com/a/default-user=s128",
      "userId": "117493569171327128390"
     },
     "user_tz": -330
    },
    "id": "G7mflS7FRCez",
    "outputId": "695b51f0-9161-40b5-947f-d8f9c1491e2f"
   },
   "outputs": [
    {
     "name": "stdout",
     "output_type": "stream",
     "text": [
      "Labelled_tweets_v1 (1).csv  processed_file_only_tweets.csv\r\n",
      "Labelled_tweets_v1.csv\t    README.md\r\n"
     ]
    }
   ],
   "source": [
    "!ls dataset"
   ]
  },
  {
   "cell_type": "code",
   "execution_count": 44,
   "metadata": {
    "colab": {
     "autoexec": {
      "startup": false,
      "wait_interval": 0
     },
     "base_uri": "https://localhost:8080/",
     "height": 408
    },
    "colab_type": "code",
    "executionInfo": {
     "elapsed": 830,
     "status": "ok",
     "timestamp": 1525926820328,
     "user": {
      "displayName": "Rohan Tondulkar",
      "photoUrl": "https://lh3.googleusercontent.com/a/default-user=s128",
      "userId": "117493569171327128390"
     },
     "user_tz": -330
    },
    "id": "xLhtSbft5Fxn",
    "outputId": "ff41659c-475f-4d58-99e7-dd9d50d1d1c2"
   },
   "outputs": [
    {
     "name": "stdout",
     "output_type": "stream",
     "text": [
      "                                               Tweet      UserHandle Party  \\\n",
      "0  a no of people approach me daily worried abt t...  ArvindKejriwal   AAP   \n",
      "1  its now revealed that our fms silence on the p...  ArvindKejriwal   AAP   \n",
      "2  pnb scam started in is going on till today the...  ArvindKejriwal   AAP   \n",
      "3  would bjp confirm this if true what transpired...  ArvindKejriwal   AAP   \n",
      "4  bjp insiders telling that niravmodi been a reg...  ArvindKejriwal   AAP   \n",
      "5  is it possible to believe that he or vijay mal...  ArvindKejriwal   AAP   \n",
      "6  someone told me today sealing bjp wants to rui...  ArvindKejriwal   AAP   \n",
      "7  if all state govts central govt and sc togethe...  ArvindKejriwal   AAP   \n",
      "8  three killings on merchants in one year first ...  ArvindKejriwal   AAP   \n",
      "9  there is no need to increase house tax in mcd ...  ArvindKejriwal   AAP   \n",
      "\n",
      "       Issue        Stance  \n",
      "0        GST  Disagreement  \n",
      "1   PNB Scam       Neutral  \n",
      "2   PNB Scam       Neutral  \n",
      "3   PNB Scam       Neutral  \n",
      "4   PNB Scam       Neutral  \n",
      "5   PNB Scam       Neutral  \n",
      "6  FDIPolicy       Neutral  \n",
      "7  FDIPolicy       Neutral  \n",
      "8        GST  Disagreement  \n",
      "9        GST  Disagreement  \n"
     ]
    }
   ],
   "source": [
    "# data = open(\"dataset/Labelled_tweets_v1(1).csv\").readlines()\n",
    "# data[0:10]\n",
    "tweets = []\n",
    "data_pd = pd.read_csv(\"dataset/Labelled_tweets_v1 (1).csv\")\n",
    "print(data_pd.head(10))\n",
    "data_tweet = data_pd['Tweet']\n",
    "for i in data_tweet:\n",
    "  j = i.split()\n",
    "  for k in j:\n",
    "    tweets.append(k)\n",
    "    "
   ]
  },
  {
   "cell_type": "code",
   "execution_count": 45,
   "metadata": {
    "colab": {
     "autoexec": {
      "startup": false,
      "wait_interval": 0
     },
     "base_uri": "https://localhost:8080/",
     "height": 359
    },
    "colab_type": "code",
    "executionInfo": {
     "elapsed": 880,
     "status": "ok",
     "timestamp": 1525926821760,
     "user": {
      "displayName": "Rohan Tondulkar",
      "photoUrl": "https://lh3.googleusercontent.com/a/default-user=s128",
      "userId": "117493569171327128390"
     },
     "user_tz": -330
    },
    "id": "7smUiBrNfuPc",
    "outputId": "81fba7c4-0231-46e3-d3fe-4c01baf4d16a"
   },
   "outputs": [
    {
     "data": {
      "text/html": [
       "<div>\n",
       "<style scoped>\n",
       "    .dataframe tbody tr th:only-of-type {\n",
       "        vertical-align: middle;\n",
       "    }\n",
       "\n",
       "    .dataframe tbody tr th {\n",
       "        vertical-align: top;\n",
       "    }\n",
       "\n",
       "    .dataframe thead th {\n",
       "        text-align: right;\n",
       "    }\n",
       "</style>\n",
       "<table border=\"1\" class=\"dataframe\">\n",
       "  <thead>\n",
       "    <tr style=\"text-align: right;\">\n",
       "      <th></th>\n",
       "      <th>Tweet</th>\n",
       "      <th>UserHandle</th>\n",
       "      <th>Party</th>\n",
       "      <th>Issue</th>\n",
       "      <th>Stance</th>\n",
       "    </tr>\n",
       "  </thead>\n",
       "  <tbody>\n",
       "    <tr>\n",
       "      <th>0</th>\n",
       "      <td>a no of people approach me daily worried abt t...</td>\n",
       "      <td>ArvindKejriwal</td>\n",
       "      <td>AAP</td>\n",
       "      <td>GST</td>\n",
       "      <td>Disagreement</td>\n",
       "    </tr>\n",
       "    <tr>\n",
       "      <th>1</th>\n",
       "      <td>its now revealed that our fms silence on the p...</td>\n",
       "      <td>ArvindKejriwal</td>\n",
       "      <td>AAP</td>\n",
       "      <td>PNB Scam</td>\n",
       "      <td>Neutral</td>\n",
       "    </tr>\n",
       "    <tr>\n",
       "      <th>2</th>\n",
       "      <td>pnb scam started in is going on till today the...</td>\n",
       "      <td>ArvindKejriwal</td>\n",
       "      <td>AAP</td>\n",
       "      <td>PNB Scam</td>\n",
       "      <td>Neutral</td>\n",
       "    </tr>\n",
       "    <tr>\n",
       "      <th>3</th>\n",
       "      <td>would bjp confirm this if true what transpired...</td>\n",
       "      <td>ArvindKejriwal</td>\n",
       "      <td>AAP</td>\n",
       "      <td>PNB Scam</td>\n",
       "      <td>Neutral</td>\n",
       "    </tr>\n",
       "    <tr>\n",
       "      <th>4</th>\n",
       "      <td>bjp insiders telling that niravmodi been a reg...</td>\n",
       "      <td>ArvindKejriwal</td>\n",
       "      <td>AAP</td>\n",
       "      <td>PNB Scam</td>\n",
       "      <td>Neutral</td>\n",
       "    </tr>\n",
       "    <tr>\n",
       "      <th>5</th>\n",
       "      <td>is it possible to believe that he or vijay mal...</td>\n",
       "      <td>ArvindKejriwal</td>\n",
       "      <td>AAP</td>\n",
       "      <td>PNB Scam</td>\n",
       "      <td>Neutral</td>\n",
       "    </tr>\n",
       "    <tr>\n",
       "      <th>6</th>\n",
       "      <td>someone told me today sealing bjp wants to rui...</td>\n",
       "      <td>ArvindKejriwal</td>\n",
       "      <td>AAP</td>\n",
       "      <td>FDIPolicy</td>\n",
       "      <td>Neutral</td>\n",
       "    </tr>\n",
       "    <tr>\n",
       "      <th>7</th>\n",
       "      <td>if all state govts central govt and sc togethe...</td>\n",
       "      <td>ArvindKejriwal</td>\n",
       "      <td>AAP</td>\n",
       "      <td>FDIPolicy</td>\n",
       "      <td>Neutral</td>\n",
       "    </tr>\n",
       "    <tr>\n",
       "      <th>8</th>\n",
       "      <td>three killings on merchants in one year first ...</td>\n",
       "      <td>ArvindKejriwal</td>\n",
       "      <td>AAP</td>\n",
       "      <td>GST</td>\n",
       "      <td>Disagreement</td>\n",
       "    </tr>\n",
       "    <tr>\n",
       "      <th>9</th>\n",
       "      <td>there is no need to increase house tax in mcd ...</td>\n",
       "      <td>ArvindKejriwal</td>\n",
       "      <td>AAP</td>\n",
       "      <td>GST</td>\n",
       "      <td>Disagreement</td>\n",
       "    </tr>\n",
       "  </tbody>\n",
       "</table>\n",
       "</div>"
      ],
      "text/plain": [
       "                                               Tweet      UserHandle Party  \\\n",
       "0  a no of people approach me daily worried abt t...  ArvindKejriwal   AAP   \n",
       "1  its now revealed that our fms silence on the p...  ArvindKejriwal   AAP   \n",
       "2  pnb scam started in is going on till today the...  ArvindKejriwal   AAP   \n",
       "3  would bjp confirm this if true what transpired...  ArvindKejriwal   AAP   \n",
       "4  bjp insiders telling that niravmodi been a reg...  ArvindKejriwal   AAP   \n",
       "5  is it possible to believe that he or vijay mal...  ArvindKejriwal   AAP   \n",
       "6  someone told me today sealing bjp wants to rui...  ArvindKejriwal   AAP   \n",
       "7  if all state govts central govt and sc togethe...  ArvindKejriwal   AAP   \n",
       "8  three killings on merchants in one year first ...  ArvindKejriwal   AAP   \n",
       "9  there is no need to increase house tax in mcd ...  ArvindKejriwal   AAP   \n",
       "\n",
       "       Issue        Stance  \n",
       "0        GST  Disagreement  \n",
       "1   PNB Scam       Neutral  \n",
       "2   PNB Scam       Neutral  \n",
       "3   PNB Scam       Neutral  \n",
       "4   PNB Scam       Neutral  \n",
       "5   PNB Scam       Neutral  \n",
       "6  FDIPolicy       Neutral  \n",
       "7  FDIPolicy       Neutral  \n",
       "8        GST  Disagreement  \n",
       "9        GST  Disagreement  "
      ]
     },
     "execution_count": 45,
     "metadata": {
      "tags": []
     },
     "output_type": "execute_result"
    }
   ],
   "source": [
    "data_pd.head(10)"
   ]
  },
  {
   "cell_type": "code",
   "execution_count": 0,
   "metadata": {
    "colab": {
     "autoexec": {
      "startup": false,
      "wait_interval": 0
     }
    },
    "colab_type": "code",
    "id": "zi55cxodfEfJ"
   },
   "outputs": [],
   "source": [
    "#data_pd.values.tolist()[:,0]"
   ]
  },
  {
   "cell_type": "code",
   "execution_count": 0,
   "metadata": {
    "colab": {
     "autoexec": {
      "startup": false,
      "wait_interval": 0
     }
    },
    "colab_type": "code",
    "id": "kucp4xiC362_"
   },
   "outputs": [],
   "source": [
    "issues_pd = data_pd['Issue']\n",
    "stance_pd = data_pd['Stance']"
   ]
  },
  {
   "cell_type": "code",
   "execution_count": 48,
   "metadata": {
    "colab": {
     "autoexec": {
      "startup": false,
      "wait_interval": 0
     },
     "base_uri": "https://localhost:8080/",
     "height": 154
    },
    "colab_type": "code",
    "executionInfo": {
     "elapsed": 908,
     "status": "ok",
     "timestamp": 1525926824887,
     "user": {
      "displayName": "Rohan Tondulkar",
      "photoUrl": "https://lh3.googleusercontent.com/a/default-user=s128",
      "userId": "117493569171327128390"
     },
     "user_tz": -330
    },
    "id": "hvPQ76On4Gbi",
    "outputId": "79f6f53c-fe4b-43d8-a582-ceeb3470cd04"
   },
   "outputs": [
    {
     "name": "stdout",
     "output_type": "stream",
     "text": [
      "['GST', 'PNB Scam', 'FDIPolicy', 'Padmavati film screening', 'Cauvery SC Verdict', 'Jallikattu ban', 'GDP growth', 'RightToPrivacy SC Verdict', 'Demonetisation', 'Swacch Bharat', 'Aadhar linking', 'Triple Talaq SC verdict', 'TripleTalaqBill', 'lgp price hike', 'reservation', 'Beef Ban', 'Inflation control', 'nsc and ppf rate cuts', 'Ram Mandir', 'EVM tampering', 'Fodder scam', 'hike in oil prices', 'Rohingyas', 'acchedin', '0']\n"
     ]
    }
   ],
   "source": [
    "issues = []\n",
    "for iss in issues_pd:\n",
    "  if iss not in issues:\n",
    "    issues.append(iss)\n",
    "    \n",
    "print(issues)"
   ]
  },
  {
   "cell_type": "code",
   "execution_count": 0,
   "metadata": {
    "colab": {
     "autoexec": {
      "startup": false,
      "wait_interval": 0
     }
    },
    "colab_type": "code",
    "id": "u_-UONbT5oOL"
   },
   "outputs": [],
   "source": [
    "all_words = tweets\n",
    "word2cnt = Counter(all_words)\n",
    "stop_words = ['the','of','in','and','a','is','on','this','all','it','will','for','to','be','with',\n",
    "              'at','are','u','has','that','by','from', 'as','was','have','its','an','if','been','be','also','should','which']\n",
    "\n",
    "#issues = ['demonetization', 'gst', 'immigration', 'reservation', 'aadhar']"
   ]
  },
  {
   "cell_type": "code",
   "execution_count": 0,
   "metadata": {
    "colab": {
     "autoexec": {
      "startup": false,
      "wait_interval": 0
     }
    },
    "colab_type": "code",
    "id": "NOcA5Mze6Ef5"
   },
   "outputs": [],
   "source": [
    "with codecs.open('vocab_real.csv', 'w', 'utf-8') as fout:\n",
    "  fout.write(\"{}{}1000000000\\n{}{}1000000000\\n{}{}1000000000\\n{}{}1000000000\\n\".format(\"<PAD>\",\",\", \"<UNK>\",\",\", \"<S>\",\",\", \"</S>\",\",\"))\n",
    "  for word, cnt in word2cnt.most_common(len(word2cnt)):\n",
    "    if(word not in stop_words):\n",
    "      fout.write(\"{}{}{} \\n\".format(word,',',cnt))"
   ]
  },
  {
   "cell_type": "code",
   "execution_count": 0,
   "metadata": {
    "colab": {
     "autoexec": {
      "startup": false,
      "wait_interval": 0
     }
    },
    "colab_type": "code",
    "id": "WydkbsiR_3Jt"
   },
   "outputs": [],
   "source": [
    "#o = codecs.open(\"vocab.csv\").readlines()\n",
    "word_counts = pd.read_csv(\"vocab_real.csv\",header=None)"
   ]
  },
  {
   "cell_type": "code",
   "execution_count": 52,
   "metadata": {
    "colab": {
     "autoexec": {
      "startup": false,
      "wait_interval": 0
     },
     "base_uri": "https://localhost:8080/",
     "height": 359
    },
    "colab_type": "code",
    "executionInfo": {
     "elapsed": 1089,
     "status": "ok",
     "timestamp": 1525926828949,
     "user": {
      "displayName": "Rohan Tondulkar",
      "photoUrl": "https://lh3.googleusercontent.com/a/default-user=s128",
      "userId": "117493569171327128390"
     },
     "user_tz": -330
    },
    "id": "i23zn20d9tbr",
    "outputId": "90f30116-f08d-4a5b-9b47-be7a10d4e0d0"
   },
   "outputs": [
    {
     "data": {
      "text/html": [
       "<div>\n",
       "<style scoped>\n",
       "    .dataframe tbody tr th:only-of-type {\n",
       "        vertical-align: middle;\n",
       "    }\n",
       "\n",
       "    .dataframe tbody tr th {\n",
       "        vertical-align: top;\n",
       "    }\n",
       "\n",
       "    .dataframe thead th {\n",
       "        text-align: right;\n",
       "    }\n",
       "</style>\n",
       "<table border=\"1\" class=\"dataframe\">\n",
       "  <thead>\n",
       "    <tr style=\"text-align: right;\">\n",
       "      <th></th>\n",
       "      <th>0</th>\n",
       "      <th>1</th>\n",
       "    </tr>\n",
       "  </thead>\n",
       "  <tbody>\n",
       "    <tr>\n",
       "      <th>50</th>\n",
       "      <td>when</td>\n",
       "      <td>392</td>\n",
       "    </tr>\n",
       "    <tr>\n",
       "      <th>51</th>\n",
       "      <td>what</td>\n",
       "      <td>388</td>\n",
       "    </tr>\n",
       "    <tr>\n",
       "      <th>52</th>\n",
       "      <td>only</td>\n",
       "      <td>386</td>\n",
       "    </tr>\n",
       "    <tr>\n",
       "      <th>53</th>\n",
       "      <td>do</td>\n",
       "      <td>378</td>\n",
       "    </tr>\n",
       "    <tr>\n",
       "      <th>54</th>\n",
       "      <td>state</td>\n",
       "      <td>374</td>\n",
       "    </tr>\n",
       "    <tr>\n",
       "      <th>55</th>\n",
       "      <td>his</td>\n",
       "      <td>370</td>\n",
       "    </tr>\n",
       "    <tr>\n",
       "      <th>56</th>\n",
       "      <td>he</td>\n",
       "      <td>368</td>\n",
       "    </tr>\n",
       "    <tr>\n",
       "      <th>57</th>\n",
       "      <td>new</td>\n",
       "      <td>368</td>\n",
       "    </tr>\n",
       "    <tr>\n",
       "      <th>58</th>\n",
       "      <td>my</td>\n",
       "      <td>367</td>\n",
       "    </tr>\n",
       "    <tr>\n",
       "      <th>59</th>\n",
       "      <td>inflation</td>\n",
       "      <td>358</td>\n",
       "    </tr>\n",
       "  </tbody>\n",
       "</table>\n",
       "</div>"
      ],
      "text/plain": [
       "            0    1\n",
       "50       when  392\n",
       "51       what  388\n",
       "52       only  386\n",
       "53         do  378\n",
       "54      state  374\n",
       "55        his  370\n",
       "56         he  368\n",
       "57        new  368\n",
       "58         my  367\n",
       "59  inflation  358"
      ]
     },
     "execution_count": 52,
     "metadata": {
      "tags": []
     },
     "output_type": "execute_result"
    }
   ],
   "source": [
    "#len(vocab)\n",
    "word_counts[50:60]"
   ]
  },
  {
   "cell_type": "code",
   "execution_count": 0,
   "metadata": {
    "colab": {
     "autoexec": {
      "startup": false,
      "wait_interval": 0
     }
    },
    "colab_type": "code",
    "id": "zY7CRre3EJCD"
   },
   "outputs": [],
   "source": [
    "def issue_vocab(issues,want = 'issue2id'):\n",
    "  #issues = ['demonetization', 'gst', 'immigration', 'reservation', 'aadhar', 'ram mandir', 'cauvery sc verdict', 'fdipolicy', 'TripleTalaqBill ',   'Triple Talaq SC verdict']\n",
    "  \n",
    "  if(want == 'issue2id'):\n",
    "    issue2idx = {issue:idx for idx,issue in enumerate(issues)}\n",
    "    return issue2idx\n",
    "  \n",
    "  else:\n",
    "    idx2issue = {idx:issue for idx,issue in enumerate(issues)}\n",
    "    return idx2issue\n",
    "  \n",
    "  \n",
    "def sent_vocab(want = 'sent2id'):\n",
    "  sent2id = {'Disagreement':0,'Neutral':1,'Agreement':2}\n",
    "  id2sent = {0:'Disagreement',1:'Neutral',2:'Agreement'}\n",
    "  if(want == 'sent2id'):\n",
    "    return sent2id\n",
    "  \n",
    "  else:\n",
    "    #idx2issue = {idx:issue for idx,issue in enumerate(issues)}\n",
    "    return idx2sent\n",
    "\n",
    "def load_vocab():\n",
    "  load_words = open(\"vocab_real.csv\").readlines()\n",
    "  for i in range(len(load_words)):\n",
    "    load_words[i] = load_words[i].split(',')\n",
    "    \n",
    "  vocab = [load_words[i][0] for i in range(len(load_words))]\n",
    "  word2idx = {word: idx for idx, word in enumerate(vocab)}\n",
    "  idx2word = {idx: word for idx, word in enumerate(vocab)}\n",
    "  return word2idx, idx2word"
   ]
  },
  {
   "cell_type": "code",
   "execution_count": 0,
   "metadata": {
    "colab": {
     "autoexec": {
      "startup": false,
      "wait_interval": 0
     }
    },
    "colab_type": "code",
    "id": "RDKfcQPSFdaD"
   },
   "outputs": [],
   "source": [
    "def create_data(tweets, issue_, sentiments,issues):\n",
    "  stop_words = ['the','of','in','and','a','is','on','this','all','it','will','for','to','be','with',\n",
    "              'at','are','u','has','that','by','from', 'as','was','have','its','an','if','been','be','also','should','which']\n",
    "  max_tweet_size = 60\n",
    "#   for i in tweets.split():\n",
    "#     if(len(i) > max_tweet_size):\n",
    "#       max_tweet_size = len(i)\n",
    "#   print(max_tweet_size)\n",
    "  word2idx,idx2word = load_vocab()\n",
    "  issue2idx = issue_vocab(issues,'issue2id')\n",
    "  sent2idx = sent_vocab()\n",
    "  \n",
    "  x_tweet, y_issue, y_label = [], [], []\n",
    "  for tweet,issue,sent in zip(tweets, issue_, sentiments):\n",
    "    x = [word2idx.get(word, 1) for word in (tweet + u\" </S>\").split() if word not in stop_words]\n",
    "    x = np.array(x)\n",
    "    t = np.zeros(max_tweet_size)\n",
    "    if len(x)<=max_tweet_size:\n",
    "      t[:len(x)] = x\n",
    "    else:\n",
    "      t = x[:max_tweet_size]\n",
    "    \n",
    "    #print(issue)\n",
    "    y_i = [issue2idx.get(issue,1)]\n",
    "    y_l = [sent2idx.get(sent,1)]\n",
    "    \n",
    "    x_tweet.append(t)\n",
    "    y_issue.append(y_i)\n",
    "    y_label.append(y_l)\n",
    "    \n",
    "  return np.array(x_tweet), np.array(y_issue), np.array(y_label)"
   ]
  },
  {
   "cell_type": "code",
   "execution_count": 0,
   "metadata": {
    "colab": {
     "autoexec": {
      "startup": false,
      "wait_interval": 0
     }
    },
    "colab_type": "code",
    "id": "nYtQgTuNao8f"
   },
   "outputs": [],
   "source": [
    "##  THIS IS A TEST BLOCK\n",
    "\n",
    "\n",
    "#y_l = [int(np.random.randint(0,2)) for i in range(n_tweets)]\n",
    "#y_i = [issues_test[np.random.randint(0,5)] for i in range(n_tweets)]"
   ]
  },
  {
   "cell_type": "code",
   "execution_count": 0,
   "metadata": {
    "colab": {
     "autoexec": {
      "startup": false,
      "wait_interval": 0
     }
    },
    "colab_type": "code",
    "id": "cFDCHK1lbTWg"
   },
   "outputs": [],
   "source": [
    "#raw_dataframe['Tweets'] = raw_dataframe['0']\n",
    "#raw_dataframe['Issue']  = y_i\n",
    "#raw_dataframe['Label']  = y_l"
   ]
  },
  {
   "cell_type": "code",
   "execution_count": 0,
   "metadata": {
    "colab": {
     "autoexec": {
      "startup": false,
      "wait_interval": 0
     }
    },
    "colab_type": "code",
    "id": "DvPSY6Ibb9TN"
   },
   "outputs": [],
   "source": [
    "#raw_dataframe.columns = ['Tweet','Issue', 'Label']\n",
    "#raw_dataframe.head()"
   ]
  },
  {
   "cell_type": "code",
   "execution_count": 0,
   "metadata": {
    "colab": {
     "autoexec": {
      "startup": false,
      "wait_interval": 0
     }
    },
    "colab_type": "code",
    "id": "a9ODYmtmcMuw"
   },
   "outputs": [],
   "source": [
    "#raw_dataframe.to_csv(\"\")"
   ]
  },
  {
   "cell_type": "code",
   "execution_count": 59,
   "metadata": {
    "colab": {
     "autoexec": {
      "startup": false,
      "wait_interval": 0
     },
     "base_uri": "https://localhost:8080/",
     "height": 341
    },
    "colab_type": "code",
    "executionInfo": {
     "elapsed": 759,
     "status": "ok",
     "timestamp": 1525926836119,
     "user": {
      "displayName": "Rohan Tondulkar",
      "photoUrl": "https://lh3.googleusercontent.com/a/default-user=s128",
      "userId": "117493569171327128390"
     },
     "user_tz": -330
    },
    "id": "WE01QetSdelx",
    "outputId": "6ac4f19a-b1d2-4103-f337-f9c9ca79cdc8"
   },
   "outputs": [
    {
     "name": "stdout",
     "output_type": "stream",
     "text": [
      "[['a no of people approach me daily worried abt the safety of their money in banks considering large no of bank frauds coming to light daily pm may kindly inform the public which bank is safe for people to keep their money URL sir there is a big rumour people are very skeptical that their saved money in the banks can go for a toss anytime hope wish pray that you our people all of us save the hard earned money in banks improve our incomes strengthen the income tax system'\n",
      "  'ArvindKejriwal' 'AAP' 'GST' 'Disagreement']\n",
      " ['its now revealed that our fms silence on the pnb scam was to protect his lawyer daughter who was paid a large retainer by the accused just a month before the scam became public when other law firms of the accused have been raided by the cbi why not hers modirobsindia URL you know doing something right when the ruling dispensation tries to rebut a story that has not even been published yet URL'\n",
      "  'ArvindKejriwal' 'AAP' 'PNB Scam' 'Neutral']\n",
      " ['pnb scam started in is going on till today the bjp is accusing the cong and cong bjp is also on the side of cong pnb scam started in is going on till today the bjp is accusing the cong and cong bjp is the only one that all the scams of cong time are still going on earlier cong was earning now the bjp earns from those scams that is why till today the bjp has not sent a single congressman to jail in any scam'\n",
      "  'ArvindKejriwal' 'AAP' 'PNB Scam' 'Neutral']\n",
      " ...\n",
      " ['our government has started saryu jis aarti in ayodhya on the lines of ganga aarti of benaras and we want gomti jis aarti to be arranged in naimisharanya also cm shri myogiadityanathpic.twitter.com wo7g6ga9fw'\n",
      "  'BJP4UP' 'BJP' 'Ram Mandir' 'Agreement']\n",
      " ['we have resumed the launch of ramlila in ayodhya chief minister shri myogiadityanathpic.twitter.com'\n",
      "  'BJP4UP' 'BJP' 'Ram Mandir' 'Agreement']\n",
      " ['0' '0' '0' '0' '0']]\n"
     ]
    }
   ],
   "source": [
    "#data_pd.head()\n",
    "data_list = data_pd.values\n",
    "print(data_list)"
   ]
  },
  {
   "cell_type": "code",
   "execution_count": 60,
   "metadata": {
    "colab": {
     "autoexec": {
      "startup": false,
      "wait_interval": 0
     },
     "base_uri": "https://localhost:8080/",
     "height": 154
    },
    "colab_type": "code",
    "executionInfo": {
     "elapsed": 837,
     "status": "ok",
     "timestamp": 1525926837032,
     "user": {
      "displayName": "Rohan Tondulkar",
      "photoUrl": "https://lh3.googleusercontent.com/a/default-user=s128",
      "userId": "117493569171327128390"
     },
     "user_tz": -330
    },
    "id": "r5_eoYQLdv71",
    "outputId": "4c9ae620-1376-4075-9109-2bf2d1667c42"
   },
   "outputs": [
    {
     "name": "stdout",
     "output_type": "stream",
     "text": [
      "a no of people approach me daily worried abt the safety of their money in banks considering large no of bank frauds coming to light daily pm may kindly inform the public which bank is safe for people to keep their money URL sir there is a big rumour people are very skeptical that their saved money in the banks can go for a toss anytime hope wish pray that you our people all of us save the hard earned money in banks improve our incomes strengthen the income tax system GST Disagreement\n"
     ]
    }
   ],
   "source": [
    "tweets_ = data_list[:,0]\n",
    "issue_ = data_list[:,3]\n",
    "label_ = data_list[:,4]\n",
    "print(tweets_[0],issue_[0],label_[0])"
   ]
  },
  {
   "cell_type": "code",
   "execution_count": 0,
   "metadata": {
    "colab": {
     "autoexec": {
      "startup": false,
      "wait_interval": 0
     }
    },
    "colab_type": "code",
    "id": "dhgYIofheA0T"
   },
   "outputs": [],
   "source": [
    "x_tweet,y_issue, y_label = create_data(tweets_,issue_,label_,issues)\n",
    "#x_tweet,y_issue, y_label = np.array(x_tweet),np.array(y_issue), np.array(y_label)"
   ]
  },
  {
   "cell_type": "code",
   "execution_count": 62,
   "metadata": {
    "colab": {
     "autoexec": {
      "startup": false,
      "wait_interval": 0
     },
     "base_uri": "https://localhost:8080/",
     "height": 68
    },
    "colab_type": "code",
    "executionInfo": {
     "elapsed": 830,
     "status": "ok",
     "timestamp": 1525926839004,
     "user": {
      "displayName": "Rohan Tondulkar",
      "photoUrl": "https://lh3.googleusercontent.com/a/default-user=s128",
      "userId": "117493569171327128390"
     },
     "user_tz": -330
    },
    "id": "xpqvGn2M8GLx",
    "outputId": "e0cc450e-a5ec-4dce-cdc3-cf2dd4a15df8"
   },
   "outputs": [
    {
     "name": "stdout",
     "output_type": "stream",
     "text": [
      "6685 6685 6685\n",
      "836 836 836\n",
      "836 836 836\n"
     ]
    }
   ],
   "source": [
    "idx = np.arange(len(x_tweet))\n",
    "np.random.shuffle(idx)\n",
    "idx\n",
    "\n",
    "pc_80 = int(0.8 * len(x_tweet))\n",
    "pc_90 = int(0.9 * len(x_tweet))\n",
    "\n",
    "x_train = x_tweet[idx[:pc_80]]\n",
    "y_issue_train = y_issue[idx[:pc_80]]\n",
    "y_label_train = y_label[idx[:pc_80]]\n",
    "\n",
    "x_val = x_tweet[idx[pc_80:pc_90]]\n",
    "y_issue_val = y_issue[idx[pc_80:pc_90]]\n",
    "y_label_val = y_label[idx[pc_80:pc_90]]\n",
    "\n",
    "x_test = x_tweet[idx[pc_90:]]\n",
    "y_issue_test = y_issue[idx[pc_90:]]\n",
    "y_label_test = y_label[idx[pc_90:]]\n",
    "\n",
    "print(len(x_train),len(y_issue_train),len(y_label_train))\n",
    "print(len(x_test),len(y_issue_test),len(y_label_test))\n",
    "print(len(x_val),len(y_issue_val),len(y_label_val))"
   ]
  },
  {
   "cell_type": "code",
   "execution_count": 63,
   "metadata": {
    "colab": {
     "autoexec": {
      "startup": false,
      "wait_interval": 0
     },
     "base_uri": "https://localhost:8080/",
     "height": 34
    },
    "colab_type": "code",
    "executionInfo": {
     "elapsed": 1015,
     "status": "ok",
     "timestamp": 1525926840095,
     "user": {
      "displayName": "Rohan Tondulkar",
      "photoUrl": "https://lh3.googleusercontent.com/a/default-user=s128",
      "userId": "117493569171327128390"
     },
     "user_tz": -330
    },
    "id": "wyfLp52cu2ZI",
    "outputId": "2e37369a-58f5-4d10-c7fd-2943355831d0"
   },
   "outputs": [
    {
     "data": {
      "text/plain": [
       "(60,)"
      ]
     },
     "execution_count": 63,
     "metadata": {
      "tags": []
     },
     "output_type": "execute_result"
    }
   ],
   "source": [
    "x_tweet[2].shape"
   ]
  },
  {
   "cell_type": "markdown",
   "metadata": {
    "colab_type": "text",
    "id": "M-KOp0_8hdjJ"
   },
   "source": [
    "## **MODEL**"
   ]
  },
  {
   "cell_type": "code",
   "execution_count": 0,
   "metadata": {
    "colab": {
     "autoexec": {
      "startup": false,
      "wait_interval": 0
     }
    },
    "colab_type": "code",
    "id": "Eqz9hwKdhneg"
   },
   "outputs": [],
   "source": [
    "import torch as torch\n",
    "import torch.nn as nn\n",
    "import torch.nn.functional as F\n",
    "import torch.optim as optim\n",
    "from torch.autograd import Variable\n",
    "import time"
   ]
  },
  {
   "cell_type": "code",
   "execution_count": 0,
   "metadata": {
    "colab": {
     "autoexec": {
      "startup": false,
      "wait_interval": 0
     }
    },
    "colab_type": "code",
    "id": "z2VRh0ZviAaS"
   },
   "outputs": [],
   "source": []
  },
  {
   "cell_type": "markdown",
   "metadata": {
    "colab_type": "text",
    "id": "9Dx9nt_r4LSi"
   },
   "source": [
    "### **Class:**                 \n",
    "  **Encoder** [  * Encodes the input to a hidden representation*  ]           \n",
    "  **Predictor** [  *Given the final hodden state predicts the ISSUE and the LABEL* ]"
   ]
  },
  {
   "cell_type": "code",
   "execution_count": 0,
   "metadata": {
    "colab": {
     "autoexec": {
      "startup": false,
      "wait_interval": 0
     }
    },
    "colab_type": "code",
    "id": "888Kq4V8jtKr"
   },
   "outputs": [],
   "source": [
    "class Encoder(nn.Module):\n",
    "  def __init__(self,vocab_size, hidden_size):\n",
    "    super(Encoder,self).__init__()\n",
    "    self.input_size = input_size\n",
    "    self.hidden_size = hidden_size\n",
    "    \n",
    "    self.word_embeddings = nn.Embedding(vocab_size, hidden_size)\n",
    "    \n",
    "    self.GRU = nn.GRU(self.hidden_size,self.hidden_size, batch_first = True)\n",
    "    \n",
    "  def forward(self,x_input,hidden_state):\n",
    "    embedded = self.word_embeddings(x_input)\n",
    "    #print(embedded.shape)\n",
    "    #output = embedded#.view(-1,-1, self.hidden_size)\n",
    "    #print(output.shape)\n",
    "    output, hn = self.GRU(embedded,hidden_state)\n",
    "      \n",
    "    return output, hn\n",
    "\n",
    "  def H_t0(self, batch_size):\n",
    "    return torch.zeros(batch_size,1,self.hidden_size)"
   ]
  },
  {
   "cell_type": "code",
   "execution_count": 0,
   "metadata": {
    "colab": {
     "autoexec": {
      "startup": false,
      "wait_interval": 0
     }
    },
    "colab_type": "code",
    "id": "Bb3fIO6P36d1"
   },
   "outputs": [],
   "source": [
    "class Predictor(nn.Module):\n",
    "  def __init__(self,input_size,hidden_size,output_size_issue,output_size_label):\n",
    "    super(Predictor,self).__init__()\n",
    "    self.input_size = input_size\n",
    "    self.hidden_size = hidden_size\n",
    "    self.output_size_issue,self.output_size_label = output_size_issue,output_size_label\n",
    "    \n",
    "    self.softmax = nn.LogSoftmax(dim = 1)\n",
    "    self.linear_issue= nn.Linear(self.input_size,hidden_size)\n",
    "    self.out_issue = nn.Linear(self.hidden_size,output_size_issue)\n",
    "   \n",
    "    self.linear_label = nn.Linear(self.input_size, hidden_size)\n",
    "    self.out_label = nn.Linear(self.hidden_size,self.output_size_label)\n",
    "    \n",
    "  def forward(self, x_input):\n",
    "    output_1 = self.linear_issue(x_input)\n",
    "    output_1 = F.relu(output_1)\n",
    "    output_1 = self.out_issue(output_1)\n",
    "    output_1 = self.softmax(output_1)\n",
    "    \n",
    "    output_2 = self.linear_label(x_input)\n",
    "    output_2 = F.relu(output_2)\n",
    "    output_2 = self.out_label(output_2)\n",
    "    output_2 = self.softmax(output_2)\n",
    "    \n",
    "    return output_1,output_2"
   ]
  },
  {
   "cell_type": "code",
   "execution_count": 0,
   "metadata": {
    "colab": {
     "autoexec": {
      "startup": false,
      "wait_interval": 0
     }
    },
    "colab_type": "code",
    "id": "wiosV1SVNFZO"
   },
   "outputs": [],
   "source": [
    "def batches_train(batch_size, idx):\n",
    "  start =  batch_size*idx\n",
    "  end = start + batch_size\n",
    "  #print('start: {0}, End: {1}'.format(start, end))\n",
    "  #if(end>len(x_tweet)):\n",
    "  #  end = start + (len(x_tweet)-start)\n",
    "  return x_train[start:end],y_issue_train[start:end], y_label_train[start:end]"
   ]
  },
  {
   "cell_type": "code",
   "execution_count": 0,
   "metadata": {
    "colab": {
     "autoexec": {
      "startup": false,
      "wait_interval": 0
     }
    },
    "colab_type": "code",
    "id": "xu0yiMzct9sy"
   },
   "outputs": [],
   "source": [
    "def train(encoder, predictor, encoder_optimizer, predictor_optimizer, issue_criterion, label_criterion, hidden_size, issue_losses, label_losses, val_issue_losses, val_label_losses):\n",
    "    #print(len(target_label))\n",
    "    #encoder_hidden = Variable(encoder.H_t0(batch_size))\n",
    "    \n",
    "\n",
    "    \n",
    "#    target_issue_length = len(target_issue)\n",
    "#    target_label_length = len(target_label)\n",
    "\n",
    "#   encoder_outputs = Variable(torch.zeros(max_length, encoder.hidden_size))\n",
    "\n",
    "    \n",
    "    \n",
    "    entire_issue_loss = 0\n",
    "    entire_label_loss = 0\n",
    "\n",
    "    for ei in range(n_iters):\n",
    "      loss_issue = 0\n",
    "      loss_label = 0\n",
    "      encoder_optimizer.zero_grad()\n",
    "      predictor_optimizer.zero_grad()\n",
    "      encoder_hidden = Variable(encoder.H_t0(batch_size))\n",
    "      input_tensor, y_issue, y_label = batches_train(batch_size, ei)\n",
    "      #print(y_issue.shape)\n",
    "      #print(y_label.shape)\n",
    "      #print(input_tensor.shape)\n",
    "      \n",
    "      input_tensor = Variable(torch.LongTensor(input_tensor))\n",
    "      target_issue = Variable(torch.LongTensor(y_issue)).view(-1)\n",
    "   \n",
    "      #print('Target issue: {0}'.format(target_issue.shape))\n",
    "      \n",
    "      target_label = Variable(torch.LongTensor(y_label)).view(-1)\n",
    "      #print('Target label: {0}'.format(target_label.shape))\n",
    "      \n",
    "      #print(input_tensor.shape)\n",
    "      encoder_output, encoder_hidden = encoder(input_tensor, encoder_hidden)\n",
    "      #print(encoder_hidden.shape)\n",
    "      #print(encoder_output.shape)\n",
    "      #encoder_outputs[ei] = encoder_hidden[0]\n",
    "      \n",
    "      predictor_input = encoder_hidden.view(-1, hidden_size)\n",
    "      #print(predictor_input.shape)\n",
    "      predictor_issue, predictor_label = predictor(predictor_input)\n",
    "      #print(predictor_issue.shape)\n",
    "      #print(predictor_label.shape)\n",
    "      #print(predict_label[ei].shape)\n",
    "      #a, predict_issue[ei] = torch.max(predictor_issue[0], 0)\n",
    "      #a, predict_label[ei] = torch.max(predictor_label[0], 0)\n",
    "      \n",
    "      #print(target_issue.shape)\n",
    "      loss_issue = issue_criterion(predictor_issue, target_issue)\n",
    "      loss_label = label_criterion(predictor_label,target_label)\n",
    "      combined_loss = (loss_issue + loss_label)/2.0\n",
    "      combined_loss.backward(retain_graph=True)\n",
    "      \n",
    "      encoder_optimizer.step()\n",
    "      predictor_optimizer.step()\n",
    "      \n",
    "      entire_issue_loss += loss_issue.data[0] \n",
    "      entire_label_loss += loss_label.data[0]\n",
    "      \n",
    "      #avg_issue_loss = entire_issue_loss/(ei+1)\n",
    "      #avg_label_loss = entire_label_loss/(ei+1)\n",
    "      \n",
    "      if ei%50==0:\n",
    "        print('\\n')\n",
    "        print('Total loss for {0} iteration - Issue: {1}, Label: {2}'.format(ei, loss_issue.data[0], loss_label.data[0]))\n",
    "        issue_losses.append(loss_issue.data[0])\n",
    "        label_losses.append(loss_label.data[0])\n",
    "        val_issue_loss, val_label_loss = validate(encoder, predictor, hidden_size, len(x_val))\n",
    "        val_issue_losses.append(val_issue_loss) \n",
    "        val_label_losses.append(val_label_loss)\n",
    "        \n",
    "        \n",
    "      del input_tensor, y_issue, y_label, predictor_input, encoder_output, predictor_issue, predictor_label, encoder_hidden\n",
    "      \n",
    "    #issue_acc =  100*len(predict_issue[predict_issue==target_issue])/len(target_issue)\n",
    "    #label_acc =  100*len(predict_label[predict_label==target_label])/len(target_label)\n",
    "    #print('Issue Accuracy: {0}%, Label Accuracy: {1}%'.format(issue_acc, label_acc))\n",
    "      \n",
    "\n",
    "    entire_issue_loss = entire_issue_loss/n_iters\n",
    "    entire_label_loss = entire_label_loss/n_iters\n",
    "    \n",
    "    return issue_losses, label_losses, val_issue_losses, val_label_losses\n",
    "    \n",
    "\n",
    "    #return (loss_issue.item() / target_issue_length),(loss_label.item() / target_label_length)"
   ]
  },
  {
   "cell_type": "code",
   "execution_count": 0,
   "metadata": {
    "colab": {
     "autoexec": {
      "startup": false,
      "wait_interval": 0
     }
    },
    "colab_type": "code",
    "id": "F6KBnwaxymba"
   },
   "outputs": [],
   "source": [
    "def training_(encoder, predictor, epochs, hidden_size, learning_rate=0.01, batch_size = 1):\n",
    "    start = time.time()\n",
    "    issue_losses = []\n",
    "    label_losses = []\n",
    "    \n",
    "    val_issue_losses = []\n",
    "    val_label_losses = []\n",
    "    \n",
    "    print_loss_total = 0 \n",
    "    plot_loss_total = 0\n",
    "\n",
    "    encoder_optimizer = optim.Adagrad(encoder.parameters(), lr=learning_rate)\n",
    "    predictor_optimizer = optim.Adagrad(predictor.parameters(), lr=learning_rate)\n",
    "    \n",
    "    issue_criterion = nn.CrossEntropyLoss()\n",
    "    label_criterion = nn.CrossEntropyLoss()\n",
    "    #x_tweet,y_issue, y_label = create_data(tweets_,issue_,label_)\n",
    "\n",
    "    for it in range(0, epochs):\n",
    "        start = time.time()\n",
    "        issue_losses, label_losses, val_issue_losse, val_label_losses = train(encoder, predictor, encoder_optimizer, predictor_optimizer, issue_criterion, label_criterion, hidden_size, issue_losses, label_losses,\\\n",
    "                                                                              val_issue_losses, val_label_losses)\n",
    "        print('Time for epoch: {0} is {1} secs'.format(it, time.time()-start))\n",
    "    \n",
    "    return issue_losses, label_losses, val_issue_losse, val_label_losses\n",
    "    \n",
    "\n"
   ]
  },
  {
   "cell_type": "markdown",
   "metadata": {
    "colab_type": "text",
    "id": "SzT7YJ7M-Opq"
   },
   "source": []
  },
  {
   "cell_type": "markdown",
   "metadata": {
    "colab_type": "text",
    "id": "y1IjKZKmiHUw"
   },
   "source": [
    "**Hyperparameters**"
   ]
  },
  {
   "cell_type": "code",
   "execution_count": 0,
   "metadata": {
    "colab": {
     "autoexec": {
      "startup": false,
      "wait_interval": 0
     }
    },
    "colab_type": "code",
    "id": "fNvAQISgyk4p"
   },
   "outputs": [],
   "source": [
    "num_issues = len(issues)\n",
    "epochs = 10\n",
    "\n",
    "input_size = 256\n",
    "vocab_size = len(word_counts)\n",
    "output_size_issue = num_issues\n",
    "output_size_label = 3\n",
    "hidden_size = 256\n",
    "\n",
    "\n",
    "batch_size = 32 #len(x_train)\n",
    "n_iters = int(len(x_train)/batch_size)\n",
    "lr = 0.01"
   ]
  },
  {
   "cell_type": "code",
   "execution_count": 76,
   "metadata": {
    "colab": {
     "autoexec": {
      "startup": false,
      "wait_interval": 0
     },
     "base_uri": "https://localhost:8080/",
     "height": 4437
    },
    "colab_type": "code",
    "executionInfo": {
     "elapsed": 706390,
     "status": "ok",
     "timestamp": 1525927698594,
     "user": {
      "displayName": "Rohan Tondulkar",
      "photoUrl": "https://lh3.googleusercontent.com/a/default-user=s128",
      "userId": "117493569171327128390"
     },
     "user_tz": -330
    },
    "id": "8aNxQpDBNZIx",
    "outputId": "d33e109a-abf3-4df8-fdbe-b4456f1861a9"
   },
   "outputs": [
    {
     "name": "stdout",
     "output_type": "stream",
     "text": [
      "\n",
      "\n",
      "Total loss for 0 iteration - Issue: 3.133232355117798, Label: 1.0942869186401367\n",
      "Validation issue loss: 2.6718266010284424, label loss: 1.4029523134231567\n",
      "Validation issue acc: 36.60287081339713, label acc: 54.186602870813395\n",
      "\n",
      "\n",
      "Total loss for 50 iteration - Issue: 1.2799919843673706, Label: 0.8706873059272766\n",
      "Validation issue loss: 1.639238715171814, label loss: 0.8652737140655518\n",
      "Validation issue acc: 53.708133971291865, label acc: 54.066985645933016\n",
      "\n",
      "\n",
      "Total loss for 100 iteration - Issue: 1.7721951007843018, Label: 0.9960693120956421\n",
      "Validation issue loss: 1.308090090751648, label loss: 0.8605795502662659\n",
      "Validation issue acc: 60.76555023923445, label acc: 54.54545454545455\n",
      "\n",
      "\n",
      "Total loss for 150 iteration - Issue: 1.283056378364563, Label: 0.9144435524940491\n",
      "Validation issue loss: 1.181402325630188, label loss: 0.8475744724273682\n",
      "Validation issue acc: 61.8421052631579, label acc: 57.655502392344495\n",
      "\n",
      "\n",
      "Total loss for 200 iteration - Issue: 1.1381170749664307, Label: 0.8542830348014832\n",
      "Validation issue loss: 1.125442624092102, label loss: 0.820076048374176\n",
      "Validation issue acc: 63.8755980861244, label acc: 63.516746411483254\n",
      "Time for epoch: 0 is 69.654141664505 secs\n",
      "\n",
      "\n",
      "Total loss for 0 iteration - Issue: 0.7902194261550903, Label: 0.5540040731430054\n",
      "Validation issue loss: 1.0180100202560425, label loss: 0.8191120028495789\n",
      "Validation issue acc: 69.01913875598086, label acc: 65.31100478468899\n",
      "\n",
      "\n",
      "Total loss for 50 iteration - Issue: 0.6819131374359131, Label: 0.7315868735313416\n",
      "Validation issue loss: 0.9438238739967346, label loss: 0.7842475175857544\n",
      "Validation issue acc: 68.0622009569378, label acc: 65.43062200956938\n",
      "\n",
      "\n",
      "Total loss for 100 iteration - Issue: 1.254478931427002, Label: 0.8563751578330994\n",
      "Validation issue loss: 0.8479284048080444, label loss: 0.7696914076805115\n",
      "Validation issue acc: 72.12918660287082, label acc: 66.26794258373205\n",
      "\n",
      "\n",
      "Total loss for 150 iteration - Issue: 0.6780393123626709, Label: 1.0207397937774658\n",
      "Validation issue loss: 0.7930866479873657, label loss: 0.7534474730491638\n",
      "Validation issue acc: 73.80382775119617, label acc: 68.42105263157895\n",
      "\n",
      "\n",
      "Total loss for 200 iteration - Issue: 0.5816332101821899, Label: 0.6996647715568542\n",
      "Validation issue loss: 0.6850193738937378, label loss: 0.7465909123420715\n",
      "Validation issue acc: 77.03349282296651, label acc: 68.30143540669856\n",
      "Time for epoch: 1 is 69.26291108131409 secs\n",
      "\n",
      "\n",
      "Total loss for 0 iteration - Issue: 0.43329453468322754, Label: 0.4492804706096649\n",
      "Validation issue loss: 0.6745966076850891, label loss: 0.7493274211883545\n",
      "Validation issue acc: 77.63157894736842, label acc: 68.77990430622009\n",
      "\n",
      "\n",
      "Total loss for 50 iteration - Issue: 0.4590686857700348, Label: 0.6239736080169678\n",
      "Validation issue loss: 0.6232436299324036, label loss: 0.7258550524711609\n",
      "Validation issue acc: 81.33971291866028, label acc: 69.13875598086125\n",
      "\n",
      "\n",
      "Total loss for 100 iteration - Issue: 0.7007821798324585, Label: 0.7001925706863403\n",
      "Validation issue loss: 0.5788360834121704, label loss: 0.7095268368721008\n",
      "Validation issue acc: 83.61244019138756, label acc: 70.93301435406698\n",
      "\n",
      "\n",
      "Total loss for 150 iteration - Issue: 0.4829614460468292, Label: 0.9671657681465149\n",
      "Validation issue loss: 0.5227084755897522, label loss: 0.6856997609138489\n",
      "Validation issue acc: 84.21052631578948, label acc: 73.08612440191388\n",
      "\n",
      "\n",
      "Total loss for 200 iteration - Issue: 0.3166390359401703, Label: 0.5691127777099609\n",
      "Validation issue loss: 0.4593782424926758, label loss: 0.6907320618629456\n",
      "Validation issue acc: 87.4401913875598, label acc: 72.12918660287082\n",
      "Time for epoch: 2 is 68.87146735191345 secs\n",
      "\n",
      "\n",
      "Total loss for 0 iteration - Issue: 0.21196678280830383, Label: 0.38122427463531494\n",
      "Validation issue loss: 0.4340369701385498, label loss: 0.6874009966850281\n",
      "Validation issue acc: 88.03827751196172, label acc: 71.65071770334929\n",
      "\n",
      "\n",
      "Total loss for 50 iteration - Issue: 0.3436770737171173, Label: 0.49752506613731384\n",
      "Validation issue loss: 0.41833966970443726, label loss: 0.6614086627960205\n",
      "Validation issue acc: 88.39712918660287, label acc: 73.56459330143541\n",
      "\n",
      "\n",
      "Total loss for 100 iteration - Issue: 0.3854142427444458, Label: 0.5979229807853699\n",
      "Validation issue loss: 0.3574273884296417, label loss: 0.6835976839065552\n",
      "Validation issue acc: 90.19138755980862, label acc: 72.2488038277512\n",
      "\n",
      "\n",
      "Total loss for 150 iteration - Issue: 0.327513724565506, Label: 0.8601866364479065\n",
      "Validation issue loss: 0.3738251030445099, label loss: 0.6461694836616516\n",
      "Validation issue acc: 89.71291866028709, label acc: 73.08612440191388\n",
      "\n",
      "\n",
      "Total loss for 200 iteration - Issue: 0.1616072952747345, Label: 0.42889195680618286\n",
      "Validation issue loss: 0.2995496094226837, label loss: 0.6365412473678589\n",
      "Validation issue acc: 91.86602870813397, label acc: 73.44497607655502\n",
      "Time for epoch: 3 is 70.0451545715332 secs\n",
      "\n",
      "\n",
      "Total loss for 0 iteration - Issue: 0.0960073322057724, Label: 0.33855336904525757\n",
      "Validation issue loss: 0.29814600944519043, label loss: 0.6589248776435852\n",
      "Validation issue acc: 92.10526315789474, label acc: 74.04306220095694\n",
      "\n",
      "\n",
      "Total loss for 50 iteration - Issue: 0.22008824348449707, Label: 0.35148242115974426\n",
      "Validation issue loss: 0.2929523289203644, label loss: 0.637422502040863\n",
      "Validation issue acc: 91.98564593301435, label acc: 75.7177033492823\n",
      "\n",
      "\n",
      "Total loss for 100 iteration - Issue: 0.22298142313957214, Label: 0.45863524079322815\n",
      "Validation issue loss: 0.2929377853870392, label loss: 0.6740471720695496\n",
      "Validation issue acc: 92.46411483253588, label acc: 75.0\n",
      "\n",
      "\n",
      "Total loss for 150 iteration - Issue: 0.14287294447422028, Label: 0.7667806148529053\n",
      "Validation issue loss: 0.2712934613227844, label loss: 0.6622269749641418\n",
      "Validation issue acc: 92.46411483253588, label acc: 75.0\n",
      "\n",
      "\n",
      "Total loss for 200 iteration - Issue: 0.08533628284931183, Label: 0.327370285987854\n",
      "Validation issue loss: 0.2632063627243042, label loss: 0.6417899131774902\n",
      "Validation issue acc: 93.30143540669856, label acc: 76.3157894736842\n",
      "Time for epoch: 4 is 70.59761667251587 secs\n",
      "\n",
      "\n",
      "Total loss for 0 iteration - Issue: 0.04609917104244232, Label: 0.3083842694759369\n",
      "Validation issue loss: 0.26711219549179077, label loss: 0.6900736689567566\n",
      "Validation issue acc: 93.42105263157895, label acc: 75.47846889952153\n",
      "\n",
      "\n",
      "Total loss for 50 iteration - Issue: 0.14941158890724182, Label: 0.29886677861213684\n",
      "Validation issue loss: 0.2507832944393158, label loss: 0.6660292148590088\n",
      "Validation issue acc: 93.89952153110048, label acc: 76.79425837320574\n",
      "\n",
      "\n",
      "Total loss for 100 iteration - Issue: 0.13795410096645355, Label: 0.3171950876712799\n",
      "Validation issue loss: 0.25888609886169434, label loss: 0.6876224279403687\n",
      "Validation issue acc: 93.30143540669856, label acc: 75.95693779904306\n",
      "\n",
      "\n",
      "Total loss for 150 iteration - Issue: 0.07732432335615158, Label: 0.6460971832275391\n",
      "Validation issue loss: 0.2558668851852417, label loss: 0.6898245215415955\n",
      "Validation issue acc: 93.66028708133972, label acc: 75.95693779904306\n",
      "\n",
      "\n",
      "Total loss for 200 iteration - Issue: 0.06041755527257919, Label: 0.2169160097837448\n",
      "Validation issue loss: 0.25572556257247925, label loss: 0.6989389657974243\n",
      "Validation issue acc: 93.42105263157895, label acc: 75.47846889952153\n",
      "Time for epoch: 5 is 69.88695311546326 secs\n",
      "\n",
      "\n",
      "Total loss for 0 iteration - Issue: 0.02185981348156929, Label: 0.22422030568122864\n",
      "Validation issue loss: 0.25618067383766174, label loss: 0.7461138963699341\n",
      "Validation issue acc: 93.89952153110048, label acc: 75.7177033492823\n",
      "\n",
      "\n",
      "Total loss for 50 iteration - Issue: 0.097624272108078, Label: 0.19904834032058716\n",
      "Validation issue loss: 0.2600948214530945, label loss: 0.7517789006233215\n",
      "Validation issue acc: 93.89952153110048, label acc: 76.91387559808612\n",
      "\n",
      "\n",
      "Total loss for 100 iteration - Issue: 0.07540936022996902, Label: 0.19870881736278534\n",
      "Validation issue loss: 0.25900140404701233, label loss: 0.7547121047973633\n",
      "Validation issue acc: 93.0622009569378, label acc: 76.19617224880383\n",
      "\n",
      "\n",
      "Total loss for 150 iteration - Issue: 0.0711241215467453, Label: 0.49681025743484497\n",
      "Validation issue loss: 0.2706035077571869, label loss: 0.7588438391685486\n",
      "Validation issue acc: 93.66028708133972, label acc: 75.23923444976077\n",
      "\n",
      "\n",
      "Total loss for 200 iteration - Issue: 0.03652941435575485, Label: 0.14524230360984802\n",
      "Validation issue loss: 0.2611551880836487, label loss: 0.7814550995826721\n",
      "Validation issue acc: 93.66028708133972, label acc: 76.67464114832536\n",
      "Time for epoch: 6 is 71.43236184120178 secs\n",
      "\n",
      "\n",
      "Total loss for 0 iteration - Issue: 0.012661942280828953, Label: 0.19239531457424164\n",
      "Validation issue loss: 0.26097729802131653, label loss: 0.8060480356216431\n",
      "Validation issue acc: 94.13875598086125, label acc: 76.07655502392345\n",
      "\n",
      "\n",
      "Total loss for 50 iteration - Issue: 0.06941332668066025, Label: 0.1741139143705368\n",
      "Validation issue loss: 0.25941675901412964, label loss: 0.856148898601532\n",
      "Validation issue acc: 94.25837320574162, label acc: 75.95693779904306\n",
      "\n",
      "\n",
      "Total loss for 100 iteration - Issue: 0.04050004109740257, Label: 0.12163206934928894\n",
      "Validation issue loss: 0.26938310265541077, label loss: 0.8600998520851135\n",
      "Validation issue acc: 93.77990430622009, label acc: 75.35885167464114\n",
      "\n",
      "\n",
      "Total loss for 150 iteration - Issue: 0.036856915801763535, Label: 0.3743895888328552\n"
     ]
    },
    {
     "name": "stdout",
     "output_type": "stream",
     "text": [
      "Validation issue loss: 0.2743813991546631, label loss: 0.8540453910827637\n",
      "Validation issue acc: 94.01913875598086, label acc: 73.6842105263158\n",
      "\n",
      "\n",
      "Total loss for 200 iteration - Issue: 0.025721382349729538, Label: 0.09007696807384491\n",
      "Validation issue loss: 0.26473352313041687, label loss: 0.8189291954040527\n",
      "Validation issue acc: 93.89952153110048, label acc: 75.11961722488039\n",
      "Time for epoch: 7 is 72.75556445121765 secs\n",
      "\n",
      "\n",
      "Total loss for 0 iteration - Issue: 0.009048717096447945, Label: 0.20216277241706848\n",
      "Validation issue loss: 0.2674623429775238, label loss: 0.8575546145439148\n",
      "Validation issue acc: 93.77990430622009, label acc: 76.91387559808612\n",
      "\n",
      "\n",
      "Total loss for 50 iteration - Issue: 0.05749985948204994, Label: 0.15579015016555786\n",
      "Validation issue loss: 0.26722705364227295, label loss: 0.9479818344116211\n",
      "Validation issue acc: 93.66028708133972, label acc: 76.19617224880383\n",
      "\n",
      "\n",
      "Total loss for 100 iteration - Issue: 0.037257950752973557, Label: 0.05724272131919861\n",
      "Validation issue loss: 0.26622408628463745, label loss: 0.9766603112220764\n",
      "Validation issue acc: 94.13875598086125, label acc: 75.7177033492823\n",
      "\n",
      "\n",
      "Total loss for 150 iteration - Issue: 0.033745720982551575, Label: 0.17935562133789062\n",
      "Validation issue loss: 0.2763223350048065, label loss: 0.9706428050994873\n",
      "Validation issue acc: 94.01913875598086, label acc: 71.77033492822966\n",
      "\n",
      "\n",
      "Total loss for 200 iteration - Issue: 0.02385173924267292, Label: 0.27775394916534424\n",
      "Validation issue loss: 0.27190929651260376, label loss: 1.0697845220565796\n",
      "Validation issue acc: 93.89952153110048, label acc: 74.64114832535886\n",
      "Time for epoch: 8 is 71.38224983215332 secs\n",
      "\n",
      "\n",
      "Total loss for 0 iteration - Issue: 0.01061544194817543, Label: 0.07121237367391586\n",
      "Validation issue loss: 0.2607842683792114, label loss: 0.9703707098960876\n",
      "Validation issue acc: 94.13875598086125, label acc: 75.11961722488039\n",
      "\n",
      "\n",
      "Total loss for 50 iteration - Issue: 0.01951693370938301, Label: 0.12970511615276337\n",
      "Validation issue loss: 0.26745954155921936, label loss: 1.0511183738708496\n",
      "Validation issue acc: 93.77990430622009, label acc: 76.3157894736842\n",
      "\n",
      "\n",
      "Total loss for 100 iteration - Issue: 0.014358646236360073, Label: 0.03186974301934242\n",
      "Validation issue loss: 0.2535730004310608, label loss: 1.0516923666000366\n",
      "Validation issue acc: 93.77990430622009, label acc: 75.95693779904306\n",
      "\n",
      "\n",
      "Total loss for 150 iteration - Issue: 0.015593182295560837, Label: 0.07662974298000336\n",
      "Validation issue loss: 0.26257646083831787, label loss: 1.0542759895324707\n",
      "Validation issue acc: 94.01913875598086, label acc: 72.96650717703349\n",
      "\n",
      "\n",
      "Total loss for 200 iteration - Issue: 0.01547842938452959, Label: 0.023315882310271263\n",
      "Validation issue loss: 0.2553941607475281, label loss: 1.0227341651916504\n",
      "Validation issue acc: 94.61722488038278, label acc: 74.88038277511961\n",
      "Time for epoch: 9 is 71.1702880859375 secs\n"
     ]
    }
   ],
   "source": [
    "encoder = Encoder(vocab_size,hidden_size)\n",
    "predictor = Predictor(input_size,hidden_size,output_size_issue,output_size_label)\n",
    "issue_losses, label_losses, val_issue_losse, val_label_losses = training_(encoder, predictor, epochs, hidden_size, lr, batch_size)"
   ]
  },
  {
   "cell_type": "code",
   "execution_count": 77,
   "metadata": {
    "colab": {
     "autoexec": {
      "startup": false,
      "wait_interval": 0
     },
     "base_uri": "https://localhost:8080/",
     "height": 752
    },
    "colab_type": "code",
    "executionInfo": {
     "elapsed": 1386,
     "status": "ok",
     "timestamp": 1525927808756,
     "user": {
      "displayName": "Rohan Tondulkar",
      "photoUrl": "https://lh3.googleusercontent.com/a/default-user=s128",
      "userId": "117493569171327128390"
     },
     "user_tz": -330
    },
    "id": "Kn_3NtiVGfEu",
    "outputId": "6dd1e8ca-64de-4d74-cbf3-da9e852903b6"
   },
   "outputs": [
    {
     "data": {
      "text/plain": [
       "<matplotlib.legend.Legend at 0x7f0b42e08cc0>"
      ]
     },
     "execution_count": 77,
     "metadata": {
      "tags": []
     },
     "output_type": "execute_result"
    },
    {
     "data": {
      "image/png": "[encoded data removed]",
      "text/plain": [
       "<matplotlib.figure.Figure at 0x7f0b42c9e3c8>"
      ]
     },
     "metadata": {
      "tags": []
     },
     "output_type": "display_data"
    },
    {
     "data": {
      "image/png": "[encoded data removed]",
      "text/plain": [
       "<matplotlib.figure.Figure at 0x7f0b42d4f2b0>"
      ]
     },
     "metadata": {
      "tags": []
     },
     "output_type": "display_data"
    }
   ],
   "source": [
    "plt.figure()\n",
    "plt.title('Training Issue loss v/s iterations')\n",
    "plt.xlabel('Iterations')\n",
    "plt.ylabel('Loss')\n",
    "plt.plot(issue_losses, label = 'Training')\n",
    "plt.plot(val_issue_losse, label = 'Validation')\n",
    "plt.legend()\n",
    "    \n",
    "plt.figure()\n",
    "plt.title('Training Label loss v/s iterations')\n",
    "plt.xlabel('Iterations')\n",
    "plt.ylabel('Loss')\n",
    "plt.plot(label_losses, label = 'Training')\n",
    "plt.plot(val_label_losses, label = 'Validation')\n",
    "plt.legend()"
   ]
  },
  {
   "cell_type": "code",
   "execution_count": 0,
   "metadata": {
    "colab": {
     "autoexec": {
      "startup": false,
      "wait_interval": 0
     }
    },
    "colab_type": "code",
    "id": "CHtFhVtdgbiq"
   },
   "outputs": [],
   "source": [
    "def batches_test(batch_size, idx):\n",
    "  start =  batch_size*idx\n",
    "  end = start + batch_size\n",
    "  return x_test[start:end], y_issue_test[start:end], y_label_test[start:end]\n",
    "\n",
    "def batches_val(batch_size, idx):\n",
    "  start =  batch_size*idx\n",
    "  end = start + batch_size\n",
    "  return x_val[start:end], y_issue_val[start:end], y_label_val[start:end]\n",
    "\n",
    "\n",
    "def eval(encoder, predictor, hidden_size, batch_size):\n",
    "  test_num_batches = int(len(x_test)/batch_size)\n",
    "  issue_criterion = nn.CrossEntropyLoss()\n",
    "  label_criterion = nn.CrossEntropyLoss()\n",
    "  \n",
    "  total_issue_loss = 0\n",
    "  total_label_loss = 0\n",
    "  pred_issue = Variable(torch.LongTensor(len(x_test)))\n",
    "  pred_label = Variable(torch.LongTensor(len(x_test)))\n",
    "  \n",
    "  for ei in range(test_num_batches):\n",
    "      loss_issue = 0\n",
    "      loss_label = 0\n",
    "      encoder_hidden = Variable(encoder.H_t0(batch_size))\n",
    "      input_tensor, y_issue, y_label = batches_test(batch_size, ei)\n",
    "      #print(y_issue.shape)\n",
    "      #print(y_label.shape)\n",
    "      #print(input_tensor.shape)\n",
    "      \n",
    "      input_tensor = Variable(torch.LongTensor(input_tensor))\n",
    "      target_issue = Variable(torch.LongTensor(y_issue)).view(-1)\n",
    "   \n",
    "      #print('Target issue: {0}'.format(target_issue.shape))\n",
    "      \n",
    "      target_label = Variable(torch.LongTensor(y_label)).view(-1)\n",
    "      #print('Target label: {0}'.format(target_label.shape))\n",
    "      \n",
    "      #print(input_tensor.shape)\n",
    "      encoder_output, encoder_hidden = encoder(input_tensor, encoder_hidden)\n",
    "      #print(encoder_hidden.shape)\n",
    "      #print(encoder_output.shape)\n",
    "      #encoder_outputs[ei] = encoder_hidden[0]\n",
    "      \n",
    "      predictor_input = encoder_hidden.view(-1, hidden_size)\n",
    "      #print(predictor_input.shape)\n",
    "      predictor_issue, predictor_label = predictor(predictor_input)\n",
    "      _, pred_issue = torch.max(predictor_issue, 1)\n",
    "      _, pred_label = torch.max(predictor_label, 1)\n",
    "      \n",
    "      loss_issue = issue_criterion(predictor_issue, target_issue)\n",
    "      loss_label = label_criterion(predictor_label, target_label)\n",
    "      \n",
    "      total_issue_loss += loss_issue.data[0]\n",
    "      total_label_loss += loss_label.data[0]\n",
    "      \n",
    "  print('Test issue loss: {0}, label loss: {1}'.format(total_issue_loss/test_num_batches, total_label_loss/test_num_batches))\n",
    "  \n",
    "  print(pred_issue.shape)\n",
    "  print(target_issue.shape)\n",
    "  issue_acc = 100*len(pred_issue[pred_issue==target_issue])/len(x_test)\n",
    "  label_acc = 100*len(pred_label[pred_label==target_label])/len(x_test)\n",
    "  \n",
    "  print('Test issue acc: {0}, label acc: {1}'.format(issue_acc, label_acc))\n",
    "  \n",
    "  cf_issue = confusion_matrix(target_issue.data.numpy(), pred_issue.data.numpy())\n",
    "  #print(cf_issue)\n",
    "  \n",
    "  cf_label = confusion_matrix(target_label.data.numpy(), pred_label.data.numpy())\n",
    "  #print(cf_label)\n",
    "  \n",
    "  from sklearn.metrics import f1_score\n",
    "  \n",
    "  print('F1 score')\n",
    "  print(f1_score(target_issue.data.numpy(), pred_issue.data.numpy(), average='weighted') )\n",
    "  \n",
    "  print(f1_score(target_label.data.numpy(), pred_label.data.numpy(), average='weighted') )\n",
    "  \n",
    "  \n",
    "  return cf_issue, cf_label\n",
    "  \n",
    "  \n",
    "def validate(encoder, predictor, hidden_size, batch_size):\n",
    "  val_num_batches = int(len(x_val)/batch_size)\n",
    "  issue_criterion = nn.CrossEntropyLoss()\n",
    "  label_criterion = nn.CrossEntropyLoss()\n",
    "  \n",
    "  total_issue_loss = 0\n",
    "  total_label_loss = 0\n",
    "  pred_issue = Variable(torch.LongTensor(len(x_val)))\n",
    "  pred_label = Variable(torch.LongTensor(len(x_val)))\n",
    "  \n",
    "  for ei in range(val_num_batches):\n",
    "      loss_issue = 0\n",
    "      loss_label = 0\n",
    "      encoder_hidden = Variable(encoder.H_t0(batch_size))\n",
    "      input_tensor, y_issue, y_label = batches_val(batch_size, ei)\n",
    "      #print(y_issue.shape)\n",
    "      #print(y_label.shape)\n",
    "      #print(input_tensor.shape)\n",
    "      \n",
    "      input_tensor = Variable(torch.LongTensor(input_tensor))\n",
    "      target_issue = Variable(torch.LongTensor(y_issue)).view(-1)\n",
    "   \n",
    "      #print('Target issue: {0}'.format(target_issue.shape))\n",
    "      \n",
    "      target_label = Variable(torch.LongTensor(y_label)).view(-1)\n",
    "      #print('Target label: {0}'.format(target_label.shape))\n",
    "      \n",
    "      #print(input_tensor.shape)\n",
    "      encoder_output, encoder_hidden = encoder(input_tensor, encoder_hidden)\n",
    "      #print(encoder_hidden.shape)\n",
    "      #print(encoder_output.shape)\n",
    "      #encoder_outputs[ei] = encoder_hidden[0]\n",
    "      \n",
    "      predictor_input = encoder_hidden.view(-1, hidden_size)\n",
    "      #print(predictor_input.shape)\n",
    "      predictor_issue, predictor_label = predictor(predictor_input)\n",
    "      _, pred_issue = torch.max(predictor_issue, 1)\n",
    "      _, pred_label = torch.max(predictor_label, 1)\n",
    "      \n",
    "      loss_issue = issue_criterion(predictor_issue, target_issue)\n",
    "      loss_label = label_criterion(predictor_label, target_label)\n",
    "      \n",
    "      total_issue_loss += loss_issue.data[0]\n",
    "      total_label_loss += loss_label.data[0]\n",
    "      \n",
    "  print('Validation issue loss: {0}, label loss: {1}'.format(total_issue_loss/val_num_batches, total_label_loss/val_num_batches))\n",
    "  \n",
    "  #print(pred_issue.shape)\n",
    "  #print(target_issue.shape)\n",
    "  issue_acc = 100*len(pred_issue[pred_issue==target_issue])/len(x_val)\n",
    "  label_acc = 100*len(pred_label[pred_label==target_label])/len(x_val)\n",
    "  \n",
    "  print('Validation issue acc: {0}, label acc: {1}'.format(issue_acc, label_acc))\n",
    "  \n",
    "  #print(confusion_matrix(target_issue.data.numpy(), pred_issue.data.numpy()))\n",
    "  #print(confusion_matrix(target_label.data.numpy(), pred_label.data.numpy()))\n",
    "  \n",
    "  return total_issue_loss/val_num_batches, total_label_loss/val_num_batches\n",
    "    \n",
    "#eval(encoder, predictor, hidden_size, batch_size=len(x_val))"
   ]
  },
  {
   "cell_type": "code",
   "execution_count": 251,
   "metadata": {
    "colab": {
     "autoexec": {
      "startup": false,
      "wait_interval": 0
     },
     "base_uri": "https://localhost:8080/",
     "height": 34
    },
    "colab_type": "code",
    "executionInfo": {
     "elapsed": 1106,
     "status": "ok",
     "timestamp": 1525873178016,
     "user": {
      "displayName": "Bedanta Kumar Das",
      "photoUrl": "//lh4.googleusercontent.com/-txNiw2Xzebc/AAAAAAAAAAI/AAAAAAAAAAc/HwID7VDVbPY/s50-c-k-no/photo.jpg",
      "userId": "104033969002437608646"
     },
     "user_tz": -330
    },
    "id": "oRfV64mageVV",
    "outputId": "d45198e2-e0ef-4f43-f6f4-9e0845110df2"
   },
   "outputs": [
    {
     "data": {
      "text/plain": [
       "4018"
      ]
     },
     "execution_count": 251,
     "metadata": {
      "tags": []
     },
     "output_type": "execute_result"
    }
   ],
   "source": [
    "len(word_counts)"
   ]
  },
  {
   "cell_type": "code",
   "execution_count": 174,
   "metadata": {
    "colab": {
     "autoexec": {
      "startup": false,
      "wait_interval": 0
     },
     "base_uri": "https://localhost:8080/",
     "height": 425
    },
    "colab_type": "code",
    "executionInfo": {
     "elapsed": 841,
     "status": "ok",
     "timestamp": 1525907469156,
     "user": {
      "displayName": "Rohan Tondulkar",
      "photoUrl": "https://lh3.googleusercontent.com/a/default-user=s128",
      "userId": "117493569171327128390"
     },
     "user_tz": -330
    },
    "id": "FwBMkXe7H5r6",
    "outputId": "26a43a57-997b-48eb-bb5a-3a6d1f28320b"
   },
   "outputs": [
    {
     "name": "stdout",
     "output_type": "stream",
     "text": [
      "torch.Size([10, 3])\n"
     ]
    },
    {
     "data": {
      "text/plain": [
       "(Variable containing:\n",
       "  5.3454e+07\n",
       "  7.0207e+18\n",
       "  7.3103e+18\n",
       "  8.4587e+18\n",
       "  7.4544e+18\n",
       "  7.2207e+18\n",
       "  7.9577e+18\n",
       "  3.7625e+18\n",
       "  7.0178e+18\n",
       "  6.5002e+18\n",
       " [torch.LongTensor of size 10], Variable containing:\n",
       "  0\n",
       "  2\n",
       "  0\n",
       "  2\n",
       "  1\n",
       "  2\n",
       "  1\n",
       "  0\n",
       "  0\n",
       "  1\n",
       " [torch.LongTensor of size 10])"
      ]
     },
     "execution_count": 174,
     "metadata": {
      "tags": []
     },
     "output_type": "execute_result"
    }
   ],
   "source": [
    "x = Variable(torch.LongTensor(10,3))\n",
    "print(x.shape)\n",
    "torch.max(x, 1)"
   ]
  },
  {
   "cell_type": "code",
   "execution_count": 0,
   "metadata": {
    "colab": {
     "autoexec": {
      "startup": false,
      "wait_interval": 0
     }
    },
    "colab_type": "code",
    "id": "D7wcRqYXOQmb"
   },
   "outputs": [],
   "source": [
    "l = []\n",
    "stop_words = ['the','of','in','and','a','is','on','this','all','it','will','for','to','be','with',\n",
    "              'at','are','u','has','that','by','from', 'as','was','have','its','an','if','been','be','also','should','which']\n",
    "for i in tweets_:\n",
    "  x = [word for word in i.split() if word not in stop_words]\n",
    "  l.append(len(x))\n",
    "  #print(i.split())\n",
    "  #break\n",
    "  \n",
    "l = np.array(l)\n"
   ]
  },
  {
   "cell_type": "code",
   "execution_count": 144,
   "metadata": {
    "colab": {
     "autoexec": {
      "startup": false,
      "wait_interval": 0
     },
     "base_uri": "https://localhost:8080/",
     "height": 34
    },
    "colab_type": "code",
    "executionInfo": {
     "elapsed": 612,
     "status": "ok",
     "timestamp": 1525905503743,
     "user": {
      "displayName": "Rohan Tondulkar",
      "photoUrl": "https://lh3.googleusercontent.com/a/default-user=s128",
      "userId": "117493569171327128390"
     },
     "user_tz": -330
    },
    "id": "1NRQwwYCrqHb",
    "outputId": "f7c42983-9b79-44b3-b2e9-9237d0eed361"
   },
   "outputs": [
    {
     "data": {
      "text/plain": [
       "1"
      ]
     },
     "execution_count": 144,
     "metadata": {
      "tags": []
     },
     "output_type": "execute_result"
    }
   ],
   "source": [
    "len(l[l==1])"
   ]
  },
  {
   "cell_type": "code",
   "execution_count": 99,
   "metadata": {
    "colab": {
     "autoexec": {
      "startup": false,
      "wait_interval": 0
     },
     "base_uri": "https://localhost:8080/",
     "height": 230
    },
    "colab_type": "code",
    "executionInfo": {
     "elapsed": 2718,
     "status": "ok",
     "timestamp": 1525933530807,
     "user": {
      "displayName": "Rohan Tondulkar",
      "photoUrl": "https://lh3.googleusercontent.com/a/default-user=s128",
      "userId": "117493569171327128390"
     },
     "user_tz": -330
    },
    "id": "JoGuYkSZDg7Q",
    "outputId": "657775ff-cd98-4f13-9881-46aa7462640f"
   },
   "outputs": [
    {
     "name": "stdout",
     "output_type": "stream",
     "text": [
      "Test issue loss: 0.33447974920272827, label loss: 0.6763442754745483\n",
      "torch.Size([836])\n",
      "torch.Size([836])\n",
      "Test issue acc: 91.50717703349282, label acc: 75.59808612440192\n",
      "F1 score\n",
      "0.9138570785337933\n",
      "0.7461152042196911\n"
     ]
    },
    {
     "name": "stderr",
     "output_type": "stream",
     "text": [
      "/usr/local/lib/python3.6/dist-packages/sklearn/metrics/classification.py:1135: UndefinedMetricWarning: F-score is ill-defined and being set to 0.0 in labels with no predicted samples.\n",
      "  'precision', 'predicted', average, warn_for)\n"
     ]
    }
   ],
   "source": [
    "cf_issue, cf_label = eval(encoder, predictor, hidden_size, batch_size=len(x_val))"
   ]
  },
  {
   "cell_type": "code",
   "execution_count": 81,
   "metadata": {
    "colab": {
     "autoexec": {
      "startup": false,
      "wait_interval": 0
     },
     "base_uri": "https://localhost:8080/",
     "height": 2227
    },
    "colab_type": "code",
    "executionInfo": {
     "elapsed": 305821,
     "status": "ok",
     "timestamp": 1525928890382,
     "user": {
      "displayName": "Rohan Tondulkar",
      "photoUrl": "https://lh3.googleusercontent.com/a/default-user=s128",
      "userId": "117493569171327128390"
     },
     "user_tz": -330
    },
    "id": "iRk2n3t-DtKM",
    "outputId": "6f552a5d-d8c0-4624-e9b1-7dad6ec984b9"
   },
   "outputs": [
    {
     "name": "stdout",
     "output_type": "stream",
     "text": [
      "\n",
      "\n",
      "Total loss for 0 iteration - Issue: 3.2166011333465576, Label: 1.081552267074585\n",
      "Validation issue loss: 2.765751361846924, label loss: 1.0660792589187622\n",
      "Validation issue acc: 16.507177033492823, label acc: 54.066985645933016\n",
      "\n",
      "\n",
      "Total loss for 50 iteration - Issue: 1.246544599533081, Label: 0.897811770439148\n",
      "Validation issue loss: 1.510274052619934, label loss: 0.8659934401512146\n",
      "Validation issue acc: 56.578947368421055, label acc: 55.02392344497608\n",
      "\n",
      "\n",
      "Total loss for 100 iteration - Issue: 2.0170116424560547, Label: 1.0020816326141357\n",
      "Validation issue loss: 1.4707227945327759, label loss: 0.8488388657569885\n",
      "Validation issue acc: 56.100478468899524, label acc: 57.057416267942585\n",
      "\n",
      "\n",
      "Total loss for 150 iteration - Issue: 1.5391263961791992, Label: 0.897273063659668\n",
      "Validation issue loss: 1.3780710697174072, label loss: 0.8289634585380554\n",
      "Validation issue acc: 58.85167464114833, label acc: 57.77511961722488\n",
      "\n",
      "\n",
      "Total loss for 200 iteration - Issue: 1.4957150220870972, Label: 0.8527612090110779\n",
      "Validation issue loss: 1.3376652002334595, label loss: 0.814739465713501\n",
      "Validation issue acc: 60.645933014354064, label acc: 61.1244019138756\n",
      "Time for epoch: 0 is 60.8425931930542 secs\n",
      "\n",
      "\n",
      "Total loss for 0 iteration - Issue: 1.0492676496505737, Label: 0.5854212641716003\n",
      "Validation issue loss: 1.301544189453125, label loss: 0.8115684390068054\n",
      "Validation issue acc: 60.4066985645933, label acc: 63.75598086124402\n",
      "\n",
      "\n",
      "Total loss for 50 iteration - Issue: 0.9125479459762573, Label: 0.6696438193321228\n",
      "Validation issue loss: 1.1650235652923584, label loss: 0.7569164633750916\n",
      "Validation issue acc: 62.67942583732057, label acc: 68.0622009569378\n",
      "\n",
      "\n",
      "Total loss for 100 iteration - Issue: 1.5698832273483276, Label: 0.8262045383453369\n",
      "Validation issue loss: 1.1022895574569702, label loss: 0.7457343935966492\n",
      "Validation issue acc: 64.83253588516746, label acc: 68.54066985645933\n",
      "\n",
      "\n",
      "Total loss for 150 iteration - Issue: 1.2579978704452515, Label: 0.936846137046814\n",
      "Validation issue loss: 1.0288515090942383, label loss: 0.7295927405357361\n",
      "Validation issue acc: 68.66028708133972, label acc: 69.25837320574162\n",
      "\n",
      "\n",
      "Total loss for 200 iteration - Issue: 0.841831386089325, Label: 0.7038534879684448\n",
      "Validation issue loss: 0.8391861915588379, label loss: 0.7161841988563538\n",
      "Validation issue acc: 73.6842105263158, label acc: 70.2153110047847\n",
      "Time for epoch: 1 is 60.997355699539185 secs\n",
      "\n",
      "\n",
      "Total loss for 0 iteration - Issue: 0.5852582454681396, Label: 0.47054699063301086\n",
      "Validation issue loss: 0.8694178462028503, label loss: 0.7333227396011353\n",
      "Validation issue acc: 71.77033492822966, label acc: 70.2153110047847\n",
      "\n",
      "\n",
      "Total loss for 50 iteration - Issue: 0.5676579475402832, Label: 0.5252192616462708\n",
      "Validation issue loss: 0.7048364877700806, label loss: 0.7111945152282715\n",
      "Validation issue acc: 78.4688995215311, label acc: 70.69377990430623\n",
      "\n",
      "\n",
      "Total loss for 100 iteration - Issue: 0.8039806485176086, Label: 0.7240245342254639\n",
      "Validation issue loss: 0.6340013146400452, label loss: 0.680104672908783\n",
      "Validation issue acc: 79.06698564593302, label acc: 71.88995215311004\n",
      "\n",
      "\n",
      "Total loss for 150 iteration - Issue: 0.6621523499488831, Label: 0.907028079032898\n",
      "Validation issue loss: 0.5641756653785706, label loss: 0.6820303201675415\n",
      "Validation issue acc: 83.61244019138756, label acc: 72.48803827751196\n",
      "\n",
      "\n",
      "Total loss for 200 iteration - Issue: 0.3055931031703949, Label: 0.5671525597572327\n",
      "Validation issue loss: 0.472786545753479, label loss: 0.6711460947990417\n",
      "Validation issue acc: 87.4401913875598, label acc: 72.48803827751196\n",
      "Time for epoch: 2 is 60.73220610618591 secs\n",
      "\n",
      "\n",
      "Total loss for 0 iteration - Issue: 0.18896399438381195, Label: 0.42475372552871704\n",
      "Validation issue loss: 0.46464669704437256, label loss: 0.7036952972412109\n",
      "Validation issue acc: 87.32057416267942, label acc: 71.77033492822966\n",
      "\n",
      "\n",
      "Total loss for 50 iteration - Issue: 0.36435702443122864, Label: 0.37981921434402466\n",
      "Validation issue loss: 0.4192688763141632, label loss: 0.7138291597366333\n",
      "Validation issue acc: 89.5933014354067, label acc: 71.77033492822966\n",
      "\n",
      "\n",
      "Total loss for 100 iteration - Issue: 0.3070230185985565, Label: 0.5991525053977966\n",
      "Validation issue loss: 0.3689778447151184, label loss: 0.6705172061920166\n",
      "Validation issue acc: 90.43062200956938, label acc: 71.41148325358851\n",
      "\n",
      "\n",
      "Total loss for 150 iteration - Issue: 0.35648831725120544, Label: 0.7373989820480347\n",
      "Validation issue loss: 0.33375024795532227, label loss: 0.6711900234222412\n",
      "Validation issue acc: 90.66985645933015, label acc: 72.2488038277512\n",
      "\n",
      "\n",
      "Total loss for 200 iteration - Issue: 0.12714596092700958, Label: 0.3995707631111145\n",
      "Validation issue loss: 0.3055092990398407, label loss: 0.6695398092269897\n",
      "Validation issue acc: 90.66985645933015, label acc: 73.6842105263158\n",
      "Time for epoch: 3 is 60.91267442703247 secs\n",
      "\n",
      "\n",
      "Total loss for 0 iteration - Issue: 0.07434087246656418, Label: 0.3230968415737152\n",
      "Validation issue loss: 0.31198811531066895, label loss: 0.6987103819847107\n",
      "Validation issue acc: 90.43062200956938, label acc: 72.8468899521531\n",
      "\n",
      "\n",
      "Total loss for 50 iteration - Issue: 0.17960979044437408, Label: 0.2595093846321106\n",
      "Validation issue loss: 0.29474279284477234, label loss: 0.751004695892334\n",
      "Validation issue acc: 91.86602870813397, label acc: 73.44497607655502\n",
      "\n",
      "\n",
      "Total loss for 100 iteration - Issue: 0.11312689632177353, Label: 0.4922550618648529\n",
      "Validation issue loss: 0.272189199924469, label loss: 0.6923150420188904\n",
      "Validation issue acc: 92.82296650717703, label acc: 70.93301435406698\n",
      "\n",
      "\n",
      "Total loss for 150 iteration - Issue: 0.14241838455200195, Label: 0.5373392105102539\n",
      "Validation issue loss: 0.29851973056793213, label loss: 0.7253168821334839\n",
      "Validation issue acc: 91.50717703349282, label acc: 74.64114832535886\n",
      "\n",
      "\n",
      "Total loss for 200 iteration - Issue: 0.09997548162937164, Label: 0.26255205273628235\n",
      "Validation issue loss: 0.2583070993423462, label loss: 0.7136881947517395\n",
      "Validation issue acc: 92.46411483253588, label acc: 73.80382775119617\n",
      "Time for epoch: 4 is 60.7770733833313 secs\n"
     ]
    }
   ],
   "source": [
    "encoder = Encoder(vocab_size,hidden_size)\n",
    "predictor = Predictor(input_size,hidden_size,output_size_issue,output_size_label)\n",
    "issue_losses, label_losses, val_issue_losse, val_label_losses = training_(encoder, predictor, 5, hidden_size, lr, batch_size)"
   ]
  },
  {
   "cell_type": "code",
   "execution_count": 82,
   "metadata": {
    "colab": {
     "autoexec": {
      "startup": false,
      "wait_interval": 0
     },
     "base_uri": "https://localhost:8080/",
     "height": 752
    },
    "colab_type": "code",
    "executionInfo": {
     "elapsed": 1968,
     "status": "ok",
     "timestamp": 1525929131241,
     "user": {
      "displayName": "Rohan Tondulkar",
      "photoUrl": "https://lh3.googleusercontent.com/a/default-user=s128",
      "userId": "117493569171327128390"
     },
     "user_tz": -330
    },
    "id": "dLMz49R6dqw_",
    "outputId": "400201e5-6748-46ce-889a-39c4a18c218b"
   },
   "outputs": [
    {
     "data": {
      "text/plain": [
       "<matplotlib.legend.Legend at 0x7f0b42ce5cc0>"
      ]
     },
     "execution_count": 82,
     "metadata": {
      "tags": []
     },
     "output_type": "execute_result"
    },
    {
     "data": {
      "image/png": "[encoded data removed]",
      "text/plain": [
       "<matplotlib.figure.Figure at 0x7f0b42de73c8>"
      ]
     },
     "metadata": {
      "tags": []
     },
     "output_type": "display_data"
    },
    {
     "data": {
      "image/png": "[encoded data removed]",
      "text/plain": [
       "<matplotlib.figure.Figure at 0x7f0b42d9dbe0>"
      ]
     },
     "metadata": {
      "tags": []
     },
     "output_type": "display_data"
    }
   ],
   "source": [
    "plt.figure()\n",
    "plt.title('Training Issue loss v/s iterations')\n",
    "plt.xlabel('Iterations')\n",
    "plt.ylabel('Loss')\n",
    "plt.plot(issue_losses, label = 'Training')\n",
    "plt.plot(val_issue_losse, label = 'Validation')\n",
    "plt.legend()\n",
    "    \n",
    "plt.figure()\n",
    "plt.title('Training Label loss v/s iterations')\n",
    "plt.xlabel('Iterations')\n",
    "plt.ylabel('Loss')\n",
    "plt.plot(label_losses, label = 'Training')\n",
    "plt.plot(val_label_losses, label = 'Validation')\n",
    "plt.legend()"
   ]
  },
  {
   "cell_type": "code",
   "execution_count": 0,
   "metadata": {
    "colab": {
     "autoexec": {
      "startup": false,
      "wait_interval": 0
     }
    },
    "colab_type": "code",
    "id": "gfc8gnBgEXwx"
   },
   "outputs": [],
   "source": [
    "import numpy as np\n",
    "\n",
    "\n",
    "def plot_confusion_matrix(cm,\n",
    "                          target_names,\n",
    "                          title='Confusion matrix',\n",
    "                          cmap=None,\n",
    "                          normalize=True):\n",
    "    \"\"\"\n",
    "    given a sklearn confusion matrix (cm), make a nice plot\n",
    "\n",
    "    Arguments\n",
    "    ---------\n",
    "    cm:           confusion matrix from sklearn.metrics.confusion_matrix\n",
    "\n",
    "    target_names: given classification classes such as [0, 1, 2]\n",
    "                  the class names, for example: ['high', 'medium', 'low']\n",
    "\n",
    "    title:        the text to display at the top of the matrix\n",
    "\n",
    "    cmap:         the gradient of the values displayed from matplotlib.pyplot.cm\n",
    "                  see http://matplotlib.org/examples/color/colormaps_reference.html\n",
    "                  plt.get_cmap('jet') or plt.cm.Blues\n",
    "\n",
    "    normalize:    If False, plot the raw numbers\n",
    "                  If True, plot the proportions\n",
    "\n",
    "    Usage\n",
    "    -----\n",
    "    plot_confusion_matrix(cm           = cm,                  # confusion matrix created by\n",
    "                                                              # sklearn.metrics.confusion_matrix\n",
    "                          normalize    = True,                # show proportions\n",
    "                          target_names = y_labels_vals,       # list of names of the classes\n",
    "                          title        = best_estimator_name) # title of graph\n",
    "\n",
    "    Citiation\n",
    "    ---------\n",
    "    http://scikit-learn.org/stable/auto_examples/model_selection/plot_confusion_matrix.html\n",
    "\n",
    "    \"\"\"\n",
    "    import matplotlib.pyplot as plt\n",
    "    import numpy as np\n",
    "    import itertools\n",
    "\n",
    "    accuracy = np.trace(cm) / float(np.sum(cm))\n",
    "    misclass = 1 - accuracy\n",
    "\n",
    "    if cmap is None:\n",
    "        cmap = plt.get_cmap('Blues')\n",
    "\n",
    "    plt.figure(figsize=(8, 6))\n",
    "    plt.imshow(cm, interpolation='nearest', cmap=cmap)\n",
    "    plt.title(title)\n",
    "    plt.colorbar()\n",
    "\n",
    "    if target_names is not None:\n",
    "        tick_marks = np.arange(len(target_names))\n",
    "        plt.xticks(tick_marks, target_names, rotation=45)\n",
    "        plt.yticks(tick_marks, target_names)\n",
    "\n",
    "    if normalize:\n",
    "        cm = cm.astype('float') / cm.sum(axis=1)[:, np.newaxis]\n",
    "\n",
    "\n",
    "    thresh = cm.max() / 1.5 if normalize else cm.max() / 2\n",
    "    for i, j in itertools.product(range(cm.shape[0]), range(cm.shape[1])):\n",
    "        if normalize:\n",
    "            plt.text(j, i, \"{:0.4f}\".format(cm[i, j]),\n",
    "                     horizontalalignment=\"center\",\n",
    "                     color=\"white\" if cm[i, j] > thresh else \"black\")\n",
    "        else:\n",
    "            plt.text(j, i, \"{:,}\".format(cm[i, j]),\n",
    "                     horizontalalignment=\"center\",\n",
    "                     color=\"white\" if cm[i, j] > thresh else \"black\")\n",
    "\n",
    "\n",
    "    plt.tight_layout()\n",
    "    plt.ylabel('True label')\n",
    "    plt.xlabel('Predicted label\\naccuracy={:0.4f}; misclass={:0.4f}'.format(accuracy, misclass))\n",
    "    plt.show()"
   ]
  },
  {
   "cell_type": "code",
   "execution_count": 0,
   "metadata": {
    "colab": {
     "autoexec": {
      "startup": false,
      "wait_interval": 0
     }
    },
    "colab_type": "code",
    "id": "1x5E5SE7he2o"
   },
   "outputs": [],
   "source": [
    "names=['GST',\n",
    " 'PNB Scam',\n",
    " 'FDIPolicy',\n",
    " 'Padmavati film screening',\n",
    " 'Cauvery SC Verdict',\n",
    " 'Jallikattu ban',\n",
    " 'GDP growth',\n",
    " 'RightToPrivacy SC Verdict',\n",
    " 'Demonetisation',\n",
    " 'Swacch Bharat',\n",
    " 'Aadhar linking',\n",
    " 'Triple Talaq SC verdict',\n",
    " 'TripleTalaqBill',\n",
    " 'lgp price hike',\n",
    " 'reservation',\n",
    " 'Beef Ban',\n",
    " 'Inflation control',\n",
    " 'nsc and ppf rate cuts',\n",
    " 'Ram Mandir',\n",
    " 'EVM tampering',\n",
    " 'Fodder scam',\n",
    " 'hike in oil prices',\n",
    " 'Rohingyas',\n",
    " 'acchedin']\n"
   ]
  },
  {
   "cell_type": "code",
   "execution_count": 100,
   "metadata": {
    "colab": {
     "autoexec": {
      "startup": false,
      "wait_interval": 0
     },
     "base_uri": "https://localhost:8080/",
     "height": 909
    },
    "colab_type": "code",
    "executionInfo": {
     "elapsed": 4273,
     "status": "ok",
     "timestamp": 1525933547279,
     "user": {
      "displayName": "Rohan Tondulkar",
      "photoUrl": "https://lh3.googleusercontent.com/a/default-user=s128",
      "userId": "117493569171327128390"
     },
     "user_tz": -330
    },
    "id": "uJMGL00PhnKF",
    "outputId": "d0c3836a-c553-44ea-8658-903e5ccf5f79"
   },
   "outputs": [
    {
     "data": {
      "image/png": "[encoded data removed]",
      "text/plain": [
       "<matplotlib.figure.Figure at 0x7f0b42d76860>"
      ]
     },
     "metadata": {
      "tags": []
     },
     "output_type": "display_data"
    },
    {
     "data": {
      "image/png": "[encoded data removed]",
      "text/plain": [
       "<matplotlib.figure.Figure at 0x7f0b42d76c18>"
      ]
     },
     "metadata": {
      "tags": []
     },
     "output_type": "display_data"
    }
   ],
   "source": [
    "plot_confusion_matrix(cm           = cf_label, \n",
    "                      normalize    = False,\n",
    "                      target_names = ['Disagreement', 'Neutral', 'Agreement'],\n",
    "                      title        = \"Stance Prediction Confusion Matrix\")\n",
    "\n",
    "plot_confusion_matrix(cm           = cf_issue, \n",
    "                      normalize    = False,\n",
    "                      target_names = names,\n",
    "                      title        = \"Issue Prediction Confusion Matrix\")"
   ]
  },
  {
   "cell_type": "code",
   "execution_count": 0,
   "metadata": {
    "colab": {
     "autoexec": {
      "startup": false,
      "wait_interval": 0
     }
    },
    "colab_type": "code",
    "id": "gaeQUK4IiGUp"
   },
   "outputs": [],
   "source": []
  }
 ],
 "metadata": {
  "colab": {
   "collapsed_sections": [],
   "default_view": {},
   "name": "Deep Learning Project.ipynb",
   "provenance": [],
   "version": "0.3.2",
   "views": {}
  },
  "kernelspec": {
   "display_name": "Python 3",
   "language": "python",
   "name": "python3"
  },
  "language_info": {
   "codemirror_mode": {
    "name": "ipython",
    "version": 3
   },
   "file_extension": ".py",
   "mimetype": "text/x-python",
   "name": "python",
   "nbconvert_exporter": "python",
   "pygments_lexer": "ipython3",
   "version": "3.5.2"
  }
 },
 "nbformat": 4,
 "nbformat_minor": 1
}
