{
 "cells": [
  {
   "cell_type": "code",
   "execution_count": 1,
   "metadata": {},
   "outputs": [],
   "source": [
    "import numpy as np\n",
    "import pandas as pd\n",
    "import tweepy\n",
    "import os\n",
    "from tweepy import OAuthHandler\n",
    "import csv\n",
    "import json"
   ]
  },
  {
   "cell_type": "code",
   "execution_count": 2,
   "metadata": {},
   "outputs": [],
   "source": [
    "consumer_key = 'JBbZgOVsUDUbIyI3LLpS39b5A'\n",
    "consumer_secret = '6jZ4JViRsK302RTsc6KDfBccMS4mI4fGjHzScxOCJA7PvWFvIo'\n",
    "access_token = '568966944-T4wQcwC2Lm8fh2Vcgq02vY371RRlqDYqVOxx5sgE'\n",
    "access_secret = '6K7PqTYXWNx0OJoHpNuFwbEOfuXiUoZEkAUCGsSzRyvhs'\n",
    " \n",
    "auth = OAuthHandler(consumer_key, consumer_secret)\n",
    "auth.set_access_token(access_token, access_secret)\n",
    " \n",
    "api = tweepy.API(auth)"
   ]
  },
  {
   "cell_type": "code",
   "execution_count": null,
   "metadata": {},
   "outputs": [],
   "source": []
  },
  {
   "cell_type": "code",
   "execution_count": 3,
   "metadata": {
    "scrolled": true
   },
   "outputs": [
    {
     "name": "stdout",
     "output_type": "stream",
     "text": [
      "[b'ArvindKejriwal', b'CMOTamilNadu', b'Naveen_Odisha', b'rsprasad', b'arunjaitley', b'MVenkaiahNaidu', b'umasribharti', b'rajnathsingh', b'PiyushGoyal', b'PrakashJavdekar', b'SushmaSwaraj', b'sureshpprabhu', b'smritiirani', b'narendramodi', b'nitin_gadkari', b'drharshvardhan', b'nsitharaman', b'Ra_THORe', b'ChouhanShivraj', b'VasundharaBJP', b'DrJitendraSingh', b'JagadishShettar', b'mlkhattar', b'vijayrupanibjp', b'manoharparrikar', b'drramansingh', b'sarbanandsonwal', b'PemaKhanduBJP', b'myogiadityanath', b'nareshbansal14', b'BjpBiplab', b'RadhamohanBJP', b'girirajsinghbjp', b'Ramlal', b'shivprakashbjp', b'aniljaindr', b'S_MahajanLS', b'Sunil_Deodhar', b'HardeepSPuri', b'SharmaKhemchand', b'OmMathur_bjp', b'Dev_Fadnavis', b'AmitShah', b'erpankajvyas', b'tsrawatbjp', b'byadavbjp', b'ArunSinghbjp', b'KailashOnline', b'kishanreddybjp', b'ShelarAshish', b'upadhyaysbjp', b'mangalpandeybjp', b'jayantsinha', b'rammadhavbjp', b'naqvimukhtar', b'SushilModi', b'ghulamnazad', b'ABHAYCHAUTALA', b'OmarAbdullah', b'chennithala', b'Siddaramaiah4CM', b'capt_amarinder', b'VNarayanasami', b'RahulGandhi', b'SashiTharoor', b'Jairam_Ramesh', b'NitishKumar', b'iramvilaspaswan', b'vijayanpinarayi', b'ncbn', b'MamataOfficial', b'dineshgrao', b'thekjgeorge', b'PriyankKharge', b'krishnabgowda', b'SachinPilot', b'Sunil_Deodhar', b'malviyamit', b'laluprasadrjd', b'rajeshkdixit', b'ManishTewari', b'asadowaisi', b'ShuklaRajiv', b'ajaymaken', b'PChidambaram_IN', b'PavanK_Varma', b'Yashwant Sinha', b'SheilaDikshit', b'rssurjewala', b'RajBabbarMP', b'ShankersinhBapu', b'DeependerSHooda', b'harishrawatcmuk', b'virbhadrasingh', b'capt_amarinder', b'prithvrj', b'ashokgehlot51', b'sanjaynirupam', b'RajaBrar_INC', b'varungandhi80', b'TarunTewatiadyc', b'RaghusharmaINC', b'SachinKunduIYC', b'paresh_dhanani', b'jitupatwari', b'ahmedpatel', b'PawarSpeaks', b'KamalKishor_INC', b'SharadYadavMP', b'KapilSibal', b'milinddeora', b'JhaSanjay', b'MPNaveenJindal', b'AmitChavdaINC', b'dpradhanbjp', b'JitinPrasada', b'supriya_sule', b'PriyaDutt_INC', b'arjunmodhwadia', b'meira_kumar', b'priyankac19', b'sherryontopp', b'Pawankhera', b'SATAVRAJEEV', b'divyaspandana', b'RajaBrar_INC', b'tarun_gogoi', b'NabamtukiCM', b'yadavtejashwi', b'yadavakhilesh', b'JM_Scindia', b'RVikhePatil', b'shewale_rahul', b'bsmajithia', b'Dr_Cheema1', b'mssirsa', b'mieknathshinde', b'Subhash_Desai', b'GajananKirtikar', b'BhagwantMann', b'AnkitLal', b'DrSEShinde', b'AUThackeray', b'Sharmistha_GK', b'AmritaDhawan1', b'praful_patel', b'RamaAIADMK', b'mafoikprajan', b'Hariadmk', b'ptrmadurai', b'derekobrienmp', b'abhishekaitc', b'Swamy39']\n"
     ]
    }
   ],
   "source": [
    "os.chdir('../Dataset')\n",
    "politicians_df = pd.read_csv('politicians.csv')\n",
    "politicians = politicians_df['Twitter Handle'].values\n",
    "politicians = [p.encode('ascii', 'ignore') for p in politicians]\n",
    "politicians = [p.strip() for p in politicians]\n",
    "print(politicians)"
   ]
  },
  {
   "cell_type": "code",
   "execution_count": 15,
   "metadata": {},
   "outputs": [],
   "source": [
    "def get_user_tweets(screen_name, count = 200, from_id = None):\n",
    "    print('Fetching tweets for user: {0}'.format(screen_name))\n",
    "    all_tweets = []\n",
    "    if not from_id:\n",
    "        new_tweets = api.user_timeline(screen_name = screen_name, count = count)\n",
    "    else:\n",
    "        new_tweets = api.user_timeline(screen_name = screen_name, count = count, max_id = from_id)\n",
    "        \n",
    "    all_tweets.extend(new_tweets)\n",
    "    oldest = all_tweets[-1].id - 1\n",
    "    \n",
    "    try:\n",
    "        while len(new_tweets) > 0:\n",
    "            new_tweets = api.user_timeline(screen_name = screen_name,count=200,max_id=oldest)\n",
    "            #print('Added {0} new tweets'.format(len(new_tweets)))\n",
    "            all_tweets.extend(new_tweets)\n",
    "            oldest = all_tweets[-1].id - 1\n",
    "    except Exception as e:\n",
    "        print(str(e))\n",
    "        \n",
    "    print('Total tweets for {0}: {1}'.format(screen_name, len(all_tweets)))\n",
    "    return all_tweets\n",
    "\n",
    "def is_retweet(tweet):\n",
    "    return 'RT @' in tweet.text"
   ]
  },
  {
   "cell_type": "code",
   "execution_count": null,
   "metadata": {},
   "outputs": [],
   "source": []
  },
  {
   "cell_type": "code",
   "execution_count": 84,
   "metadata": {},
   "outputs": [
    {
     "name": "stdout",
     "output_type": "stream",
     "text": [
      "True\n",
      "ArvindKejriwal\n",
      "Arvind Kejriwal\n",
      "983891599804583936\n",
      "RT @ashu3page: अब कांग्रेस शासित पुद्दुचेरी के मुख्यमंत्री कह रहे हैं कि उपराज्यपाल उनके सरकार की फाइलों को ब्लॉक कर रही हैं। 2 दिन पहले ही…\n"
     ]
    }
   ],
   "source": [
    "a = tweets[10]\n",
    "print('RT @' in a.text)\n",
    "print(a.user.screen_name)\n",
    "print(a.user.name)\n",
    "print(a.id_str)\n",
    "print(a.text)"
   ]
  },
  {
   "cell_type": "code",
   "execution_count": 16,
   "metadata": {
    "scrolled": true
   },
   "outputs": [
    {
     "name": "stdout",
     "output_type": "stream",
     "text": [
      "Fetching tweets for user: b'ShuklaRajiv'\n",
      "Total tweets for b'ShuklaRajiv': 2289\n",
      "Fetching tweets for user: b'ajaymaken'\n",
      "Total tweets for b'ajaymaken': 3236\n",
      "Fetching tweets for user: b'PChidambaram_IN'\n",
      "Total tweets for b'PChidambaram_IN': 1269\n",
      "Fetching tweets for user: b'PavanK_Varma'\n",
      "Total tweets for b'PavanK_Varma': 729\n",
      "Fetching tweets for user: b'Yashwant Sinha'\n",
      "Total tweets for b'Yashwant Sinha': 616\n",
      "Fetching tweets for user: b'SheilaDikshit'\n",
      "Total tweets for b'SheilaDikshit': 277\n",
      "Fetching tweets for user: b'rssurjewala'\n",
      "Total tweets for b'rssurjewala': 3226\n",
      "Fetching tweets for user: b'RajBabbarMP'\n",
      "Total tweets for b'RajBabbarMP': 1363\n",
      "Fetching tweets for user: b'ShankersinhBapu'\n",
      "Total tweets for b'ShankersinhBapu': 1286\n",
      "Fetching tweets for user: b'DeependerSHooda'\n",
      "Total tweets for b'DeependerSHooda': 3231\n",
      "Fetching tweets for user: b'harishrawatcmuk'\n",
      "Total tweets for b'harishrawatcmuk': 3210\n",
      "Fetching tweets for user: b'virbhadrasingh'\n",
      "Total tweets for b'virbhadrasingh': 3137\n",
      "Fetching tweets for user: b'capt_amarinder'\n",
      "Total tweets for b'capt_amarinder': 2456\n",
      "Fetching tweets for user: b'prithvrj'\n",
      "Total tweets for b'prithvrj': 621\n",
      "Fetching tweets for user: b'ashokgehlot51'\n",
      "Total tweets for b'ashokgehlot51': 3220\n",
      "Fetching tweets for user: b'sanjaynirupam'\n",
      "Total tweets for b'sanjaynirupam': 3232\n",
      "Fetching tweets for user: b'RajaBrar_INC'\n",
      "Total tweets for b'RajaBrar_INC': 3216\n",
      "Fetching tweets for user: b'varungandhi80'\n",
      "Total tweets for b'varungandhi80': 549\n",
      "Fetching tweets for user: b'TarunTewatiadyc'\n",
      "Total tweets for b'TarunTewatiadyc': 864\n",
      "Fetching tweets for user: b'RaghusharmaINC'\n",
      "Total tweets for b'RaghusharmaINC': 260\n",
      "Fetching tweets for user: b'SachinKunduIYC'\n",
      "Total tweets for b'SachinKunduIYC': 616\n",
      "Fetching tweets for user: b'paresh_dhanani'\n",
      "Total tweets for b'paresh_dhanani': 391\n",
      "Fetching tweets for user: b'jitupatwari'\n",
      "Total tweets for b'jitupatwari': 3226\n",
      "Fetching tweets for user: b'ahmedpatel'\n",
      "Total tweets for b'ahmedpatel': 1131\n",
      "Fetching tweets for user: b'PawarSpeaks'\n",
      "Total tweets for b'PawarSpeaks': 912\n",
      "Fetching tweets for user: b'KamalKishor_INC'\n",
      "Total tweets for b'KamalKishor_INC': 1227\n",
      "Fetching tweets for user: b'SharadYadavMP'\n",
      "Total tweets for b'SharadYadavMP': 1864\n",
      "Fetching tweets for user: b'KapilSibal'\n",
      "Total tweets for b'KapilSibal': 557\n",
      "Fetching tweets for user: b'milinddeora'\n",
      "Total tweets for b'milinddeora': 3202\n",
      "Fetching tweets for user: b'JhaSanjay'\n",
      "Total tweets for b'JhaSanjay': 3205\n",
      "Fetching tweets for user: b'MPNaveenJindal'\n",
      "[{'message': 'Internal error', 'code': 131}]\n",
      "Total tweets for b'MPNaveenJindal': 199\n",
      "Fetching tweets for user: b'AmitChavdaINC'\n",
      "Total tweets for b'AmitChavdaINC': 340\n",
      "Fetching tweets for user: b'dpradhanbjp'\n",
      "Total tweets for b'dpradhanbjp': 3211\n",
      "Fetching tweets for user: b'JitinPrasada'\n",
      "Total tweets for b'JitinPrasada': 488\n",
      "Fetching tweets for user: b'supriya_sule'\n",
      "Total tweets for b'supriya_sule': 3236\n",
      "Fetching tweets for user: b'PriyaDutt_INC'\n",
      "Total tweets for b'PriyaDutt_INC': 771\n",
      "Fetching tweets for user: b'arjunmodhwadia'\n",
      "Total tweets for b'arjunmodhwadia': 3247\n",
      "Fetching tweets for user: b'meira_kumar'\n",
      "Total tweets for b'meira_kumar': 332\n",
      "Fetching tweets for user: b'priyankac19'\n",
      "Total tweets for b'priyankac19': 3222\n",
      "Fetching tweets for user: b'sherryontopp'\n",
      "Total tweets for b'sherryontopp': 266\n",
      "Fetching tweets for user: b'Pawankhera'\n",
      "Total tweets for b'Pawankhera': 3219\n",
      "Fetching tweets for user: b'SATAVRAJEEV'\n",
      "Total tweets for b'SATAVRAJEEV': 3221\n",
      "Fetching tweets for user: b'divyaspandana'\n",
      "Total tweets for b'divyaspandana': 3208\n",
      "Fetching tweets for user: b'RajaBrar_INC'\n",
      "Total tweets for b'RajaBrar_INC': 3216\n",
      "Fetching tweets for user: b'tarun_gogoi'\n",
      "Total tweets for b'tarun_gogoi': 3248\n",
      "Fetching tweets for user: b'NabamtukiCM'\n",
      "Total tweets for b'NabamtukiCM': 3207\n",
      "Fetching tweets for user: b'yadavtejashwi'\n",
      "Total tweets for b'yadavtejashwi': 3215\n",
      "Fetching tweets for user: b'yadavakhilesh'\n",
      "Total tweets for b'yadavakhilesh': 1531\n",
      "Fetching tweets for user: b'JM_Scindia'\n",
      "Total tweets for b'JM_Scindia': 2119\n",
      "Fetching tweets for user: b'RVikhePatil'\n",
      "Total tweets for b'RVikhePatil': 3212\n",
      "Fetching tweets for user: b'shewale_rahul'\n",
      "Total tweets for b'shewale_rahul': 1186\n",
      "Fetching tweets for user: b'bsmajithia'\n",
      "Total tweets for b'bsmajithia': 2888\n",
      "Fetching tweets for user: b'Dr_Cheema1'\n",
      "Total tweets for b'Dr_Cheema1': 1649\n",
      "Fetching tweets for user: b'mssirsa'\n",
      "Total tweets for b'mssirsa': 3197\n",
      "Fetching tweets for user: b'mieknathshinde'\n",
      "Total tweets for b'mieknathshinde': 2453\n",
      "Fetching tweets for user: b'Subhash_Desai'\n",
      "Total tweets for b'Subhash_Desai': 1328\n",
      "Fetching tweets for user: b'GajananKirtikar'\n",
      "Total tweets for b'GajananKirtikar': 2711\n",
      "Fetching tweets for user: b'BhagwantMann'\n",
      "Total tweets for b'BhagwantMann': 1567\n",
      "Fetching tweets for user: b'AnkitLal'\n",
      "Total tweets for b'AnkitLal': 3218\n",
      "Fetching tweets for user: b'DrSEShinde'\n",
      "Total tweets for b'DrSEShinde': 3018\n",
      "Fetching tweets for user: b'AUThackeray'\n",
      "Total tweets for b'AUThackeray': 3246\n",
      "Fetching tweets for user: b'Sharmistha_GK'\n",
      "Total tweets for b'Sharmistha_GK': 3233\n",
      "Fetching tweets for user: b'AmritaDhawan1'\n",
      "Total tweets for b'AmritaDhawan1': 3204\n",
      "Fetching tweets for user: b'praful_patel'\n",
      "Total tweets for b'praful_patel': 2703\n",
      "Fetching tweets for user: b'RamaAIADMK'\n",
      "Total tweets for b'RamaAIADMK': 3139\n",
      "Fetching tweets for user: b'mafoikprajan'\n",
      "Total tweets for b'mafoikprajan': 3195\n",
      "Fetching tweets for user: b'Hariadmk'\n",
      "Total tweets for b'Hariadmk': 3238\n",
      "Fetching tweets for user: b'ptrmadurai'\n",
      "Total tweets for b'ptrmadurai': 3126\n",
      "Fetching tweets for user: b'derekobrienmp'\n",
      "Total tweets for b'derekobrienmp': 3217\n",
      "Fetching tweets for user: b'abhishekaitc'\n",
      "Total tweets for b'abhishekaitc': 1082\n",
      "Fetching tweets for user: b'Swamy39'\n",
      "Total tweets for b'Swamy39': 3212\n"
     ]
    }
   ],
   "source": [
    "tweets = []\n",
    "for p in politicians[82:]:\n",
    "    try:\n",
    "        p_tweets = get_user_tweets(p, count = 200)\n",
    "        tweets.extend(p_tweets)\n",
    "    except Exception as e:\n",
    "        print('Exception {0} while fetching tweets for {1}'.format(e, p))"
   ]
  },
  {
   "cell_type": "code",
   "execution_count": null,
   "metadata": {},
   "outputs": [],
   "source": []
  },
  {
   "cell_type": "code",
   "execution_count": 17,
   "metadata": {},
   "outputs": [],
   "source": [
    "with open('tweets1.csv', 'w') as f:\n",
    "    writer = csv.writer(f)\n",
    "    writer.writerow([\"Tweet_id\", \"User_Name\", \"User_Screen_Name\", \"Text\"] )\n",
    "    for tweet in tweets:\n",
    "        if not is_retweet(tweet):\n",
    "            writer.writerow([tweet.id_str, tweet.user.name, tweet.user.screen_name, tweet.text])"
   ]
  },
  {
   "cell_type": "code",
   "execution_count": 18,
   "metadata": {},
   "outputs": [
    {
     "data": {
      "text/plain": [
       "155136"
      ]
     },
     "execution_count": 18,
     "metadata": {},
     "output_type": "execute_result"
    }
   ],
   "source": [
    "len(tweets)"
   ]
  },
  {
   "cell_type": "code",
   "execution_count": null,
   "metadata": {},
   "outputs": [],
   "source": []
  },
  {
   "cell_type": "code",
   "execution_count": null,
   "metadata": {},
   "outputs": [],
   "source": []
  }
 ],
 "metadata": {
  "kernelspec": {
   "display_name": "Python 3",
   "language": "python",
   "name": "python3"
  },
  "language_info": {
   "codemirror_mode": {
    "name": "ipython",
    "version": 3
   },
   "file_extension": ".py",
   "mimetype": "text/x-python",
   "name": "python",
   "nbconvert_exporter": "python",
   "pygments_lexer": "ipython3",
   "version": "3.5.2"
  }
 },
 "nbformat": 4,
 "nbformat_minor": 2
}
